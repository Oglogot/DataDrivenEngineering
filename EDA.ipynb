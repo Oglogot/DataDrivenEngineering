{
 "cells": [
  {
   "cell_type": "code",
   "execution_count": 3,
   "metadata": {},
   "outputs": [],
   "source": [
    "# Импорт библитек, необходимых для EDA\n",
    "import numpy as np\n",
    "import pandas as pd\n",
    "import plotly.express as px\n",
    "from scipy import stats\n",
    "from plotly.subplots import make_subplots\n",
    "from matplotlib import pyplot as plt\n",
    "import seaborn as sns\n",
    "colors = ['#b5de2b', '#6ece58', '#35b779', '#1f9e89', '#26828e', '#31688e', '#3e4989', '#482878', '#440154', '#253494', '#225ea8', '#1d91c0','#41b6c4','#7fcdbb','#c7e9b4','#edf8b1','#ffffd9']"
   ]
  },
  {
   "cell_type": "markdown",
   "metadata": {},
   "source": [
    "## 1. Очистка датасета"
   ]
  },
  {
   "cell_type": "code",
   "execution_count": 4,
   "metadata": {},
   "outputs": [
    {
     "data": {
      "text/html": [
       "<div>\n",
       "<style scoped>\n",
       "    .dataframe tbody tr th:only-of-type {\n",
       "        vertical-align: middle;\n",
       "    }\n",
       "\n",
       "    .dataframe tbody tr th {\n",
       "        vertical-align: top;\n",
       "    }\n",
       "\n",
       "    .dataframe thead th {\n",
       "        text-align: right;\n",
       "    }\n",
       "</style>\n",
       "<table border=\"1\" class=\"dataframe\">\n",
       "  <thead>\n",
       "    <tr style=\"text-align: right;\">\n",
       "      <th></th>\n",
       "      <th>Article</th>\n",
       "      <th>DOI</th>\n",
       "      <th>Name</th>\n",
       "      <th>Origin sequence</th>\n",
       "      <th>Sequence</th>\n",
       "      <th>Stability t1/2, h</th>\n",
       "      <th>Environment</th>\n",
       "      <th>Concentration of envi, %</th>\n",
       "      <th>Temperature, oC</th>\n",
       "      <th>Type</th>\n",
       "      <th>Melting temperature, oC</th>\n",
       "      <th>Modified</th>\n",
       "      <th>Comments</th>\n",
       "    </tr>\n",
       "  </thead>\n",
       "  <tbody>\n",
       "    <tr>\n",
       "      <th>0</th>\n",
       "      <td>Conversion of RNA Aptamer into Modified DNA Ap...</td>\n",
       "      <td>https://doi.org/10.1021/jacs.9b10460</td>\n",
       "      <td>GLB-A04</td>\n",
       "      <td>aUgAUCAAUcGCCUCAaUUCGACA8GAGGCuCaC</td>\n",
       "      <td>1tAFU1tGAFUFCAAFU1tFCGFCFCFUFCA1tAFUFUFCGAFCA2...</td>\n",
       "      <td>72</td>\n",
       "      <td>frozen human serum</td>\n",
       "      <td>95.0</td>\n",
       "      <td>37.0</td>\n",
       "      <td>DNA</td>\n",
       "      <td>NaN</td>\n",
       "      <td>1</td>\n",
       "      <td>NaN</td>\n",
       "    </tr>\n",
       "    <tr>\n",
       "      <th>1</th>\n",
       "      <td>Conversion of RNA Aptamer into Modified DNA Ap...</td>\n",
       "      <td>https://doi.org/10.1021/jacs.9b10460</td>\n",
       "      <td>GLB-G25</td>\n",
       "      <td>aUg6UCAAUcGCCUCAaUUCGACAgGAGGCuCaC</td>\n",
       "      <td>1tAFU1tG2tAFUFCAAFU1tFCGFCFCFUFCA1tAFUFUFCGAFC...</td>\n",
       "      <td>72</td>\n",
       "      <td>frozen human serum</td>\n",
       "      <td>95.0</td>\n",
       "      <td>37.0</td>\n",
       "      <td>DNA</td>\n",
       "      <td>NaN</td>\n",
       "      <td>1</td>\n",
       "      <td>NaN</td>\n",
       "    </tr>\n",
       "    <tr>\n",
       "      <th>2</th>\n",
       "      <td>Conversion of RNA Aptamer into Modified DNA Ap...</td>\n",
       "      <td>https://doi.org/10.1021/jacs.9b10460</td>\n",
       "      <td>GLB-A04</td>\n",
       "      <td>aUgAUCAAUcGCCUCAaUUCGACA8GAGGCuCaC</td>\n",
       "      <td>1tAFU1tGAFUFCAAFU1tFCGFCFCFUFCA1tAFUFUFCGAFCA2...</td>\n",
       "      <td>1.89</td>\n",
       "      <td>rat blood</td>\n",
       "      <td>100.0</td>\n",
       "      <td>38.8</td>\n",
       "      <td>DNA</td>\n",
       "      <td>NaN</td>\n",
       "      <td>1</td>\n",
       "      <td>NaN</td>\n",
       "    </tr>\n",
       "    <tr>\n",
       "      <th>3</th>\n",
       "      <td>Conversion of RNA Aptamer into Modified DNA Ap...</td>\n",
       "      <td>https://doi.org/10.1021/jacs.9b10460</td>\n",
       "      <td>GLB-A04 PEG</td>\n",
       "      <td>peg-aUgAUCAAUcGCCUCAaUUCGACA8GAGGCuCaC</td>\n",
       "      <td>peg1tAFU1tGAFUFCAAFU1tFCGFCFCFUFCA1tAFUFUFCGAF...</td>\n",
       "      <td>5.09</td>\n",
       "      <td>rat blood</td>\n",
       "      <td>100.0</td>\n",
       "      <td>38.8</td>\n",
       "      <td>DNA</td>\n",
       "      <td>NaN</td>\n",
       "      <td>1</td>\n",
       "      <td>NaN</td>\n",
       "    </tr>\n",
       "    <tr>\n",
       "      <th>4</th>\n",
       "      <td>Conversion of RNA Aptamer into Modified DNA Ap...</td>\n",
       "      <td>https://doi.org/10.1021/jacs.9b10460</td>\n",
       "      <td>GLB-G25 PEG</td>\n",
       "      <td>peg-aUg6UCAAUcGCCUCAaUUCGACAgGAGGCuCaC</td>\n",
       "      <td>peg1tAFU1tG2tAFUFCAAFU1tFCGFCFCFUFCA1tAFUFUFCG...</td>\n",
       "      <td>4.23</td>\n",
       "      <td>rat blood</td>\n",
       "      <td>100.0</td>\n",
       "      <td>38.8</td>\n",
       "      <td>DNA</td>\n",
       "      <td>NaN</td>\n",
       "      <td>1</td>\n",
       "      <td>NaN</td>\n",
       "    </tr>\n",
       "  </tbody>\n",
       "</table>\n",
       "</div>"
      ],
      "text/plain": [
       "                                             Article  \\\n",
       "0  Conversion of RNA Aptamer into Modified DNA Ap...   \n",
       "1  Conversion of RNA Aptamer into Modified DNA Ap...   \n",
       "2  Conversion of RNA Aptamer into Modified DNA Ap...   \n",
       "3  Conversion of RNA Aptamer into Modified DNA Ap...   \n",
       "4  Conversion of RNA Aptamer into Modified DNA Ap...   \n",
       "\n",
       "                                    DOI         Name  \\\n",
       "0  https://doi.org/10.1021/jacs.9b10460      GLB-A04   \n",
       "1  https://doi.org/10.1021/jacs.9b10460      GLB-G25   \n",
       "2  https://doi.org/10.1021/jacs.9b10460      GLB-A04   \n",
       "3  https://doi.org/10.1021/jacs.9b10460  GLB-A04 PEG   \n",
       "4  https://doi.org/10.1021/jacs.9b10460  GLB-G25 PEG   \n",
       "\n",
       "                          Origin sequence  \\\n",
       "0      aUgAUCAAUcGCCUCAaUUCGACA8GAGGCuCaC   \n",
       "1      aUg6UCAAUcGCCUCAaUUCGACAgGAGGCuCaC   \n",
       "2      aUgAUCAAUcGCCUCAaUUCGACA8GAGGCuCaC   \n",
       "3  peg-aUgAUCAAUcGCCUCAaUUCGACA8GAGGCuCaC   \n",
       "4  peg-aUg6UCAAUcGCCUCAaUUCGACAgGAGGCuCaC   \n",
       "\n",
       "                                            Sequence Stability t1/2, h  \\\n",
       "0  1tAFU1tGAFUFCAAFU1tFCGFCFCFUFCA1tAFUFUFCGAFCA2...                72   \n",
       "1  1tAFU1tG2tAFUFCAAFU1tFCGFCFCFUFCA1tAFUFUFCGAFC...                72   \n",
       "2  1tAFU1tGAFUFCAAFU1tFCGFCFCFUFCA1tAFUFUFCGAFCA2...              1.89   \n",
       "3  peg1tAFU1tGAFUFCAAFU1tFCGFCFCFUFCA1tAFUFUFCGAF...              5.09   \n",
       "4  peg1tAFU1tG2tAFUFCAAFU1tFCGFCFCFUFCA1tAFUFUFCG...              4.23   \n",
       "\n",
       "          Environment  Concentration of envi, %  Temperature, oC Type  \\\n",
       "0  frozen human serum                      95.0             37.0  DNA   \n",
       "1  frozen human serum                      95.0             37.0  DNA   \n",
       "2           rat blood                     100.0             38.8  DNA   \n",
       "3           rat blood                     100.0             38.8  DNA   \n",
       "4           rat blood                     100.0             38.8  DNA   \n",
       "\n",
       "   Melting temperature, oC  Modified Comments  \n",
       "0                      NaN         1      NaN  \n",
       "1                      NaN         1      NaN  \n",
       "2                      NaN         1      NaN  \n",
       "3                      NaN         1      NaN  \n",
       "4                      NaN         1      NaN  "
      ]
     },
     "execution_count": 4,
     "metadata": {},
     "output_type": "execute_result"
    }
   ],
   "source": [
    "relative_path = 'data/AptamerModifData.csv'\n",
    "df = pd.read_csv(relative_path)\n",
    "df.head()"
   ]
  },
  {
   "cell_type": "code",
   "execution_count": 5,
   "metadata": {},
   "outputs": [
    {
     "name": "stdout",
     "output_type": "stream",
     "text": [
      "<class 'pandas.core.frame.DataFrame'>\n",
      "RangeIndex: 184 entries, 0 to 183\n",
      "Data columns (total 13 columns):\n",
      " #   Column                    Non-Null Count  Dtype  \n",
      "---  ------                    --------------  -----  \n",
      " 0   Article                   160 non-null    object \n",
      " 1   DOI                       160 non-null    object \n",
      " 2   Name                      183 non-null    object \n",
      " 3   Origin sequence           184 non-null    object \n",
      " 4   Sequence                  158 non-null    object \n",
      " 5   Stability t1/2, h         162 non-null    object \n",
      " 6   Environment               184 non-null    object \n",
      " 7   Concentration of envi, %  183 non-null    float64\n",
      " 8   Temperature, oC           183 non-null    float64\n",
      " 9   Type                      184 non-null    object \n",
      " 10  Melting temperature, oC   41 non-null     float64\n",
      " 11  Modified                  184 non-null    int64  \n",
      " 12  Comments                  3 non-null      object \n",
      "dtypes: float64(3), int64(1), object(9)\n",
      "memory usage: 18.8+ KB\n"
     ]
    }
   ],
   "source": [
    "df.info()"
   ]
  },
  {
   "cell_type": "code",
   "execution_count": 6,
   "metadata": {},
   "outputs": [],
   "source": [
    "df = df.drop(columns = ['Article', 'DOI', 'Origin sequence', 'Melting temperature, oC', 'Comments'])"
   ]
  },
  {
   "cell_type": "code",
   "execution_count": 7,
   "metadata": {},
   "outputs": [],
   "source": [
    "df['Stability t1/2, h'] = pd.to_numeric(df['Stability t1/2, h'], errors='coerce')\n",
    "df = df.dropna()"
   ]
  },
  {
   "cell_type": "markdown",
   "metadata": {},
   "source": [
    "## 2. Одномерный анализ данных"
   ]
  },
  {
   "cell_type": "code",
   "execution_count": 23,
   "metadata": {},
   "outputs": [],
   "source": [
    "def plot_pie(df, column, title, colors):\n",
    "    \"\"\"\n",
    "    Построение круговой диаграммы для указанного столбца DataFrame.\n",
    "\n",
    "    Parameters:\n",
    "    df (pd.DataFrame): Исходный DataFrame.\n",
    "    column (str): Название столбца для построения диаграммы.\n",
    "    title (str): Заголовок диаграммы.\n",
    "    colors (list): Список цветов для диаграммы.\n",
    "    \"\"\"\n",
    "    if column not in df.columns:\n",
    "        raise ValueError(f\"Столбец '{column}' не найден в DataFrame\")\n",
    "\n",
    "    value_counts = df[column].value_counts()\n",
    "\n",
    "    # Построение круговой диаграммы\n",
    "    fig = px.pie(values=value_counts.values, names=value_counts.index, color_discrete_sequence=colors, title=title)\n",
    "\n",
    "    # Вывод графика\n",
    "    fig.show()\n",
    "\n",
    "def plot_bar(df, column, title, colors):\n",
    "    \"\"\"\n",
    "    Построение стобчатой диаграммы для указанного столбца DataFrame.\n",
    "\n",
    "    Parameters:\n",
    "    df (pd.DataFrame): Исходный DataFrame.\n",
    "    column (str): Название столбца для построения диаграммы.\n",
    "    title (str): Заголовок диаграммы.\n",
    "    colors (list): Список цветов для диаграммы.\n",
    "    \"\"\"\n",
    "    if column not in df.columns:\n",
    "        raise ValueError(f\"Столбец '{column}' не найден в DataFrame\")\n",
    "\n",
    "    value_counts = df[column].value_counts()\n",
    "\n",
    "    # Построение диаграммы\n",
    "    fig = px.bar(df, x=value_counts.index, y=value_counts.values, \n",
    "                color=value_counts.index, color_discrete_sequence=colors, \n",
    "                title=title, labels={'x': '', 'y': 'Количество'})\n",
    "    fig.update_layout(showlegend=False)\n",
    "    # Вывод графика\n",
    "    fig.show()"
   ]
  },
  {
   "cell_type": "code",
   "execution_count": 24,
   "metadata": {},
   "outputs": [
    {
     "data": {
      "application/vnd.plotly.v1+json": {
       "config": {
        "plotlyServerURL": "https://plot.ly"
       },
       "data": [
        {
         "alignmentgroup": "True",
         "hovertemplate": "color=human serum<br>=%{x}<br>Количество=%{y}<extra></extra>",
         "legendgroup": "human serum",
         "marker": {
          "color": "#b5de2b",
          "pattern": {
           "shape": ""
          }
         },
         "name": "human serum",
         "offsetgroup": "human serum",
         "orientation": "v",
         "showlegend": true,
         "textposition": "auto",
         "type": "bar",
         "x": [
          "human serum"
         ],
         "xaxis": "x",
         "y": [
          41
         ],
         "yaxis": "y"
        },
        {
         "alignmentgroup": "True",
         "hovertemplate": "color=frozen human serum<br>=%{x}<br>Количество=%{y}<extra></extra>",
         "legendgroup": "frozen human serum",
         "marker": {
          "color": "#6ece58",
          "pattern": {
           "shape": ""
          }
         },
         "name": "frozen human serum",
         "offsetgroup": "frozen human serum",
         "orientation": "v",
         "showlegend": true,
         "textposition": "auto",
         "type": "bar",
         "x": [
          "frozen human serum"
         ],
         "xaxis": "x",
         "y": [
          30
         ],
         "yaxis": "y"
        },
        {
         "alignmentgroup": "True",
         "hovertemplate": "color=fetal bovine serum<br>=%{x}<br>Количество=%{y}<extra></extra>",
         "legendgroup": "fetal bovine serum",
         "marker": {
          "color": "#35b779",
          "pattern": {
           "shape": ""
          }
         },
         "name": "fetal bovine serum",
         "offsetgroup": "fetal bovine serum",
         "orientation": "v",
         "showlegend": true,
         "textposition": "auto",
         "type": "bar",
         "x": [
          "fetal bovine serum"
         ],
         "xaxis": "x",
         "y": [
          25
         ],
         "yaxis": "y"
        },
        {
         "alignmentgroup": "True",
         "hovertemplate": "color=rat blood<br>=%{x}<br>Количество=%{y}<extra></extra>",
         "legendgroup": "rat blood",
         "marker": {
          "color": "#1f9e89",
          "pattern": {
           "shape": ""
          }
         },
         "name": "rat blood",
         "offsetgroup": "rat blood",
         "orientation": "v",
         "showlegend": true,
         "textposition": "auto",
         "type": "bar",
         "x": [
          "rat blood"
         ],
         "xaxis": "x",
         "y": [
          21
         ],
         "yaxis": "y"
        },
        {
         "alignmentgroup": "True",
         "hovertemplate": "color=mouse serum<br>=%{x}<br>Количество=%{y}<extra></extra>",
         "legendgroup": "mouse serum",
         "marker": {
          "color": "#26828e",
          "pattern": {
           "shape": ""
          }
         },
         "name": "mouse serum",
         "offsetgroup": "mouse serum",
         "orientation": "v",
         "showlegend": true,
         "textposition": "auto",
         "type": "bar",
         "x": [
          "mouse serum"
         ],
         "xaxis": "x",
         "y": [
          9
         ],
         "yaxis": "y"
        },
        {
         "alignmentgroup": "True",
         "hovertemplate": "color=bovine serum<br>=%{x}<br>Количество=%{y}<extra></extra>",
         "legendgroup": "bovine serum",
         "marker": {
          "color": "#31688e",
          "pattern": {
           "shape": ""
          }
         },
         "name": "bovine serum",
         "offsetgroup": "bovine serum",
         "orientation": "v",
         "showlegend": true,
         "textposition": "auto",
         "type": "bar",
         "x": [
          "bovine serum"
         ],
         "xaxis": "x",
         "y": [
          7
         ],
         "yaxis": "y"
        },
        {
         "alignmentgroup": "True",
         "hovertemplate": "color=rat serum<br>=%{x}<br>Количество=%{y}<extra></extra>",
         "legendgroup": "rat serum",
         "marker": {
          "color": "#3e4989",
          "pattern": {
           "shape": ""
          }
         },
         "name": "rat serum",
         "offsetgroup": "rat serum",
         "orientation": "v",
         "showlegend": true,
         "textposition": "auto",
         "type": "bar",
         "x": [
          "rat serum"
         ],
         "xaxis": "x",
         "y": [
          5
         ],
         "yaxis": "y"
        },
        {
         "alignmentgroup": "True",
         "hovertemplate": "color=human plasma<br>=%{x}<br>Количество=%{y}<extra></extra>",
         "legendgroup": "human plasma",
         "marker": {
          "color": "#482878",
          "pattern": {
           "shape": ""
          }
         },
         "name": "human plasma",
         "offsetgroup": "human plasma",
         "orientation": "v",
         "showlegend": true,
         "textposition": "auto",
         "type": "bar",
         "x": [
          "human plasma"
         ],
         "xaxis": "x",
         "y": [
          5
         ],
         "yaxis": "y"
        },
        {
         "alignmentgroup": "True",
         "hovertemplate": "color=mouse plasma<br>=%{x}<br>Количество=%{y}<extra></extra>",
         "legendgroup": "mouse plasma",
         "marker": {
          "color": "#440154",
          "pattern": {
           "shape": ""
          }
         },
         "name": "mouse plasma",
         "offsetgroup": "mouse plasma",
         "orientation": "v",
         "showlegend": true,
         "textposition": "auto",
         "type": "bar",
         "x": [
          "mouse plasma"
         ],
         "xaxis": "x",
         "y": [
          3
         ],
         "yaxis": "y"
        },
        {
         "alignmentgroup": "True",
         "hovertemplate": "color=rat liver<br>=%{x}<br>Количество=%{y}<extra></extra>",
         "legendgroup": "rat liver",
         "marker": {
          "color": "#253494",
          "pattern": {
           "shape": ""
          }
         },
         "name": "rat liver",
         "offsetgroup": "rat liver",
         "orientation": "v",
         "showlegend": true,
         "textposition": "auto",
         "type": "bar",
         "x": [
          "rat liver"
         ],
         "xaxis": "x",
         "y": [
          2
         ],
         "yaxis": "y"
        },
        {
         "alignmentgroup": "True",
         "hovertemplate": "color=rhesus monkey blood<br>=%{x}<br>Количество=%{y}<extra></extra>",
         "legendgroup": "rhesus monkey blood",
         "marker": {
          "color": "#225ea8",
          "pattern": {
           "shape": ""
          }
         },
         "name": "rhesus monkey blood",
         "offsetgroup": "rhesus monkey blood",
         "orientation": "v",
         "showlegend": true,
         "textposition": "auto",
         "type": "bar",
         "x": [
          "rhesus monkey blood"
         ],
         "xaxis": "x",
         "y": [
          2
         ],
         "yaxis": "y"
        },
        {
         "alignmentgroup": "True",
         "hovertemplate": "color=macaca fascicularis blood<br>=%{x}<br>Количество=%{y}<extra></extra>",
         "legendgroup": "macaca fascicularis blood",
         "marker": {
          "color": "#1d91c0",
          "pattern": {
           "shape": ""
          }
         },
         "name": "macaca fascicularis blood",
         "offsetgroup": "macaca fascicularis blood",
         "orientation": "v",
         "showlegend": true,
         "textposition": "auto",
         "type": "bar",
         "x": [
          "macaca fascicularis blood"
         ],
         "xaxis": "x",
         "y": [
          1
         ],
         "yaxis": "y"
        },
        {
         "alignmentgroup": "True",
         "hovertemplate": "color=human blood<br>=%{x}<br>Количество=%{y}<extra></extra>",
         "legendgroup": "human blood",
         "marker": {
          "color": "#41b6c4",
          "pattern": {
           "shape": ""
          }
         },
         "name": "human blood",
         "offsetgroup": "human blood",
         "orientation": "v",
         "showlegend": true,
         "textposition": "auto",
         "type": "bar",
         "x": [
          "human blood"
         ],
         "xaxis": "x",
         "y": [
          1
         ],
         "yaxis": "y"
        }
       ],
       "layout": {
        "barmode": "relative",
        "legend": {
         "title": {
          "text": "color"
         },
         "tracegroupgap": 0
        },
        "showlegend": false,
        "template": {
         "data": {
          "bar": [
           {
            "error_x": {
             "color": "#2a3f5f"
            },
            "error_y": {
             "color": "#2a3f5f"
            },
            "marker": {
             "line": {
              "color": "#E5ECF6",
              "width": 0.5
             },
             "pattern": {
              "fillmode": "overlay",
              "size": 10,
              "solidity": 0.2
             }
            },
            "type": "bar"
           }
          ],
          "barpolar": [
           {
            "marker": {
             "line": {
              "color": "#E5ECF6",
              "width": 0.5
             },
             "pattern": {
              "fillmode": "overlay",
              "size": 10,
              "solidity": 0.2
             }
            },
            "type": "barpolar"
           }
          ],
          "carpet": [
           {
            "aaxis": {
             "endlinecolor": "#2a3f5f",
             "gridcolor": "white",
             "linecolor": "white",
             "minorgridcolor": "white",
             "startlinecolor": "#2a3f5f"
            },
            "baxis": {
             "endlinecolor": "#2a3f5f",
             "gridcolor": "white",
             "linecolor": "white",
             "minorgridcolor": "white",
             "startlinecolor": "#2a3f5f"
            },
            "type": "carpet"
           }
          ],
          "choropleth": [
           {
            "colorbar": {
             "outlinewidth": 0,
             "ticks": ""
            },
            "type": "choropleth"
           }
          ],
          "contour": [
           {
            "colorbar": {
             "outlinewidth": 0,
             "ticks": ""
            },
            "colorscale": [
             [
              0,
              "#0d0887"
             ],
             [
              0.1111111111111111,
              "#46039f"
             ],
             [
              0.2222222222222222,
              "#7201a8"
             ],
             [
              0.3333333333333333,
              "#9c179e"
             ],
             [
              0.4444444444444444,
              "#bd3786"
             ],
             [
              0.5555555555555556,
              "#d8576b"
             ],
             [
              0.6666666666666666,
              "#ed7953"
             ],
             [
              0.7777777777777778,
              "#fb9f3a"
             ],
             [
              0.8888888888888888,
              "#fdca26"
             ],
             [
              1,
              "#f0f921"
             ]
            ],
            "type": "contour"
           }
          ],
          "contourcarpet": [
           {
            "colorbar": {
             "outlinewidth": 0,
             "ticks": ""
            },
            "type": "contourcarpet"
           }
          ],
          "heatmap": [
           {
            "colorbar": {
             "outlinewidth": 0,
             "ticks": ""
            },
            "colorscale": [
             [
              0,
              "#0d0887"
             ],
             [
              0.1111111111111111,
              "#46039f"
             ],
             [
              0.2222222222222222,
              "#7201a8"
             ],
             [
              0.3333333333333333,
              "#9c179e"
             ],
             [
              0.4444444444444444,
              "#bd3786"
             ],
             [
              0.5555555555555556,
              "#d8576b"
             ],
             [
              0.6666666666666666,
              "#ed7953"
             ],
             [
              0.7777777777777778,
              "#fb9f3a"
             ],
             [
              0.8888888888888888,
              "#fdca26"
             ],
             [
              1,
              "#f0f921"
             ]
            ],
            "type": "heatmap"
           }
          ],
          "heatmapgl": [
           {
            "colorbar": {
             "outlinewidth": 0,
             "ticks": ""
            },
            "colorscale": [
             [
              0,
              "#0d0887"
             ],
             [
              0.1111111111111111,
              "#46039f"
             ],
             [
              0.2222222222222222,
              "#7201a8"
             ],
             [
              0.3333333333333333,
              "#9c179e"
             ],
             [
              0.4444444444444444,
              "#bd3786"
             ],
             [
              0.5555555555555556,
              "#d8576b"
             ],
             [
              0.6666666666666666,
              "#ed7953"
             ],
             [
              0.7777777777777778,
              "#fb9f3a"
             ],
             [
              0.8888888888888888,
              "#fdca26"
             ],
             [
              1,
              "#f0f921"
             ]
            ],
            "type": "heatmapgl"
           }
          ],
          "histogram": [
           {
            "marker": {
             "pattern": {
              "fillmode": "overlay",
              "size": 10,
              "solidity": 0.2
             }
            },
            "type": "histogram"
           }
          ],
          "histogram2d": [
           {
            "colorbar": {
             "outlinewidth": 0,
             "ticks": ""
            },
            "colorscale": [
             [
              0,
              "#0d0887"
             ],
             [
              0.1111111111111111,
              "#46039f"
             ],
             [
              0.2222222222222222,
              "#7201a8"
             ],
             [
              0.3333333333333333,
              "#9c179e"
             ],
             [
              0.4444444444444444,
              "#bd3786"
             ],
             [
              0.5555555555555556,
              "#d8576b"
             ],
             [
              0.6666666666666666,
              "#ed7953"
             ],
             [
              0.7777777777777778,
              "#fb9f3a"
             ],
             [
              0.8888888888888888,
              "#fdca26"
             ],
             [
              1,
              "#f0f921"
             ]
            ],
            "type": "histogram2d"
           }
          ],
          "histogram2dcontour": [
           {
            "colorbar": {
             "outlinewidth": 0,
             "ticks": ""
            },
            "colorscale": [
             [
              0,
              "#0d0887"
             ],
             [
              0.1111111111111111,
              "#46039f"
             ],
             [
              0.2222222222222222,
              "#7201a8"
             ],
             [
              0.3333333333333333,
              "#9c179e"
             ],
             [
              0.4444444444444444,
              "#bd3786"
             ],
             [
              0.5555555555555556,
              "#d8576b"
             ],
             [
              0.6666666666666666,
              "#ed7953"
             ],
             [
              0.7777777777777778,
              "#fb9f3a"
             ],
             [
              0.8888888888888888,
              "#fdca26"
             ],
             [
              1,
              "#f0f921"
             ]
            ],
            "type": "histogram2dcontour"
           }
          ],
          "mesh3d": [
           {
            "colorbar": {
             "outlinewidth": 0,
             "ticks": ""
            },
            "type": "mesh3d"
           }
          ],
          "parcoords": [
           {
            "line": {
             "colorbar": {
              "outlinewidth": 0,
              "ticks": ""
             }
            },
            "type": "parcoords"
           }
          ],
          "pie": [
           {
            "automargin": true,
            "type": "pie"
           }
          ],
          "scatter": [
           {
            "fillpattern": {
             "fillmode": "overlay",
             "size": 10,
             "solidity": 0.2
            },
            "type": "scatter"
           }
          ],
          "scatter3d": [
           {
            "line": {
             "colorbar": {
              "outlinewidth": 0,
              "ticks": ""
             }
            },
            "marker": {
             "colorbar": {
              "outlinewidth": 0,
              "ticks": ""
             }
            },
            "type": "scatter3d"
           }
          ],
          "scattercarpet": [
           {
            "marker": {
             "colorbar": {
              "outlinewidth": 0,
              "ticks": ""
             }
            },
            "type": "scattercarpet"
           }
          ],
          "scattergeo": [
           {
            "marker": {
             "colorbar": {
              "outlinewidth": 0,
              "ticks": ""
             }
            },
            "type": "scattergeo"
           }
          ],
          "scattergl": [
           {
            "marker": {
             "colorbar": {
              "outlinewidth": 0,
              "ticks": ""
             }
            },
            "type": "scattergl"
           }
          ],
          "scattermapbox": [
           {
            "marker": {
             "colorbar": {
              "outlinewidth": 0,
              "ticks": ""
             }
            },
            "type": "scattermapbox"
           }
          ],
          "scatterpolar": [
           {
            "marker": {
             "colorbar": {
              "outlinewidth": 0,
              "ticks": ""
             }
            },
            "type": "scatterpolar"
           }
          ],
          "scatterpolargl": [
           {
            "marker": {
             "colorbar": {
              "outlinewidth": 0,
              "ticks": ""
             }
            },
            "type": "scatterpolargl"
           }
          ],
          "scatterternary": [
           {
            "marker": {
             "colorbar": {
              "outlinewidth": 0,
              "ticks": ""
             }
            },
            "type": "scatterternary"
           }
          ],
          "surface": [
           {
            "colorbar": {
             "outlinewidth": 0,
             "ticks": ""
            },
            "colorscale": [
             [
              0,
              "#0d0887"
             ],
             [
              0.1111111111111111,
              "#46039f"
             ],
             [
              0.2222222222222222,
              "#7201a8"
             ],
             [
              0.3333333333333333,
              "#9c179e"
             ],
             [
              0.4444444444444444,
              "#bd3786"
             ],
             [
              0.5555555555555556,
              "#d8576b"
             ],
             [
              0.6666666666666666,
              "#ed7953"
             ],
             [
              0.7777777777777778,
              "#fb9f3a"
             ],
             [
              0.8888888888888888,
              "#fdca26"
             ],
             [
              1,
              "#f0f921"
             ]
            ],
            "type": "surface"
           }
          ],
          "table": [
           {
            "cells": {
             "fill": {
              "color": "#EBF0F8"
             },
             "line": {
              "color": "white"
             }
            },
            "header": {
             "fill": {
              "color": "#C8D4E3"
             },
             "line": {
              "color": "white"
             }
            },
            "type": "table"
           }
          ]
         },
         "layout": {
          "annotationdefaults": {
           "arrowcolor": "#2a3f5f",
           "arrowhead": 0,
           "arrowwidth": 1
          },
          "autotypenumbers": "strict",
          "coloraxis": {
           "colorbar": {
            "outlinewidth": 0,
            "ticks": ""
           }
          },
          "colorscale": {
           "diverging": [
            [
             0,
             "#8e0152"
            ],
            [
             0.1,
             "#c51b7d"
            ],
            [
             0.2,
             "#de77ae"
            ],
            [
             0.3,
             "#f1b6da"
            ],
            [
             0.4,
             "#fde0ef"
            ],
            [
             0.5,
             "#f7f7f7"
            ],
            [
             0.6,
             "#e6f5d0"
            ],
            [
             0.7,
             "#b8e186"
            ],
            [
             0.8,
             "#7fbc41"
            ],
            [
             0.9,
             "#4d9221"
            ],
            [
             1,
             "#276419"
            ]
           ],
           "sequential": [
            [
             0,
             "#0d0887"
            ],
            [
             0.1111111111111111,
             "#46039f"
            ],
            [
             0.2222222222222222,
             "#7201a8"
            ],
            [
             0.3333333333333333,
             "#9c179e"
            ],
            [
             0.4444444444444444,
             "#bd3786"
            ],
            [
             0.5555555555555556,
             "#d8576b"
            ],
            [
             0.6666666666666666,
             "#ed7953"
            ],
            [
             0.7777777777777778,
             "#fb9f3a"
            ],
            [
             0.8888888888888888,
             "#fdca26"
            ],
            [
             1,
             "#f0f921"
            ]
           ],
           "sequentialminus": [
            [
             0,
             "#0d0887"
            ],
            [
             0.1111111111111111,
             "#46039f"
            ],
            [
             0.2222222222222222,
             "#7201a8"
            ],
            [
             0.3333333333333333,
             "#9c179e"
            ],
            [
             0.4444444444444444,
             "#bd3786"
            ],
            [
             0.5555555555555556,
             "#d8576b"
            ],
            [
             0.6666666666666666,
             "#ed7953"
            ],
            [
             0.7777777777777778,
             "#fb9f3a"
            ],
            [
             0.8888888888888888,
             "#fdca26"
            ],
            [
             1,
             "#f0f921"
            ]
           ]
          },
          "colorway": [
           "#636efa",
           "#EF553B",
           "#00cc96",
           "#ab63fa",
           "#FFA15A",
           "#19d3f3",
           "#FF6692",
           "#B6E880",
           "#FF97FF",
           "#FECB52"
          ],
          "font": {
           "color": "#2a3f5f"
          },
          "geo": {
           "bgcolor": "white",
           "lakecolor": "white",
           "landcolor": "#E5ECF6",
           "showlakes": true,
           "showland": true,
           "subunitcolor": "white"
          },
          "hoverlabel": {
           "align": "left"
          },
          "hovermode": "closest",
          "mapbox": {
           "style": "light"
          },
          "paper_bgcolor": "white",
          "plot_bgcolor": "#E5ECF6",
          "polar": {
           "angularaxis": {
            "gridcolor": "white",
            "linecolor": "white",
            "ticks": ""
           },
           "bgcolor": "#E5ECF6",
           "radialaxis": {
            "gridcolor": "white",
            "linecolor": "white",
            "ticks": ""
           }
          },
          "scene": {
           "xaxis": {
            "backgroundcolor": "#E5ECF6",
            "gridcolor": "white",
            "gridwidth": 2,
            "linecolor": "white",
            "showbackground": true,
            "ticks": "",
            "zerolinecolor": "white"
           },
           "yaxis": {
            "backgroundcolor": "#E5ECF6",
            "gridcolor": "white",
            "gridwidth": 2,
            "linecolor": "white",
            "showbackground": true,
            "ticks": "",
            "zerolinecolor": "white"
           },
           "zaxis": {
            "backgroundcolor": "#E5ECF6",
            "gridcolor": "white",
            "gridwidth": 2,
            "linecolor": "white",
            "showbackground": true,
            "ticks": "",
            "zerolinecolor": "white"
           }
          },
          "shapedefaults": {
           "line": {
            "color": "#2a3f5f"
           }
          },
          "ternary": {
           "aaxis": {
            "gridcolor": "white",
            "linecolor": "white",
            "ticks": ""
           },
           "baxis": {
            "gridcolor": "white",
            "linecolor": "white",
            "ticks": ""
           },
           "bgcolor": "#E5ECF6",
           "caxis": {
            "gridcolor": "white",
            "linecolor": "white",
            "ticks": ""
           }
          },
          "title": {
           "x": 0.05
          },
          "xaxis": {
           "automargin": true,
           "gridcolor": "white",
           "linecolor": "white",
           "ticks": "",
           "title": {
            "standoff": 15
           },
           "zerolinecolor": "white",
           "zerolinewidth": 2
          },
          "yaxis": {
           "automargin": true,
           "gridcolor": "white",
           "linecolor": "white",
           "ticks": "",
           "title": {
            "standoff": 15
           },
           "zerolinecolor": "white",
           "zerolinewidth": 2
          }
         }
        },
        "title": {
         "text": "Среды, использовавшиеся для определения стабильности"
        },
        "xaxis": {
         "anchor": "y",
         "domain": [
          0,
          1
         ],
         "title": {
          "text": ""
         }
        },
        "yaxis": {
         "anchor": "x",
         "domain": [
          0,
          1
         ],
         "title": {
          "text": "Количество"
         }
        }
       }
      }
     },
     "metadata": {},
     "output_type": "display_data"
    }
   ],
   "source": [
    "plot_bar(df, 'Environment', \"Среды, использовавшиеся для определения стабильности\", colors)"
   ]
  },
  {
   "cell_type": "code",
   "execution_count": 25,
   "metadata": {},
   "outputs": [
    {
     "data": {
      "application/vnd.plotly.v1+json": {
       "config": {
        "plotlyServerURL": "https://plot.ly"
       },
       "data": [
        {
         "alignmentgroup": "True",
         "hovertemplate": "color=DNA<br>=%{x}<br>Количество=%{y}<extra></extra>",
         "legendgroup": "DNA",
         "marker": {
          "color": "#b5de2b",
          "pattern": {
           "shape": ""
          }
         },
         "name": "DNA",
         "offsetgroup": "DNA",
         "orientation": "v",
         "showlegend": true,
         "textposition": "auto",
         "type": "bar",
         "x": [
          "DNA"
         ],
         "xaxis": "x",
         "y": [
          69
         ],
         "yaxis": "y"
        },
        {
         "alignmentgroup": "True",
         "hovertemplate": "color=ribozyme<br>=%{x}<br>Количество=%{y}<extra></extra>",
         "legendgroup": "ribozyme",
         "marker": {
          "color": "#6ece58",
          "pattern": {
           "shape": ""
          }
         },
         "name": "ribozyme",
         "offsetgroup": "ribozyme",
         "orientation": "v",
         "showlegend": true,
         "textposition": "auto",
         "type": "bar",
         "x": [
          "ribozyme"
         ],
         "xaxis": "x",
         "y": [
          40
         ],
         "yaxis": "y"
        },
        {
         "alignmentgroup": "True",
         "hovertemplate": "color=RNA<br>=%{x}<br>Количество=%{y}<extra></extra>",
         "legendgroup": "RNA",
         "marker": {
          "color": "#35b779",
          "pattern": {
           "shape": ""
          }
         },
         "name": "RNA",
         "offsetgroup": "RNA",
         "orientation": "v",
         "showlegend": true,
         "textposition": "auto",
         "type": "bar",
         "x": [
          "RNA"
         ],
         "xaxis": "x",
         "y": [
          35
         ],
         "yaxis": "y"
        },
        {
         "alignmentgroup": "True",
         "hovertemplate": "color=SOMAmer<br>=%{x}<br>Количество=%{y}<extra></extra>",
         "legendgroup": "SOMAmer",
         "marker": {
          "color": "#1f9e89",
          "pattern": {
           "shape": ""
          }
         },
         "name": "SOMAmer",
         "offsetgroup": "SOMAmer",
         "orientation": "v",
         "showlegend": true,
         "textposition": "auto",
         "type": "bar",
         "x": [
          "SOMAmer"
         ],
         "xaxis": "x",
         "y": [
          4
         ],
         "yaxis": "y"
        },
        {
         "alignmentgroup": "True",
         "hovertemplate": "color=DNAzyme<br>=%{x}<br>Количество=%{y}<extra></extra>",
         "legendgroup": "DNAzyme",
         "marker": {
          "color": "#26828e",
          "pattern": {
           "shape": ""
          }
         },
         "name": "DNAzyme",
         "offsetgroup": "DNAzyme",
         "orientation": "v",
         "showlegend": true,
         "textposition": "auto",
         "type": "bar",
         "x": [
          "DNAzyme"
         ],
         "xaxis": "x",
         "y": [
          4
         ],
         "yaxis": "y"
        }
       ],
       "layout": {
        "barmode": "relative",
        "legend": {
         "title": {
          "text": "color"
         },
         "tracegroupgap": 0
        },
        "showlegend": false,
        "template": {
         "data": {
          "bar": [
           {
            "error_x": {
             "color": "#2a3f5f"
            },
            "error_y": {
             "color": "#2a3f5f"
            },
            "marker": {
             "line": {
              "color": "#E5ECF6",
              "width": 0.5
             },
             "pattern": {
              "fillmode": "overlay",
              "size": 10,
              "solidity": 0.2
             }
            },
            "type": "bar"
           }
          ],
          "barpolar": [
           {
            "marker": {
             "line": {
              "color": "#E5ECF6",
              "width": 0.5
             },
             "pattern": {
              "fillmode": "overlay",
              "size": 10,
              "solidity": 0.2
             }
            },
            "type": "barpolar"
           }
          ],
          "carpet": [
           {
            "aaxis": {
             "endlinecolor": "#2a3f5f",
             "gridcolor": "white",
             "linecolor": "white",
             "minorgridcolor": "white",
             "startlinecolor": "#2a3f5f"
            },
            "baxis": {
             "endlinecolor": "#2a3f5f",
             "gridcolor": "white",
             "linecolor": "white",
             "minorgridcolor": "white",
             "startlinecolor": "#2a3f5f"
            },
            "type": "carpet"
           }
          ],
          "choropleth": [
           {
            "colorbar": {
             "outlinewidth": 0,
             "ticks": ""
            },
            "type": "choropleth"
           }
          ],
          "contour": [
           {
            "colorbar": {
             "outlinewidth": 0,
             "ticks": ""
            },
            "colorscale": [
             [
              0,
              "#0d0887"
             ],
             [
              0.1111111111111111,
              "#46039f"
             ],
             [
              0.2222222222222222,
              "#7201a8"
             ],
             [
              0.3333333333333333,
              "#9c179e"
             ],
             [
              0.4444444444444444,
              "#bd3786"
             ],
             [
              0.5555555555555556,
              "#d8576b"
             ],
             [
              0.6666666666666666,
              "#ed7953"
             ],
             [
              0.7777777777777778,
              "#fb9f3a"
             ],
             [
              0.8888888888888888,
              "#fdca26"
             ],
             [
              1,
              "#f0f921"
             ]
            ],
            "type": "contour"
           }
          ],
          "contourcarpet": [
           {
            "colorbar": {
             "outlinewidth": 0,
             "ticks": ""
            },
            "type": "contourcarpet"
           }
          ],
          "heatmap": [
           {
            "colorbar": {
             "outlinewidth": 0,
             "ticks": ""
            },
            "colorscale": [
             [
              0,
              "#0d0887"
             ],
             [
              0.1111111111111111,
              "#46039f"
             ],
             [
              0.2222222222222222,
              "#7201a8"
             ],
             [
              0.3333333333333333,
              "#9c179e"
             ],
             [
              0.4444444444444444,
              "#bd3786"
             ],
             [
              0.5555555555555556,
              "#d8576b"
             ],
             [
              0.6666666666666666,
              "#ed7953"
             ],
             [
              0.7777777777777778,
              "#fb9f3a"
             ],
             [
              0.8888888888888888,
              "#fdca26"
             ],
             [
              1,
              "#f0f921"
             ]
            ],
            "type": "heatmap"
           }
          ],
          "heatmapgl": [
           {
            "colorbar": {
             "outlinewidth": 0,
             "ticks": ""
            },
            "colorscale": [
             [
              0,
              "#0d0887"
             ],
             [
              0.1111111111111111,
              "#46039f"
             ],
             [
              0.2222222222222222,
              "#7201a8"
             ],
             [
              0.3333333333333333,
              "#9c179e"
             ],
             [
              0.4444444444444444,
              "#bd3786"
             ],
             [
              0.5555555555555556,
              "#d8576b"
             ],
             [
              0.6666666666666666,
              "#ed7953"
             ],
             [
              0.7777777777777778,
              "#fb9f3a"
             ],
             [
              0.8888888888888888,
              "#fdca26"
             ],
             [
              1,
              "#f0f921"
             ]
            ],
            "type": "heatmapgl"
           }
          ],
          "histogram": [
           {
            "marker": {
             "pattern": {
              "fillmode": "overlay",
              "size": 10,
              "solidity": 0.2
             }
            },
            "type": "histogram"
           }
          ],
          "histogram2d": [
           {
            "colorbar": {
             "outlinewidth": 0,
             "ticks": ""
            },
            "colorscale": [
             [
              0,
              "#0d0887"
             ],
             [
              0.1111111111111111,
              "#46039f"
             ],
             [
              0.2222222222222222,
              "#7201a8"
             ],
             [
              0.3333333333333333,
              "#9c179e"
             ],
             [
              0.4444444444444444,
              "#bd3786"
             ],
             [
              0.5555555555555556,
              "#d8576b"
             ],
             [
              0.6666666666666666,
              "#ed7953"
             ],
             [
              0.7777777777777778,
              "#fb9f3a"
             ],
             [
              0.8888888888888888,
              "#fdca26"
             ],
             [
              1,
              "#f0f921"
             ]
            ],
            "type": "histogram2d"
           }
          ],
          "histogram2dcontour": [
           {
            "colorbar": {
             "outlinewidth": 0,
             "ticks": ""
            },
            "colorscale": [
             [
              0,
              "#0d0887"
             ],
             [
              0.1111111111111111,
              "#46039f"
             ],
             [
              0.2222222222222222,
              "#7201a8"
             ],
             [
              0.3333333333333333,
              "#9c179e"
             ],
             [
              0.4444444444444444,
              "#bd3786"
             ],
             [
              0.5555555555555556,
              "#d8576b"
             ],
             [
              0.6666666666666666,
              "#ed7953"
             ],
             [
              0.7777777777777778,
              "#fb9f3a"
             ],
             [
              0.8888888888888888,
              "#fdca26"
             ],
             [
              1,
              "#f0f921"
             ]
            ],
            "type": "histogram2dcontour"
           }
          ],
          "mesh3d": [
           {
            "colorbar": {
             "outlinewidth": 0,
             "ticks": ""
            },
            "type": "mesh3d"
           }
          ],
          "parcoords": [
           {
            "line": {
             "colorbar": {
              "outlinewidth": 0,
              "ticks": ""
             }
            },
            "type": "parcoords"
           }
          ],
          "pie": [
           {
            "automargin": true,
            "type": "pie"
           }
          ],
          "scatter": [
           {
            "fillpattern": {
             "fillmode": "overlay",
             "size": 10,
             "solidity": 0.2
            },
            "type": "scatter"
           }
          ],
          "scatter3d": [
           {
            "line": {
             "colorbar": {
              "outlinewidth": 0,
              "ticks": ""
             }
            },
            "marker": {
             "colorbar": {
              "outlinewidth": 0,
              "ticks": ""
             }
            },
            "type": "scatter3d"
           }
          ],
          "scattercarpet": [
           {
            "marker": {
             "colorbar": {
              "outlinewidth": 0,
              "ticks": ""
             }
            },
            "type": "scattercarpet"
           }
          ],
          "scattergeo": [
           {
            "marker": {
             "colorbar": {
              "outlinewidth": 0,
              "ticks": ""
             }
            },
            "type": "scattergeo"
           }
          ],
          "scattergl": [
           {
            "marker": {
             "colorbar": {
              "outlinewidth": 0,
              "ticks": ""
             }
            },
            "type": "scattergl"
           }
          ],
          "scattermapbox": [
           {
            "marker": {
             "colorbar": {
              "outlinewidth": 0,
              "ticks": ""
             }
            },
            "type": "scattermapbox"
           }
          ],
          "scatterpolar": [
           {
            "marker": {
             "colorbar": {
              "outlinewidth": 0,
              "ticks": ""
             }
            },
            "type": "scatterpolar"
           }
          ],
          "scatterpolargl": [
           {
            "marker": {
             "colorbar": {
              "outlinewidth": 0,
              "ticks": ""
             }
            },
            "type": "scatterpolargl"
           }
          ],
          "scatterternary": [
           {
            "marker": {
             "colorbar": {
              "outlinewidth": 0,
              "ticks": ""
             }
            },
            "type": "scatterternary"
           }
          ],
          "surface": [
           {
            "colorbar": {
             "outlinewidth": 0,
             "ticks": ""
            },
            "colorscale": [
             [
              0,
              "#0d0887"
             ],
             [
              0.1111111111111111,
              "#46039f"
             ],
             [
              0.2222222222222222,
              "#7201a8"
             ],
             [
              0.3333333333333333,
              "#9c179e"
             ],
             [
              0.4444444444444444,
              "#bd3786"
             ],
             [
              0.5555555555555556,
              "#d8576b"
             ],
             [
              0.6666666666666666,
              "#ed7953"
             ],
             [
              0.7777777777777778,
              "#fb9f3a"
             ],
             [
              0.8888888888888888,
              "#fdca26"
             ],
             [
              1,
              "#f0f921"
             ]
            ],
            "type": "surface"
           }
          ],
          "table": [
           {
            "cells": {
             "fill": {
              "color": "#EBF0F8"
             },
             "line": {
              "color": "white"
             }
            },
            "header": {
             "fill": {
              "color": "#C8D4E3"
             },
             "line": {
              "color": "white"
             }
            },
            "type": "table"
           }
          ]
         },
         "layout": {
          "annotationdefaults": {
           "arrowcolor": "#2a3f5f",
           "arrowhead": 0,
           "arrowwidth": 1
          },
          "autotypenumbers": "strict",
          "coloraxis": {
           "colorbar": {
            "outlinewidth": 0,
            "ticks": ""
           }
          },
          "colorscale": {
           "diverging": [
            [
             0,
             "#8e0152"
            ],
            [
             0.1,
             "#c51b7d"
            ],
            [
             0.2,
             "#de77ae"
            ],
            [
             0.3,
             "#f1b6da"
            ],
            [
             0.4,
             "#fde0ef"
            ],
            [
             0.5,
             "#f7f7f7"
            ],
            [
             0.6,
             "#e6f5d0"
            ],
            [
             0.7,
             "#b8e186"
            ],
            [
             0.8,
             "#7fbc41"
            ],
            [
             0.9,
             "#4d9221"
            ],
            [
             1,
             "#276419"
            ]
           ],
           "sequential": [
            [
             0,
             "#0d0887"
            ],
            [
             0.1111111111111111,
             "#46039f"
            ],
            [
             0.2222222222222222,
             "#7201a8"
            ],
            [
             0.3333333333333333,
             "#9c179e"
            ],
            [
             0.4444444444444444,
             "#bd3786"
            ],
            [
             0.5555555555555556,
             "#d8576b"
            ],
            [
             0.6666666666666666,
             "#ed7953"
            ],
            [
             0.7777777777777778,
             "#fb9f3a"
            ],
            [
             0.8888888888888888,
             "#fdca26"
            ],
            [
             1,
             "#f0f921"
            ]
           ],
           "sequentialminus": [
            [
             0,
             "#0d0887"
            ],
            [
             0.1111111111111111,
             "#46039f"
            ],
            [
             0.2222222222222222,
             "#7201a8"
            ],
            [
             0.3333333333333333,
             "#9c179e"
            ],
            [
             0.4444444444444444,
             "#bd3786"
            ],
            [
             0.5555555555555556,
             "#d8576b"
            ],
            [
             0.6666666666666666,
             "#ed7953"
            ],
            [
             0.7777777777777778,
             "#fb9f3a"
            ],
            [
             0.8888888888888888,
             "#fdca26"
            ],
            [
             1,
             "#f0f921"
            ]
           ]
          },
          "colorway": [
           "#636efa",
           "#EF553B",
           "#00cc96",
           "#ab63fa",
           "#FFA15A",
           "#19d3f3",
           "#FF6692",
           "#B6E880",
           "#FF97FF",
           "#FECB52"
          ],
          "font": {
           "color": "#2a3f5f"
          },
          "geo": {
           "bgcolor": "white",
           "lakecolor": "white",
           "landcolor": "#E5ECF6",
           "showlakes": true,
           "showland": true,
           "subunitcolor": "white"
          },
          "hoverlabel": {
           "align": "left"
          },
          "hovermode": "closest",
          "mapbox": {
           "style": "light"
          },
          "paper_bgcolor": "white",
          "plot_bgcolor": "#E5ECF6",
          "polar": {
           "angularaxis": {
            "gridcolor": "white",
            "linecolor": "white",
            "ticks": ""
           },
           "bgcolor": "#E5ECF6",
           "radialaxis": {
            "gridcolor": "white",
            "linecolor": "white",
            "ticks": ""
           }
          },
          "scene": {
           "xaxis": {
            "backgroundcolor": "#E5ECF6",
            "gridcolor": "white",
            "gridwidth": 2,
            "linecolor": "white",
            "showbackground": true,
            "ticks": "",
            "zerolinecolor": "white"
           },
           "yaxis": {
            "backgroundcolor": "#E5ECF6",
            "gridcolor": "white",
            "gridwidth": 2,
            "linecolor": "white",
            "showbackground": true,
            "ticks": "",
            "zerolinecolor": "white"
           },
           "zaxis": {
            "backgroundcolor": "#E5ECF6",
            "gridcolor": "white",
            "gridwidth": 2,
            "linecolor": "white",
            "showbackground": true,
            "ticks": "",
            "zerolinecolor": "white"
           }
          },
          "shapedefaults": {
           "line": {
            "color": "#2a3f5f"
           }
          },
          "ternary": {
           "aaxis": {
            "gridcolor": "white",
            "linecolor": "white",
            "ticks": ""
           },
           "baxis": {
            "gridcolor": "white",
            "linecolor": "white",
            "ticks": ""
           },
           "bgcolor": "#E5ECF6",
           "caxis": {
            "gridcolor": "white",
            "linecolor": "white",
            "ticks": ""
           }
          },
          "title": {
           "x": 0.05
          },
          "xaxis": {
           "automargin": true,
           "gridcolor": "white",
           "linecolor": "white",
           "ticks": "",
           "title": {
            "standoff": 15
           },
           "zerolinecolor": "white",
           "zerolinewidth": 2
          },
          "yaxis": {
           "automargin": true,
           "gridcolor": "white",
           "linecolor": "white",
           "ticks": "",
           "title": {
            "standoff": 15
           },
           "zerolinecolor": "white",
           "zerolinewidth": 2
          }
         }
        },
        "title": {
         "text": "Типы последовательностей, представленных в датасете"
        },
        "xaxis": {
         "anchor": "y",
         "domain": [
          0,
          1
         ],
         "title": {
          "text": ""
         }
        },
        "yaxis": {
         "anchor": "x",
         "domain": [
          0,
          1
         ],
         "title": {
          "text": "Количество"
         }
        }
       }
      }
     },
     "metadata": {},
     "output_type": "display_data"
    }
   ],
   "source": [
    "plot_bar(df, 'Type', \"Типы последовательностей, представленных в датасете\", colors)"
   ]
  },
  {
   "cell_type": "code",
   "execution_count": 54,
   "metadata": {},
   "outputs": [
    {
     "data": {
      "application/vnd.plotly.v1+json": {
       "config": {
        "plotlyServerURL": "https://plot.ly"
       },
       "data": [
        {
         "domain": {
          "x": [
           0,
           1
          ],
          "y": [
           0,
           1
          ]
         },
         "hovertemplate": "label=%{label}<br>value=%{value}<extra></extra>",
         "labels": [
          1,
          0
         ],
         "legendgroup": "",
         "name": "",
         "showlegend": true,
         "type": "pie",
         "values": [
          130,
          22
         ]
        }
       ],
       "layout": {
        "legend": {
         "tracegroupgap": 0
        },
        "piecolorway": [
         "#b5de2b",
         "#6ece58",
         "#35b779",
         "#1f9e89",
         "#26828e",
         "#31688e",
         "#3e4989",
         "#482878",
         "#440154",
         "#253494",
         "#225ea8",
         "#1d91c0",
         "#41b6c4",
         "#7fcdbb",
         "#c7e9b4",
         "#edf8b1",
         "#ffffd9"
        ],
        "template": {
         "data": {
          "bar": [
           {
            "error_x": {
             "color": "#2a3f5f"
            },
            "error_y": {
             "color": "#2a3f5f"
            },
            "marker": {
             "line": {
              "color": "#E5ECF6",
              "width": 0.5
             },
             "pattern": {
              "fillmode": "overlay",
              "size": 10,
              "solidity": 0.2
             }
            },
            "type": "bar"
           }
          ],
          "barpolar": [
           {
            "marker": {
             "line": {
              "color": "#E5ECF6",
              "width": 0.5
             },
             "pattern": {
              "fillmode": "overlay",
              "size": 10,
              "solidity": 0.2
             }
            },
            "type": "barpolar"
           }
          ],
          "carpet": [
           {
            "aaxis": {
             "endlinecolor": "#2a3f5f",
             "gridcolor": "white",
             "linecolor": "white",
             "minorgridcolor": "white",
             "startlinecolor": "#2a3f5f"
            },
            "baxis": {
             "endlinecolor": "#2a3f5f",
             "gridcolor": "white",
             "linecolor": "white",
             "minorgridcolor": "white",
             "startlinecolor": "#2a3f5f"
            },
            "type": "carpet"
           }
          ],
          "choropleth": [
           {
            "colorbar": {
             "outlinewidth": 0,
             "ticks": ""
            },
            "type": "choropleth"
           }
          ],
          "contour": [
           {
            "colorbar": {
             "outlinewidth": 0,
             "ticks": ""
            },
            "colorscale": [
             [
              0,
              "#0d0887"
             ],
             [
              0.1111111111111111,
              "#46039f"
             ],
             [
              0.2222222222222222,
              "#7201a8"
             ],
             [
              0.3333333333333333,
              "#9c179e"
             ],
             [
              0.4444444444444444,
              "#bd3786"
             ],
             [
              0.5555555555555556,
              "#d8576b"
             ],
             [
              0.6666666666666666,
              "#ed7953"
             ],
             [
              0.7777777777777778,
              "#fb9f3a"
             ],
             [
              0.8888888888888888,
              "#fdca26"
             ],
             [
              1,
              "#f0f921"
             ]
            ],
            "type": "contour"
           }
          ],
          "contourcarpet": [
           {
            "colorbar": {
             "outlinewidth": 0,
             "ticks": ""
            },
            "type": "contourcarpet"
           }
          ],
          "heatmap": [
           {
            "colorbar": {
             "outlinewidth": 0,
             "ticks": ""
            },
            "colorscale": [
             [
              0,
              "#0d0887"
             ],
             [
              0.1111111111111111,
              "#46039f"
             ],
             [
              0.2222222222222222,
              "#7201a8"
             ],
             [
              0.3333333333333333,
              "#9c179e"
             ],
             [
              0.4444444444444444,
              "#bd3786"
             ],
             [
              0.5555555555555556,
              "#d8576b"
             ],
             [
              0.6666666666666666,
              "#ed7953"
             ],
             [
              0.7777777777777778,
              "#fb9f3a"
             ],
             [
              0.8888888888888888,
              "#fdca26"
             ],
             [
              1,
              "#f0f921"
             ]
            ],
            "type": "heatmap"
           }
          ],
          "heatmapgl": [
           {
            "colorbar": {
             "outlinewidth": 0,
             "ticks": ""
            },
            "colorscale": [
             [
              0,
              "#0d0887"
             ],
             [
              0.1111111111111111,
              "#46039f"
             ],
             [
              0.2222222222222222,
              "#7201a8"
             ],
             [
              0.3333333333333333,
              "#9c179e"
             ],
             [
              0.4444444444444444,
              "#bd3786"
             ],
             [
              0.5555555555555556,
              "#d8576b"
             ],
             [
              0.6666666666666666,
              "#ed7953"
             ],
             [
              0.7777777777777778,
              "#fb9f3a"
             ],
             [
              0.8888888888888888,
              "#fdca26"
             ],
             [
              1,
              "#f0f921"
             ]
            ],
            "type": "heatmapgl"
           }
          ],
          "histogram": [
           {
            "marker": {
             "pattern": {
              "fillmode": "overlay",
              "size": 10,
              "solidity": 0.2
             }
            },
            "type": "histogram"
           }
          ],
          "histogram2d": [
           {
            "colorbar": {
             "outlinewidth": 0,
             "ticks": ""
            },
            "colorscale": [
             [
              0,
              "#0d0887"
             ],
             [
              0.1111111111111111,
              "#46039f"
             ],
             [
              0.2222222222222222,
              "#7201a8"
             ],
             [
              0.3333333333333333,
              "#9c179e"
             ],
             [
              0.4444444444444444,
              "#bd3786"
             ],
             [
              0.5555555555555556,
              "#d8576b"
             ],
             [
              0.6666666666666666,
              "#ed7953"
             ],
             [
              0.7777777777777778,
              "#fb9f3a"
             ],
             [
              0.8888888888888888,
              "#fdca26"
             ],
             [
              1,
              "#f0f921"
             ]
            ],
            "type": "histogram2d"
           }
          ],
          "histogram2dcontour": [
           {
            "colorbar": {
             "outlinewidth": 0,
             "ticks": ""
            },
            "colorscale": [
             [
              0,
              "#0d0887"
             ],
             [
              0.1111111111111111,
              "#46039f"
             ],
             [
              0.2222222222222222,
              "#7201a8"
             ],
             [
              0.3333333333333333,
              "#9c179e"
             ],
             [
              0.4444444444444444,
              "#bd3786"
             ],
             [
              0.5555555555555556,
              "#d8576b"
             ],
             [
              0.6666666666666666,
              "#ed7953"
             ],
             [
              0.7777777777777778,
              "#fb9f3a"
             ],
             [
              0.8888888888888888,
              "#fdca26"
             ],
             [
              1,
              "#f0f921"
             ]
            ],
            "type": "histogram2dcontour"
           }
          ],
          "mesh3d": [
           {
            "colorbar": {
             "outlinewidth": 0,
             "ticks": ""
            },
            "type": "mesh3d"
           }
          ],
          "parcoords": [
           {
            "line": {
             "colorbar": {
              "outlinewidth": 0,
              "ticks": ""
             }
            },
            "type": "parcoords"
           }
          ],
          "pie": [
           {
            "automargin": true,
            "type": "pie"
           }
          ],
          "scatter": [
           {
            "fillpattern": {
             "fillmode": "overlay",
             "size": 10,
             "solidity": 0.2
            },
            "type": "scatter"
           }
          ],
          "scatter3d": [
           {
            "line": {
             "colorbar": {
              "outlinewidth": 0,
              "ticks": ""
             }
            },
            "marker": {
             "colorbar": {
              "outlinewidth": 0,
              "ticks": ""
             }
            },
            "type": "scatter3d"
           }
          ],
          "scattercarpet": [
           {
            "marker": {
             "colorbar": {
              "outlinewidth": 0,
              "ticks": ""
             }
            },
            "type": "scattercarpet"
           }
          ],
          "scattergeo": [
           {
            "marker": {
             "colorbar": {
              "outlinewidth": 0,
              "ticks": ""
             }
            },
            "type": "scattergeo"
           }
          ],
          "scattergl": [
           {
            "marker": {
             "colorbar": {
              "outlinewidth": 0,
              "ticks": ""
             }
            },
            "type": "scattergl"
           }
          ],
          "scattermapbox": [
           {
            "marker": {
             "colorbar": {
              "outlinewidth": 0,
              "ticks": ""
             }
            },
            "type": "scattermapbox"
           }
          ],
          "scatterpolar": [
           {
            "marker": {
             "colorbar": {
              "outlinewidth": 0,
              "ticks": ""
             }
            },
            "type": "scatterpolar"
           }
          ],
          "scatterpolargl": [
           {
            "marker": {
             "colorbar": {
              "outlinewidth": 0,
              "ticks": ""
             }
            },
            "type": "scatterpolargl"
           }
          ],
          "scatterternary": [
           {
            "marker": {
             "colorbar": {
              "outlinewidth": 0,
              "ticks": ""
             }
            },
            "type": "scatterternary"
           }
          ],
          "surface": [
           {
            "colorbar": {
             "outlinewidth": 0,
             "ticks": ""
            },
            "colorscale": [
             [
              0,
              "#0d0887"
             ],
             [
              0.1111111111111111,
              "#46039f"
             ],
             [
              0.2222222222222222,
              "#7201a8"
             ],
             [
              0.3333333333333333,
              "#9c179e"
             ],
             [
              0.4444444444444444,
              "#bd3786"
             ],
             [
              0.5555555555555556,
              "#d8576b"
             ],
             [
              0.6666666666666666,
              "#ed7953"
             ],
             [
              0.7777777777777778,
              "#fb9f3a"
             ],
             [
              0.8888888888888888,
              "#fdca26"
             ],
             [
              1,
              "#f0f921"
             ]
            ],
            "type": "surface"
           }
          ],
          "table": [
           {
            "cells": {
             "fill": {
              "color": "#EBF0F8"
             },
             "line": {
              "color": "white"
             }
            },
            "header": {
             "fill": {
              "color": "#C8D4E3"
             },
             "line": {
              "color": "white"
             }
            },
            "type": "table"
           }
          ]
         },
         "layout": {
          "annotationdefaults": {
           "arrowcolor": "#2a3f5f",
           "arrowhead": 0,
           "arrowwidth": 1
          },
          "autotypenumbers": "strict",
          "coloraxis": {
           "colorbar": {
            "outlinewidth": 0,
            "ticks": ""
           }
          },
          "colorscale": {
           "diverging": [
            [
             0,
             "#8e0152"
            ],
            [
             0.1,
             "#c51b7d"
            ],
            [
             0.2,
             "#de77ae"
            ],
            [
             0.3,
             "#f1b6da"
            ],
            [
             0.4,
             "#fde0ef"
            ],
            [
             0.5,
             "#f7f7f7"
            ],
            [
             0.6,
             "#e6f5d0"
            ],
            [
             0.7,
             "#b8e186"
            ],
            [
             0.8,
             "#7fbc41"
            ],
            [
             0.9,
             "#4d9221"
            ],
            [
             1,
             "#276419"
            ]
           ],
           "sequential": [
            [
             0,
             "#0d0887"
            ],
            [
             0.1111111111111111,
             "#46039f"
            ],
            [
             0.2222222222222222,
             "#7201a8"
            ],
            [
             0.3333333333333333,
             "#9c179e"
            ],
            [
             0.4444444444444444,
             "#bd3786"
            ],
            [
             0.5555555555555556,
             "#d8576b"
            ],
            [
             0.6666666666666666,
             "#ed7953"
            ],
            [
             0.7777777777777778,
             "#fb9f3a"
            ],
            [
             0.8888888888888888,
             "#fdca26"
            ],
            [
             1,
             "#f0f921"
            ]
           ],
           "sequentialminus": [
            [
             0,
             "#0d0887"
            ],
            [
             0.1111111111111111,
             "#46039f"
            ],
            [
             0.2222222222222222,
             "#7201a8"
            ],
            [
             0.3333333333333333,
             "#9c179e"
            ],
            [
             0.4444444444444444,
             "#bd3786"
            ],
            [
             0.5555555555555556,
             "#d8576b"
            ],
            [
             0.6666666666666666,
             "#ed7953"
            ],
            [
             0.7777777777777778,
             "#fb9f3a"
            ],
            [
             0.8888888888888888,
             "#fdca26"
            ],
            [
             1,
             "#f0f921"
            ]
           ]
          },
          "colorway": [
           "#636efa",
           "#EF553B",
           "#00cc96",
           "#ab63fa",
           "#FFA15A",
           "#19d3f3",
           "#FF6692",
           "#B6E880",
           "#FF97FF",
           "#FECB52"
          ],
          "font": {
           "color": "#2a3f5f"
          },
          "geo": {
           "bgcolor": "white",
           "lakecolor": "white",
           "landcolor": "#E5ECF6",
           "showlakes": true,
           "showland": true,
           "subunitcolor": "white"
          },
          "hoverlabel": {
           "align": "left"
          },
          "hovermode": "closest",
          "mapbox": {
           "style": "light"
          },
          "paper_bgcolor": "white",
          "plot_bgcolor": "#E5ECF6",
          "polar": {
           "angularaxis": {
            "gridcolor": "white",
            "linecolor": "white",
            "ticks": ""
           },
           "bgcolor": "#E5ECF6",
           "radialaxis": {
            "gridcolor": "white",
            "linecolor": "white",
            "ticks": ""
           }
          },
          "scene": {
           "xaxis": {
            "backgroundcolor": "#E5ECF6",
            "gridcolor": "white",
            "gridwidth": 2,
            "linecolor": "white",
            "showbackground": true,
            "ticks": "",
            "zerolinecolor": "white"
           },
           "yaxis": {
            "backgroundcolor": "#E5ECF6",
            "gridcolor": "white",
            "gridwidth": 2,
            "linecolor": "white",
            "showbackground": true,
            "ticks": "",
            "zerolinecolor": "white"
           },
           "zaxis": {
            "backgroundcolor": "#E5ECF6",
            "gridcolor": "white",
            "gridwidth": 2,
            "linecolor": "white",
            "showbackground": true,
            "ticks": "",
            "zerolinecolor": "white"
           }
          },
          "shapedefaults": {
           "line": {
            "color": "#2a3f5f"
           }
          },
          "ternary": {
           "aaxis": {
            "gridcolor": "white",
            "linecolor": "white",
            "ticks": ""
           },
           "baxis": {
            "gridcolor": "white",
            "linecolor": "white",
            "ticks": ""
           },
           "bgcolor": "#E5ECF6",
           "caxis": {
            "gridcolor": "white",
            "linecolor": "white",
            "ticks": ""
           }
          },
          "title": {
           "x": 0.05
          },
          "xaxis": {
           "automargin": true,
           "gridcolor": "white",
           "linecolor": "white",
           "ticks": "",
           "title": {
            "standoff": 15
           },
           "zerolinecolor": "white",
           "zerolinewidth": 2
          },
          "yaxis": {
           "automargin": true,
           "gridcolor": "white",
           "linecolor": "white",
           "ticks": "",
           "title": {
            "standoff": 15
           },
           "zerolinecolor": "white",
           "zerolinewidth": 2
          }
         }
        },
        "title": {
         "text": "Соотношение модифицированных и немодифицированных последовательностей"
        }
       }
      }
     },
     "metadata": {},
     "output_type": "display_data"
    }
   ],
   "source": [
    "plot_pie(df, 'Modified', \"Соотношение модифицированных и немодифицированных последовательностей\", colors)"
   ]
  },
  {
   "cell_type": "code",
   "execution_count": null,
   "metadata": {},
   "outputs": [
    {
     "data": {
      "application/vnd.plotly.v1+json": {
       "config": {
        "plotlyServerURL": "https://plot.ly"
       },
       "data": [
        {
         "alignmentgroup": "True",
         "bingroup": "x",
         "hovertemplate": "Stability t1/2, h=%{x}<br>count=%{y}<extra></extra>",
         "legendgroup": "",
         "marker": {
          "color": "#b5de2b",
          "opacity": 0.8,
          "pattern": {
           "shape": ""
          }
         },
         "name": "",
         "offsetgroup": "",
         "orientation": "v",
         "showlegend": false,
         "type": "histogram",
         "x": [
          72,
          72,
          1.89,
          5.09,
          4.23,
          6,
          0.5,
          24,
          4.8,
          9.4,
          0.8,
          0.6,
          4,
          5.9,
          2.8,
          2.7,
          5.1,
          3.5,
          3.4,
          2,
          0.5,
          0.03,
          11,
          5.8,
          11.03,
          3.79,
          30,
          110,
          10,
          5,
          0.08,
          0.08,
          0.1,
          0.53,
          0.97,
          0.8,
          0.18,
          50,
          5.5,
          77,
          8.5,
          0.74,
          0.016,
          0.08,
          0.08,
          0.08,
          0.08,
          15.73,
          0.042,
          0.67,
          2.8,
          0.002,
          0.002,
          0.002,
          2,
          0.25,
          0.002,
          4.33,
          4.17,
          5.33,
          4.17,
          6.67,
          4.17,
          6.33,
          5,
          5,
          5,
          4.17,
          4.17,
          4.67,
          8.33,
          5.83,
          8.33,
          8.33,
          8.33,
          5,
          8.33,
          5,
          5,
          266.67,
          266.67,
          0.165,
          0.178,
          0.86,
          1.17,
          3.8,
          0.05,
          0.285,
          0.12,
          0.375,
          0.2,
          0.253,
          8.2,
          4.9,
          12,
          10,
          240,
          240,
          240,
          240,
          3.8,
          16,
          6,
          9.9,
          11,
          240,
          240,
          240,
          240,
          8,
          1.8,
          1.6,
          2.5,
          2.2,
          180,
          110,
          230,
          75,
          2.5,
          0.6,
          8,
          0.54,
          0.08,
          15,
          52,
          6,
          2,
          100,
          5,
          0.12,
          0.05,
          0.05,
          75,
          21,
          75,
          21,
          0.33,
          30,
          1.5,
          10,
          4,
          5,
          17,
          15,
          15,
          12,
          1.01,
          5.32,
          2.37,
          0.64,
          3.78,
          1.05
         ],
         "xaxis": "x",
         "yaxis": "y"
        },
        {
         "alignmentgroup": "True",
         "box": {
          "visible": false
         },
         "hovertemplate": "Stability t1/2, h=%{y}<extra></extra>",
         "legendgroup": "",
         "marker": {
          "color": "#b5de2b"
         },
         "name": "",
         "offsetgroup": "",
         "orientation": "v",
         "scalegroup": "True",
         "showlegend": false,
         "type": "violin",
         "x0": " ",
         "xaxis": "x2",
         "y": [
          72,
          72,
          1.89,
          5.09,
          4.23,
          6,
          0.5,
          24,
          4.8,
          9.4,
          0.8,
          0.6,
          4,
          5.9,
          2.8,
          2.7,
          5.1,
          3.5,
          3.4,
          2,
          0.5,
          0.03,
          11,
          5.8,
          11.03,
          3.79,
          30,
          110,
          10,
          5,
          0.08,
          0.08,
          0.1,
          0.53,
          0.97,
          0.8,
          0.18,
          50,
          5.5,
          77,
          8.5,
          0.74,
          0.016,
          0.08,
          0.08,
          0.08,
          0.08,
          15.73,
          0.042,
          0.67,
          2.8,
          0.002,
          0.002,
          0.002,
          2,
          0.25,
          0.002,
          4.33,
          4.17,
          5.33,
          4.17,
          6.67,
          4.17,
          6.33,
          5,
          5,
          5,
          4.17,
          4.17,
          4.67,
          8.33,
          5.83,
          8.33,
          8.33,
          8.33,
          5,
          8.33,
          5,
          5,
          266.67,
          266.67,
          0.165,
          0.178,
          0.86,
          1.17,
          3.8,
          0.05,
          0.285,
          0.12,
          0.375,
          0.2,
          0.253,
          8.2,
          4.9,
          12,
          10,
          240,
          240,
          240,
          240,
          3.8,
          16,
          6,
          9.9,
          11,
          240,
          240,
          240,
          240,
          8,
          1.8,
          1.6,
          2.5,
          2.2,
          180,
          110,
          230,
          75,
          2.5,
          0.6,
          8,
          0.54,
          0.08,
          15,
          52,
          6,
          2,
          100,
          5,
          0.12,
          0.05,
          0.05,
          75,
          21,
          75,
          21,
          0.33,
          30,
          1.5,
          10,
          4,
          5,
          17,
          15,
          15,
          12,
          1.01,
          5.32,
          2.37,
          0.64,
          3.78,
          1.05
         ],
         "y0": " ",
         "yaxis": "y2"
        }
       ],
       "layout": {
        "annotations": [
         {
          "font": {
           "size": 16
          },
          "showarrow": false,
          "text": "Гистограмма",
          "x": 0.225,
          "xanchor": "center",
          "xref": "paper",
          "y": 1,
          "yanchor": "bottom",
          "yref": "paper"
         },
         {
          "font": {
           "size": 16
          },
          "showarrow": false,
          "text": "Violin Plot",
          "x": 0.775,
          "xanchor": "center",
          "xref": "paper",
          "y": 1,
          "yanchor": "bottom",
          "yref": "paper"
         }
        ],
        "height": 600,
        "showlegend": true,
        "template": {
         "data": {
          "bar": [
           {
            "error_x": {
             "color": "#2a3f5f"
            },
            "error_y": {
             "color": "#2a3f5f"
            },
            "marker": {
             "line": {
              "color": "#E5ECF6",
              "width": 0.5
             },
             "pattern": {
              "fillmode": "overlay",
              "size": 10,
              "solidity": 0.2
             }
            },
            "type": "bar"
           }
          ],
          "barpolar": [
           {
            "marker": {
             "line": {
              "color": "#E5ECF6",
              "width": 0.5
             },
             "pattern": {
              "fillmode": "overlay",
              "size": 10,
              "solidity": 0.2
             }
            },
            "type": "barpolar"
           }
          ],
          "carpet": [
           {
            "aaxis": {
             "endlinecolor": "#2a3f5f",
             "gridcolor": "white",
             "linecolor": "white",
             "minorgridcolor": "white",
             "startlinecolor": "#2a3f5f"
            },
            "baxis": {
             "endlinecolor": "#2a3f5f",
             "gridcolor": "white",
             "linecolor": "white",
             "minorgridcolor": "white",
             "startlinecolor": "#2a3f5f"
            },
            "type": "carpet"
           }
          ],
          "choropleth": [
           {
            "colorbar": {
             "outlinewidth": 0,
             "ticks": ""
            },
            "type": "choropleth"
           }
          ],
          "contour": [
           {
            "colorbar": {
             "outlinewidth": 0,
             "ticks": ""
            },
            "colorscale": [
             [
              0,
              "#0d0887"
             ],
             [
              0.1111111111111111,
              "#46039f"
             ],
             [
              0.2222222222222222,
              "#7201a8"
             ],
             [
              0.3333333333333333,
              "#9c179e"
             ],
             [
              0.4444444444444444,
              "#bd3786"
             ],
             [
              0.5555555555555556,
              "#d8576b"
             ],
             [
              0.6666666666666666,
              "#ed7953"
             ],
             [
              0.7777777777777778,
              "#fb9f3a"
             ],
             [
              0.8888888888888888,
              "#fdca26"
             ],
             [
              1,
              "#f0f921"
             ]
            ],
            "type": "contour"
           }
          ],
          "contourcarpet": [
           {
            "colorbar": {
             "outlinewidth": 0,
             "ticks": ""
            },
            "type": "contourcarpet"
           }
          ],
          "heatmap": [
           {
            "colorbar": {
             "outlinewidth": 0,
             "ticks": ""
            },
            "colorscale": [
             [
              0,
              "#0d0887"
             ],
             [
              0.1111111111111111,
              "#46039f"
             ],
             [
              0.2222222222222222,
              "#7201a8"
             ],
             [
              0.3333333333333333,
              "#9c179e"
             ],
             [
              0.4444444444444444,
              "#bd3786"
             ],
             [
              0.5555555555555556,
              "#d8576b"
             ],
             [
              0.6666666666666666,
              "#ed7953"
             ],
             [
              0.7777777777777778,
              "#fb9f3a"
             ],
             [
              0.8888888888888888,
              "#fdca26"
             ],
             [
              1,
              "#f0f921"
             ]
            ],
            "type": "heatmap"
           }
          ],
          "heatmapgl": [
           {
            "colorbar": {
             "outlinewidth": 0,
             "ticks": ""
            },
            "colorscale": [
             [
              0,
              "#0d0887"
             ],
             [
              0.1111111111111111,
              "#46039f"
             ],
             [
              0.2222222222222222,
              "#7201a8"
             ],
             [
              0.3333333333333333,
              "#9c179e"
             ],
             [
              0.4444444444444444,
              "#bd3786"
             ],
             [
              0.5555555555555556,
              "#d8576b"
             ],
             [
              0.6666666666666666,
              "#ed7953"
             ],
             [
              0.7777777777777778,
              "#fb9f3a"
             ],
             [
              0.8888888888888888,
              "#fdca26"
             ],
             [
              1,
              "#f0f921"
             ]
            ],
            "type": "heatmapgl"
           }
          ],
          "histogram": [
           {
            "marker": {
             "pattern": {
              "fillmode": "overlay",
              "size": 10,
              "solidity": 0.2
             }
            },
            "type": "histogram"
           }
          ],
          "histogram2d": [
           {
            "colorbar": {
             "outlinewidth": 0,
             "ticks": ""
            },
            "colorscale": [
             [
              0,
              "#0d0887"
             ],
             [
              0.1111111111111111,
              "#46039f"
             ],
             [
              0.2222222222222222,
              "#7201a8"
             ],
             [
              0.3333333333333333,
              "#9c179e"
             ],
             [
              0.4444444444444444,
              "#bd3786"
             ],
             [
              0.5555555555555556,
              "#d8576b"
             ],
             [
              0.6666666666666666,
              "#ed7953"
             ],
             [
              0.7777777777777778,
              "#fb9f3a"
             ],
             [
              0.8888888888888888,
              "#fdca26"
             ],
             [
              1,
              "#f0f921"
             ]
            ],
            "type": "histogram2d"
           }
          ],
          "histogram2dcontour": [
           {
            "colorbar": {
             "outlinewidth": 0,
             "ticks": ""
            },
            "colorscale": [
             [
              0,
              "#0d0887"
             ],
             [
              0.1111111111111111,
              "#46039f"
             ],
             [
              0.2222222222222222,
              "#7201a8"
             ],
             [
              0.3333333333333333,
              "#9c179e"
             ],
             [
              0.4444444444444444,
              "#bd3786"
             ],
             [
              0.5555555555555556,
              "#d8576b"
             ],
             [
              0.6666666666666666,
              "#ed7953"
             ],
             [
              0.7777777777777778,
              "#fb9f3a"
             ],
             [
              0.8888888888888888,
              "#fdca26"
             ],
             [
              1,
              "#f0f921"
             ]
            ],
            "type": "histogram2dcontour"
           }
          ],
          "mesh3d": [
           {
            "colorbar": {
             "outlinewidth": 0,
             "ticks": ""
            },
            "type": "mesh3d"
           }
          ],
          "parcoords": [
           {
            "line": {
             "colorbar": {
              "outlinewidth": 0,
              "ticks": ""
             }
            },
            "type": "parcoords"
           }
          ],
          "pie": [
           {
            "automargin": true,
            "type": "pie"
           }
          ],
          "scatter": [
           {
            "fillpattern": {
             "fillmode": "overlay",
             "size": 10,
             "solidity": 0.2
            },
            "type": "scatter"
           }
          ],
          "scatter3d": [
           {
            "line": {
             "colorbar": {
              "outlinewidth": 0,
              "ticks": ""
             }
            },
            "marker": {
             "colorbar": {
              "outlinewidth": 0,
              "ticks": ""
             }
            },
            "type": "scatter3d"
           }
          ],
          "scattercarpet": [
           {
            "marker": {
             "colorbar": {
              "outlinewidth": 0,
              "ticks": ""
             }
            },
            "type": "scattercarpet"
           }
          ],
          "scattergeo": [
           {
            "marker": {
             "colorbar": {
              "outlinewidth": 0,
              "ticks": ""
             }
            },
            "type": "scattergeo"
           }
          ],
          "scattergl": [
           {
            "marker": {
             "colorbar": {
              "outlinewidth": 0,
              "ticks": ""
             }
            },
            "type": "scattergl"
           }
          ],
          "scattermapbox": [
           {
            "marker": {
             "colorbar": {
              "outlinewidth": 0,
              "ticks": ""
             }
            },
            "type": "scattermapbox"
           }
          ],
          "scatterpolar": [
           {
            "marker": {
             "colorbar": {
              "outlinewidth": 0,
              "ticks": ""
             }
            },
            "type": "scatterpolar"
           }
          ],
          "scatterpolargl": [
           {
            "marker": {
             "colorbar": {
              "outlinewidth": 0,
              "ticks": ""
             }
            },
            "type": "scatterpolargl"
           }
          ],
          "scatterternary": [
           {
            "marker": {
             "colorbar": {
              "outlinewidth": 0,
              "ticks": ""
             }
            },
            "type": "scatterternary"
           }
          ],
          "surface": [
           {
            "colorbar": {
             "outlinewidth": 0,
             "ticks": ""
            },
            "colorscale": [
             [
              0,
              "#0d0887"
             ],
             [
              0.1111111111111111,
              "#46039f"
             ],
             [
              0.2222222222222222,
              "#7201a8"
             ],
             [
              0.3333333333333333,
              "#9c179e"
             ],
             [
              0.4444444444444444,
              "#bd3786"
             ],
             [
              0.5555555555555556,
              "#d8576b"
             ],
             [
              0.6666666666666666,
              "#ed7953"
             ],
             [
              0.7777777777777778,
              "#fb9f3a"
             ],
             [
              0.8888888888888888,
              "#fdca26"
             ],
             [
              1,
              "#f0f921"
             ]
            ],
            "type": "surface"
           }
          ],
          "table": [
           {
            "cells": {
             "fill": {
              "color": "#EBF0F8"
             },
             "line": {
              "color": "white"
             }
            },
            "header": {
             "fill": {
              "color": "#C8D4E3"
             },
             "line": {
              "color": "white"
             }
            },
            "type": "table"
           }
          ]
         },
         "layout": {
          "annotationdefaults": {
           "arrowcolor": "#2a3f5f",
           "arrowhead": 0,
           "arrowwidth": 1
          },
          "autotypenumbers": "strict",
          "coloraxis": {
           "colorbar": {
            "outlinewidth": 0,
            "ticks": ""
           }
          },
          "colorscale": {
           "diverging": [
            [
             0,
             "#8e0152"
            ],
            [
             0.1,
             "#c51b7d"
            ],
            [
             0.2,
             "#de77ae"
            ],
            [
             0.3,
             "#f1b6da"
            ],
            [
             0.4,
             "#fde0ef"
            ],
            [
             0.5,
             "#f7f7f7"
            ],
            [
             0.6,
             "#e6f5d0"
            ],
            [
             0.7,
             "#b8e186"
            ],
            [
             0.8,
             "#7fbc41"
            ],
            [
             0.9,
             "#4d9221"
            ],
            [
             1,
             "#276419"
            ]
           ],
           "sequential": [
            [
             0,
             "#0d0887"
            ],
            [
             0.1111111111111111,
             "#46039f"
            ],
            [
             0.2222222222222222,
             "#7201a8"
            ],
            [
             0.3333333333333333,
             "#9c179e"
            ],
            [
             0.4444444444444444,
             "#bd3786"
            ],
            [
             0.5555555555555556,
             "#d8576b"
            ],
            [
             0.6666666666666666,
             "#ed7953"
            ],
            [
             0.7777777777777778,
             "#fb9f3a"
            ],
            [
             0.8888888888888888,
             "#fdca26"
            ],
            [
             1,
             "#f0f921"
            ]
           ],
           "sequentialminus": [
            [
             0,
             "#0d0887"
            ],
            [
             0.1111111111111111,
             "#46039f"
            ],
            [
             0.2222222222222222,
             "#7201a8"
            ],
            [
             0.3333333333333333,
             "#9c179e"
            ],
            [
             0.4444444444444444,
             "#bd3786"
            ],
            [
             0.5555555555555556,
             "#d8576b"
            ],
            [
             0.6666666666666666,
             "#ed7953"
            ],
            [
             0.7777777777777778,
             "#fb9f3a"
            ],
            [
             0.8888888888888888,
             "#fdca26"
            ],
            [
             1,
             "#f0f921"
            ]
           ]
          },
          "colorway": [
           "#636efa",
           "#EF553B",
           "#00cc96",
           "#ab63fa",
           "#FFA15A",
           "#19d3f3",
           "#FF6692",
           "#B6E880",
           "#FF97FF",
           "#FECB52"
          ],
          "font": {
           "color": "#2a3f5f"
          },
          "geo": {
           "bgcolor": "white",
           "lakecolor": "white",
           "landcolor": "#E5ECF6",
           "showlakes": true,
           "showland": true,
           "subunitcolor": "white"
          },
          "hoverlabel": {
           "align": "left"
          },
          "hovermode": "closest",
          "mapbox": {
           "style": "light"
          },
          "paper_bgcolor": "white",
          "plot_bgcolor": "#E5ECF6",
          "polar": {
           "angularaxis": {
            "gridcolor": "white",
            "linecolor": "white",
            "ticks": ""
           },
           "bgcolor": "#E5ECF6",
           "radialaxis": {
            "gridcolor": "white",
            "linecolor": "white",
            "ticks": ""
           }
          },
          "scene": {
           "xaxis": {
            "backgroundcolor": "#E5ECF6",
            "gridcolor": "white",
            "gridwidth": 2,
            "linecolor": "white",
            "showbackground": true,
            "ticks": "",
            "zerolinecolor": "white"
           },
           "yaxis": {
            "backgroundcolor": "#E5ECF6",
            "gridcolor": "white",
            "gridwidth": 2,
            "linecolor": "white",
            "showbackground": true,
            "ticks": "",
            "zerolinecolor": "white"
           },
           "zaxis": {
            "backgroundcolor": "#E5ECF6",
            "gridcolor": "white",
            "gridwidth": 2,
            "linecolor": "white",
            "showbackground": true,
            "ticks": "",
            "zerolinecolor": "white"
           }
          },
          "shapedefaults": {
           "line": {
            "color": "#2a3f5f"
           }
          },
          "ternary": {
           "aaxis": {
            "gridcolor": "white",
            "linecolor": "white",
            "ticks": ""
           },
           "baxis": {
            "gridcolor": "white",
            "linecolor": "white",
            "ticks": ""
           },
           "bgcolor": "#E5ECF6",
           "caxis": {
            "gridcolor": "white",
            "linecolor": "white",
            "ticks": ""
           }
          },
          "title": {
           "x": 0.05
          },
          "xaxis": {
           "automargin": true,
           "gridcolor": "white",
           "linecolor": "white",
           "ticks": "",
           "title": {
            "standoff": 15
           },
           "zerolinecolor": "white",
           "zerolinewidth": 2
          },
          "yaxis": {
           "automargin": true,
           "gridcolor": "white",
           "linecolor": "white",
           "ticks": "",
           "title": {
            "standoff": 15
           },
           "zerolinecolor": "white",
           "zerolinewidth": 2
          }
         }
        },
        "title": {
         "text": "Распределение значений периода полураспада"
        },
        "width": 1200,
        "xaxis": {
         "anchor": "y",
         "domain": [
          0,
          0.45
         ]
        },
        "xaxis2": {
         "anchor": "y2",
         "domain": [
          0.55,
          1
         ]
        },
        "yaxis": {
         "anchor": "x",
         "domain": [
          0,
          1
         ]
        },
        "yaxis2": {
         "anchor": "x2",
         "domain": [
          0,
          1
         ]
        }
       }
      }
     },
     "metadata": {},
     "output_type": "display_data"
    }
   ],
   "source": [
    "# Создание подграфиков\n",
    "fig = make_subplots(rows=1, cols=2, subplot_titles=(\"Гистограмма\", \"Violin Plot\"), column_widths=[0.5, 0.5])\n",
    "\n",
    "# Добавление гистограммы\n",
    "hist_fig = px.histogram(df, x = \"Stability t1/2, h\",\n",
    "         color_discrete_sequence = colors, \n",
    "         opacity = 0.8)\n",
    "\n",
    "\n",
    "fig.add_trace(hist_fig['data'][0], row=1, col=1)\n",
    "\n",
    "# Добавление box диаграммы\n",
    "violin_fig = px.violin(df, y=\"Stability t1/2, h\",\n",
    "        color_discrete_sequence=colors)\n",
    "\n",
    "\n",
    "fig.add_trace(violin_fig['data'][0], row=1, col=2)\n",
    "\n",
    "# Настройка макета\n",
    "fig.update_layout(showlegend=True, title_text=\"Распределение значений периода полураспада\", height=600,  width=1200) \n",
    "\n",
    "fig.show()"
   ]
  },
  {
   "cell_type": "code",
   "execution_count": null,
   "metadata": {},
   "outputs": [
    {
     "data": {
      "application/vnd.plotly.v1+json": {
       "config": {
        "plotlyServerURL": "https://plot.ly"
       },
       "data": [
        {
         "alignmentgroup": "True",
         "bingroup": "x",
         "hovertemplate": "Type=DNA<br>Stability t1/2, h=%{x}<br>count=%{y}<extra></extra>",
         "legendgroup": "DNA",
         "marker": {
          "color": "#b5de2b",
          "opacity": 0.7,
          "pattern": {
           "shape": ""
          }
         },
         "name": "DNA",
         "offsetgroup": "DNA",
         "orientation": "v",
         "showlegend": true,
         "type": "histogram",
         "x": [
          72,
          72,
          1.89,
          5.09,
          4.23,
          0.5,
          24,
          4.8,
          9.4,
          0.8,
          0.6,
          4,
          5.9,
          2.8,
          2.7,
          5.1,
          3.5,
          3.4,
          2,
          0.5,
          0.03,
          30,
          110,
          10,
          5,
          0.08,
          0.08,
          0.1,
          0.53,
          0.97,
          0.8,
          0.18,
          0.05,
          0.285,
          0.12,
          0.375,
          0.2,
          0.253,
          8.2,
          4.9,
          16,
          6,
          1.8,
          1.6,
          0.6,
          8,
          0.54,
          2,
          100,
          5,
          0.12,
          0.05,
          0.05,
          0.33,
          30,
          1.5,
          10,
          4,
          5,
          17,
          15,
          15,
          12,
          1.01,
          5.32,
          2.37,
          0.64,
          3.78,
          1.05
         ],
         "xaxis": "x",
         "yaxis": "y"
        },
        {
         "alignmentgroup": "True",
         "bingroup": "x",
         "hovertemplate": "Type=RNA<br>Stability t1/2, h=%{x}<br>count=%{y}<extra></extra>",
         "legendgroup": "RNA",
         "marker": {
          "color": "#6ece58",
          "opacity": 0.7,
          "pattern": {
           "shape": ""
          }
         },
         "name": "RNA",
         "offsetgroup": "RNA",
         "orientation": "v",
         "showlegend": true,
         "type": "histogram",
         "x": [
          6,
          11,
          5.8,
          11.03,
          3.79,
          0.165,
          0.178,
          0.86,
          1.17,
          3.8,
          12,
          10,
          240,
          240,
          240,
          240,
          3.8,
          9.9,
          11,
          240,
          240,
          240,
          240,
          8,
          2.5,
          2.2,
          180,
          110,
          230,
          75,
          2.5,
          0.08,
          15,
          52,
          6
         ],
         "xaxis": "x",
         "yaxis": "y"
        },
        {
         "alignmentgroup": "True",
         "bingroup": "x",
         "hovertemplate": "Type=SOMAmer<br>Stability t1/2, h=%{x}<br>count=%{y}<extra></extra>",
         "legendgroup": "SOMAmer",
         "marker": {
          "color": "#35b779",
          "opacity": 0.7,
          "pattern": {
           "shape": ""
          }
         },
         "name": "SOMAmer",
         "offsetgroup": "SOMAmer",
         "orientation": "v",
         "showlegend": true,
         "type": "histogram",
         "x": [
          50,
          5.5,
          77,
          8.5
         ],
         "xaxis": "x",
         "yaxis": "y"
        },
        {
         "alignmentgroup": "True",
         "bingroup": "x",
         "hovertemplate": "Type=ribozyme<br>Stability t1/2, h=%{x}<br>count=%{y}<extra></extra>",
         "legendgroup": "ribozyme",
         "marker": {
          "color": "#1f9e89",
          "opacity": 0.7,
          "pattern": {
           "shape": ""
          }
         },
         "name": "ribozyme",
         "offsetgroup": "ribozyme",
         "orientation": "v",
         "showlegend": true,
         "type": "histogram",
         "x": [
          0.74,
          0.016,
          0.08,
          0.08,
          0.08,
          0.08,
          15.73,
          0.042,
          0.67,
          2.8,
          0.002,
          0.002,
          0.002,
          2,
          0.25,
          0.002,
          4.33,
          4.17,
          5.33,
          4.17,
          6.67,
          4.17,
          6.33,
          5,
          5,
          5,
          4.17,
          4.17,
          4.67,
          8.33,
          5.83,
          8.33,
          8.33,
          8.33,
          5,
          8.33,
          5,
          5,
          266.67,
          266.67
         ],
         "xaxis": "x",
         "yaxis": "y"
        },
        {
         "alignmentgroup": "True",
         "bingroup": "x",
         "hovertemplate": "Type=DNAzyme<br>Stability t1/2, h=%{x}<br>count=%{y}<extra></extra>",
         "legendgroup": "DNAzyme",
         "marker": {
          "color": "#26828e",
          "opacity": 0.7,
          "pattern": {
           "shape": ""
          }
         },
         "name": "DNAzyme",
         "offsetgroup": "DNAzyme",
         "orientation": "v",
         "showlegend": true,
         "type": "histogram",
         "x": [
          75,
          21,
          75,
          21
         ],
         "xaxis": "x",
         "yaxis": "y"
        },
        {
         "alignmentgroup": "True",
         "hovertemplate": "Type=%{x}<br>Stability t1/2, h=%{y}<extra></extra>",
         "legendgroup": "DNA",
         "marker": {
          "color": "#b5de2b"
         },
         "name": "DNA",
         "notched": false,
         "offsetgroup": "DNA",
         "orientation": "v",
         "showlegend": true,
         "type": "box",
         "x": [
          "DNA",
          "DNA",
          "DNA",
          "DNA",
          "DNA",
          "DNA",
          "DNA",
          "DNA",
          "DNA",
          "DNA",
          "DNA",
          "DNA",
          "DNA",
          "DNA",
          "DNA",
          "DNA",
          "DNA",
          "DNA",
          "DNA",
          "DNA",
          "DNA",
          "DNA",
          "DNA",
          "DNA",
          "DNA",
          "DNA",
          "DNA",
          "DNA",
          "DNA",
          "DNA",
          "DNA",
          "DNA",
          "DNA",
          "DNA",
          "DNA",
          "DNA",
          "DNA",
          "DNA",
          "DNA",
          "DNA",
          "DNA",
          "DNA",
          "DNA",
          "DNA",
          "DNA",
          "DNA",
          "DNA",
          "DNA",
          "DNA",
          "DNA",
          "DNA",
          "DNA",
          "DNA",
          "DNA",
          "DNA",
          "DNA",
          "DNA",
          "DNA",
          "DNA",
          "DNA",
          "DNA",
          "DNA",
          "DNA",
          "DNA",
          "DNA",
          "DNA",
          "DNA",
          "DNA",
          "DNA"
         ],
         "x0": " ",
         "xaxis": "x2",
         "y": [
          72,
          72,
          1.89,
          5.09,
          4.23,
          0.5,
          24,
          4.8,
          9.4,
          0.8,
          0.6,
          4,
          5.9,
          2.8,
          2.7,
          5.1,
          3.5,
          3.4,
          2,
          0.5,
          0.03,
          30,
          110,
          10,
          5,
          0.08,
          0.08,
          0.1,
          0.53,
          0.97,
          0.8,
          0.18,
          0.05,
          0.285,
          0.12,
          0.375,
          0.2,
          0.253,
          8.2,
          4.9,
          16,
          6,
          1.8,
          1.6,
          0.6,
          8,
          0.54,
          2,
          100,
          5,
          0.12,
          0.05,
          0.05,
          0.33,
          30,
          1.5,
          10,
          4,
          5,
          17,
          15,
          15,
          12,
          1.01,
          5.32,
          2.37,
          0.64,
          3.78,
          1.05
         ],
         "y0": " ",
         "yaxis": "y2"
        },
        {
         "alignmentgroup": "True",
         "hovertemplate": "Type=%{x}<br>Stability t1/2, h=%{y}<extra></extra>",
         "legendgroup": "RNA",
         "marker": {
          "color": "#6ece58"
         },
         "name": "RNA",
         "notched": false,
         "offsetgroup": "RNA",
         "orientation": "v",
         "showlegend": true,
         "type": "box",
         "x": [
          "RNA",
          "RNA",
          "RNA",
          "RNA",
          "RNA",
          "RNA",
          "RNA",
          "RNA",
          "RNA",
          "RNA",
          "RNA",
          "RNA",
          "RNA",
          "RNA",
          "RNA",
          "RNA",
          "RNA",
          "RNA",
          "RNA",
          "RNA",
          "RNA",
          "RNA",
          "RNA",
          "RNA",
          "RNA",
          "RNA",
          "RNA",
          "RNA",
          "RNA",
          "RNA",
          "RNA",
          "RNA",
          "RNA",
          "RNA",
          "RNA"
         ],
         "x0": " ",
         "xaxis": "x2",
         "y": [
          6,
          11,
          5.8,
          11.03,
          3.79,
          0.165,
          0.178,
          0.86,
          1.17,
          3.8,
          12,
          10,
          240,
          240,
          240,
          240,
          3.8,
          9.9,
          11,
          240,
          240,
          240,
          240,
          8,
          2.5,
          2.2,
          180,
          110,
          230,
          75,
          2.5,
          0.08,
          15,
          52,
          6
         ],
         "y0": " ",
         "yaxis": "y2"
        },
        {
         "alignmentgroup": "True",
         "hovertemplate": "Type=%{x}<br>Stability t1/2, h=%{y}<extra></extra>",
         "legendgroup": "SOMAmer",
         "marker": {
          "color": "#35b779"
         },
         "name": "SOMAmer",
         "notched": false,
         "offsetgroup": "SOMAmer",
         "orientation": "v",
         "showlegend": true,
         "type": "box",
         "x": [
          "SOMAmer",
          "SOMAmer",
          "SOMAmer",
          "SOMAmer"
         ],
         "x0": " ",
         "xaxis": "x2",
         "y": [
          50,
          5.5,
          77,
          8.5
         ],
         "y0": " ",
         "yaxis": "y2"
        },
        {
         "alignmentgroup": "True",
         "hovertemplate": "Type=%{x}<br>Stability t1/2, h=%{y}<extra></extra>",
         "legendgroup": "ribozyme",
         "marker": {
          "color": "#1f9e89"
         },
         "name": "ribozyme",
         "notched": false,
         "offsetgroup": "ribozyme",
         "orientation": "v",
         "showlegend": true,
         "type": "box",
         "x": [
          "ribozyme",
          "ribozyme",
          "ribozyme",
          "ribozyme",
          "ribozyme",
          "ribozyme",
          "ribozyme",
          "ribozyme",
          "ribozyme",
          "ribozyme",
          "ribozyme",
          "ribozyme",
          "ribozyme",
          "ribozyme",
          "ribozyme",
          "ribozyme",
          "ribozyme",
          "ribozyme",
          "ribozyme",
          "ribozyme",
          "ribozyme",
          "ribozyme",
          "ribozyme",
          "ribozyme",
          "ribozyme",
          "ribozyme",
          "ribozyme",
          "ribozyme",
          "ribozyme",
          "ribozyme",
          "ribozyme",
          "ribozyme",
          "ribozyme",
          "ribozyme",
          "ribozyme",
          "ribozyme",
          "ribozyme",
          "ribozyme",
          "ribozyme",
          "ribozyme"
         ],
         "x0": " ",
         "xaxis": "x2",
         "y": [
          0.74,
          0.016,
          0.08,
          0.08,
          0.08,
          0.08,
          15.73,
          0.042,
          0.67,
          2.8,
          0.002,
          0.002,
          0.002,
          2,
          0.25,
          0.002,
          4.33,
          4.17,
          5.33,
          4.17,
          6.67,
          4.17,
          6.33,
          5,
          5,
          5,
          4.17,
          4.17,
          4.67,
          8.33,
          5.83,
          8.33,
          8.33,
          8.33,
          5,
          8.33,
          5,
          5,
          266.67,
          266.67
         ],
         "y0": " ",
         "yaxis": "y2"
        },
        {
         "alignmentgroup": "True",
         "hovertemplate": "Type=%{x}<br>Stability t1/2, h=%{y}<extra></extra>",
         "legendgroup": "DNAzyme",
         "marker": {
          "color": "#26828e"
         },
         "name": "DNAzyme",
         "notched": false,
         "offsetgroup": "DNAzyme",
         "orientation": "v",
         "showlegend": true,
         "type": "box",
         "x": [
          "DNAzyme",
          "DNAzyme",
          "DNAzyme",
          "DNAzyme"
         ],
         "x0": " ",
         "xaxis": "x2",
         "y": [
          75,
          21,
          75,
          21
         ],
         "y0": " ",
         "yaxis": "y2"
        }
       ],
       "layout": {
        "annotations": [
         {
          "font": {
           "size": 16
          },
          "showarrow": false,
          "text": "Гистограмма ",
          "x": 0.225,
          "xanchor": "center",
          "xref": "paper",
          "y": 1,
          "yanchor": "bottom",
          "yref": "paper"
         },
         {
          "font": {
           "size": 16
          },
          "showarrow": false,
          "text": "Box Plot",
          "x": 0.775,
          "xanchor": "center",
          "xref": "paper",
          "y": 1,
          "yanchor": "bottom",
          "yref": "paper"
         }
        ],
        "barmode": "stack",
        "height": 600,
        "showlegend": true,
        "template": {
         "data": {
          "bar": [
           {
            "error_x": {
             "color": "#2a3f5f"
            },
            "error_y": {
             "color": "#2a3f5f"
            },
            "marker": {
             "line": {
              "color": "#E5ECF6",
              "width": 0.5
             },
             "pattern": {
              "fillmode": "overlay",
              "size": 10,
              "solidity": 0.2
             }
            },
            "type": "bar"
           }
          ],
          "barpolar": [
           {
            "marker": {
             "line": {
              "color": "#E5ECF6",
              "width": 0.5
             },
             "pattern": {
              "fillmode": "overlay",
              "size": 10,
              "solidity": 0.2
             }
            },
            "type": "barpolar"
           }
          ],
          "carpet": [
           {
            "aaxis": {
             "endlinecolor": "#2a3f5f",
             "gridcolor": "white",
             "linecolor": "white",
             "minorgridcolor": "white",
             "startlinecolor": "#2a3f5f"
            },
            "baxis": {
             "endlinecolor": "#2a3f5f",
             "gridcolor": "white",
             "linecolor": "white",
             "minorgridcolor": "white",
             "startlinecolor": "#2a3f5f"
            },
            "type": "carpet"
           }
          ],
          "choropleth": [
           {
            "colorbar": {
             "outlinewidth": 0,
             "ticks": ""
            },
            "type": "choropleth"
           }
          ],
          "contour": [
           {
            "colorbar": {
             "outlinewidth": 0,
             "ticks": ""
            },
            "colorscale": [
             [
              0,
              "#0d0887"
             ],
             [
              0.1111111111111111,
              "#46039f"
             ],
             [
              0.2222222222222222,
              "#7201a8"
             ],
             [
              0.3333333333333333,
              "#9c179e"
             ],
             [
              0.4444444444444444,
              "#bd3786"
             ],
             [
              0.5555555555555556,
              "#d8576b"
             ],
             [
              0.6666666666666666,
              "#ed7953"
             ],
             [
              0.7777777777777778,
              "#fb9f3a"
             ],
             [
              0.8888888888888888,
              "#fdca26"
             ],
             [
              1,
              "#f0f921"
             ]
            ],
            "type": "contour"
           }
          ],
          "contourcarpet": [
           {
            "colorbar": {
             "outlinewidth": 0,
             "ticks": ""
            },
            "type": "contourcarpet"
           }
          ],
          "heatmap": [
           {
            "colorbar": {
             "outlinewidth": 0,
             "ticks": ""
            },
            "colorscale": [
             [
              0,
              "#0d0887"
             ],
             [
              0.1111111111111111,
              "#46039f"
             ],
             [
              0.2222222222222222,
              "#7201a8"
             ],
             [
              0.3333333333333333,
              "#9c179e"
             ],
             [
              0.4444444444444444,
              "#bd3786"
             ],
             [
              0.5555555555555556,
              "#d8576b"
             ],
             [
              0.6666666666666666,
              "#ed7953"
             ],
             [
              0.7777777777777778,
              "#fb9f3a"
             ],
             [
              0.8888888888888888,
              "#fdca26"
             ],
             [
              1,
              "#f0f921"
             ]
            ],
            "type": "heatmap"
           }
          ],
          "heatmapgl": [
           {
            "colorbar": {
             "outlinewidth": 0,
             "ticks": ""
            },
            "colorscale": [
             [
              0,
              "#0d0887"
             ],
             [
              0.1111111111111111,
              "#46039f"
             ],
             [
              0.2222222222222222,
              "#7201a8"
             ],
             [
              0.3333333333333333,
              "#9c179e"
             ],
             [
              0.4444444444444444,
              "#bd3786"
             ],
             [
              0.5555555555555556,
              "#d8576b"
             ],
             [
              0.6666666666666666,
              "#ed7953"
             ],
             [
              0.7777777777777778,
              "#fb9f3a"
             ],
             [
              0.8888888888888888,
              "#fdca26"
             ],
             [
              1,
              "#f0f921"
             ]
            ],
            "type": "heatmapgl"
           }
          ],
          "histogram": [
           {
            "marker": {
             "pattern": {
              "fillmode": "overlay",
              "size": 10,
              "solidity": 0.2
             }
            },
            "type": "histogram"
           }
          ],
          "histogram2d": [
           {
            "colorbar": {
             "outlinewidth": 0,
             "ticks": ""
            },
            "colorscale": [
             [
              0,
              "#0d0887"
             ],
             [
              0.1111111111111111,
              "#46039f"
             ],
             [
              0.2222222222222222,
              "#7201a8"
             ],
             [
              0.3333333333333333,
              "#9c179e"
             ],
             [
              0.4444444444444444,
              "#bd3786"
             ],
             [
              0.5555555555555556,
              "#d8576b"
             ],
             [
              0.6666666666666666,
              "#ed7953"
             ],
             [
              0.7777777777777778,
              "#fb9f3a"
             ],
             [
              0.8888888888888888,
              "#fdca26"
             ],
             [
              1,
              "#f0f921"
             ]
            ],
            "type": "histogram2d"
           }
          ],
          "histogram2dcontour": [
           {
            "colorbar": {
             "outlinewidth": 0,
             "ticks": ""
            },
            "colorscale": [
             [
              0,
              "#0d0887"
             ],
             [
              0.1111111111111111,
              "#46039f"
             ],
             [
              0.2222222222222222,
              "#7201a8"
             ],
             [
              0.3333333333333333,
              "#9c179e"
             ],
             [
              0.4444444444444444,
              "#bd3786"
             ],
             [
              0.5555555555555556,
              "#d8576b"
             ],
             [
              0.6666666666666666,
              "#ed7953"
             ],
             [
              0.7777777777777778,
              "#fb9f3a"
             ],
             [
              0.8888888888888888,
              "#fdca26"
             ],
             [
              1,
              "#f0f921"
             ]
            ],
            "type": "histogram2dcontour"
           }
          ],
          "mesh3d": [
           {
            "colorbar": {
             "outlinewidth": 0,
             "ticks": ""
            },
            "type": "mesh3d"
           }
          ],
          "parcoords": [
           {
            "line": {
             "colorbar": {
              "outlinewidth": 0,
              "ticks": ""
             }
            },
            "type": "parcoords"
           }
          ],
          "pie": [
           {
            "automargin": true,
            "type": "pie"
           }
          ],
          "scatter": [
           {
            "fillpattern": {
             "fillmode": "overlay",
             "size": 10,
             "solidity": 0.2
            },
            "type": "scatter"
           }
          ],
          "scatter3d": [
           {
            "line": {
             "colorbar": {
              "outlinewidth": 0,
              "ticks": ""
             }
            },
            "marker": {
             "colorbar": {
              "outlinewidth": 0,
              "ticks": ""
             }
            },
            "type": "scatter3d"
           }
          ],
          "scattercarpet": [
           {
            "marker": {
             "colorbar": {
              "outlinewidth": 0,
              "ticks": ""
             }
            },
            "type": "scattercarpet"
           }
          ],
          "scattergeo": [
           {
            "marker": {
             "colorbar": {
              "outlinewidth": 0,
              "ticks": ""
             }
            },
            "type": "scattergeo"
           }
          ],
          "scattergl": [
           {
            "marker": {
             "colorbar": {
              "outlinewidth": 0,
              "ticks": ""
             }
            },
            "type": "scattergl"
           }
          ],
          "scattermapbox": [
           {
            "marker": {
             "colorbar": {
              "outlinewidth": 0,
              "ticks": ""
             }
            },
            "type": "scattermapbox"
           }
          ],
          "scatterpolar": [
           {
            "marker": {
             "colorbar": {
              "outlinewidth": 0,
              "ticks": ""
             }
            },
            "type": "scatterpolar"
           }
          ],
          "scatterpolargl": [
           {
            "marker": {
             "colorbar": {
              "outlinewidth": 0,
              "ticks": ""
             }
            },
            "type": "scatterpolargl"
           }
          ],
          "scatterternary": [
           {
            "marker": {
             "colorbar": {
              "outlinewidth": 0,
              "ticks": ""
             }
            },
            "type": "scatterternary"
           }
          ],
          "surface": [
           {
            "colorbar": {
             "outlinewidth": 0,
             "ticks": ""
            },
            "colorscale": [
             [
              0,
              "#0d0887"
             ],
             [
              0.1111111111111111,
              "#46039f"
             ],
             [
              0.2222222222222222,
              "#7201a8"
             ],
             [
              0.3333333333333333,
              "#9c179e"
             ],
             [
              0.4444444444444444,
              "#bd3786"
             ],
             [
              0.5555555555555556,
              "#d8576b"
             ],
             [
              0.6666666666666666,
              "#ed7953"
             ],
             [
              0.7777777777777778,
              "#fb9f3a"
             ],
             [
              0.8888888888888888,
              "#fdca26"
             ],
             [
              1,
              "#f0f921"
             ]
            ],
            "type": "surface"
           }
          ],
          "table": [
           {
            "cells": {
             "fill": {
              "color": "#EBF0F8"
             },
             "line": {
              "color": "white"
             }
            },
            "header": {
             "fill": {
              "color": "#C8D4E3"
             },
             "line": {
              "color": "white"
             }
            },
            "type": "table"
           }
          ]
         },
         "layout": {
          "annotationdefaults": {
           "arrowcolor": "#2a3f5f",
           "arrowhead": 0,
           "arrowwidth": 1
          },
          "autotypenumbers": "strict",
          "coloraxis": {
           "colorbar": {
            "outlinewidth": 0,
            "ticks": ""
           }
          },
          "colorscale": {
           "diverging": [
            [
             0,
             "#8e0152"
            ],
            [
             0.1,
             "#c51b7d"
            ],
            [
             0.2,
             "#de77ae"
            ],
            [
             0.3,
             "#f1b6da"
            ],
            [
             0.4,
             "#fde0ef"
            ],
            [
             0.5,
             "#f7f7f7"
            ],
            [
             0.6,
             "#e6f5d0"
            ],
            [
             0.7,
             "#b8e186"
            ],
            [
             0.8,
             "#7fbc41"
            ],
            [
             0.9,
             "#4d9221"
            ],
            [
             1,
             "#276419"
            ]
           ],
           "sequential": [
            [
             0,
             "#0d0887"
            ],
            [
             0.1111111111111111,
             "#46039f"
            ],
            [
             0.2222222222222222,
             "#7201a8"
            ],
            [
             0.3333333333333333,
             "#9c179e"
            ],
            [
             0.4444444444444444,
             "#bd3786"
            ],
            [
             0.5555555555555556,
             "#d8576b"
            ],
            [
             0.6666666666666666,
             "#ed7953"
            ],
            [
             0.7777777777777778,
             "#fb9f3a"
            ],
            [
             0.8888888888888888,
             "#fdca26"
            ],
            [
             1,
             "#f0f921"
            ]
           ],
           "sequentialminus": [
            [
             0,
             "#0d0887"
            ],
            [
             0.1111111111111111,
             "#46039f"
            ],
            [
             0.2222222222222222,
             "#7201a8"
            ],
            [
             0.3333333333333333,
             "#9c179e"
            ],
            [
             0.4444444444444444,
             "#bd3786"
            ],
            [
             0.5555555555555556,
             "#d8576b"
            ],
            [
             0.6666666666666666,
             "#ed7953"
            ],
            [
             0.7777777777777778,
             "#fb9f3a"
            ],
            [
             0.8888888888888888,
             "#fdca26"
            ],
            [
             1,
             "#f0f921"
            ]
           ]
          },
          "colorway": [
           "#636efa",
           "#EF553B",
           "#00cc96",
           "#ab63fa",
           "#FFA15A",
           "#19d3f3",
           "#FF6692",
           "#B6E880",
           "#FF97FF",
           "#FECB52"
          ],
          "font": {
           "color": "#2a3f5f"
          },
          "geo": {
           "bgcolor": "white",
           "lakecolor": "white",
           "landcolor": "#E5ECF6",
           "showlakes": true,
           "showland": true,
           "subunitcolor": "white"
          },
          "hoverlabel": {
           "align": "left"
          },
          "hovermode": "closest",
          "mapbox": {
           "style": "light"
          },
          "paper_bgcolor": "white",
          "plot_bgcolor": "#E5ECF6",
          "polar": {
           "angularaxis": {
            "gridcolor": "white",
            "linecolor": "white",
            "ticks": ""
           },
           "bgcolor": "#E5ECF6",
           "radialaxis": {
            "gridcolor": "white",
            "linecolor": "white",
            "ticks": ""
           }
          },
          "scene": {
           "xaxis": {
            "backgroundcolor": "#E5ECF6",
            "gridcolor": "white",
            "gridwidth": 2,
            "linecolor": "white",
            "showbackground": true,
            "ticks": "",
            "zerolinecolor": "white"
           },
           "yaxis": {
            "backgroundcolor": "#E5ECF6",
            "gridcolor": "white",
            "gridwidth": 2,
            "linecolor": "white",
            "showbackground": true,
            "ticks": "",
            "zerolinecolor": "white"
           },
           "zaxis": {
            "backgroundcolor": "#E5ECF6",
            "gridcolor": "white",
            "gridwidth": 2,
            "linecolor": "white",
            "showbackground": true,
            "ticks": "",
            "zerolinecolor": "white"
           }
          },
          "shapedefaults": {
           "line": {
            "color": "#2a3f5f"
           }
          },
          "ternary": {
           "aaxis": {
            "gridcolor": "white",
            "linecolor": "white",
            "ticks": ""
           },
           "baxis": {
            "gridcolor": "white",
            "linecolor": "white",
            "ticks": ""
           },
           "bgcolor": "#E5ECF6",
           "caxis": {
            "gridcolor": "white",
            "linecolor": "white",
            "ticks": ""
           }
          },
          "title": {
           "x": 0.05
          },
          "xaxis": {
           "automargin": true,
           "gridcolor": "white",
           "linecolor": "white",
           "ticks": "",
           "title": {
            "standoff": 15
           },
           "zerolinecolor": "white",
           "zerolinewidth": 2
          },
          "yaxis": {
           "automargin": true,
           "gridcolor": "white",
           "linecolor": "white",
           "ticks": "",
           "title": {
            "standoff": 15
           },
           "zerolinecolor": "white",
           "zerolinewidth": 2
          }
         }
        },
        "title": {
         "text": "Распределение значений периода полураспада среди различных типов последовательностей"
        },
        "width": 1200,
        "xaxis": {
         "anchor": "y",
         "domain": [
          0,
          0.45
         ]
        },
        "xaxis2": {
         "anchor": "y2",
         "domain": [
          0.55,
          1
         ]
        },
        "yaxis": {
         "anchor": "x",
         "domain": [
          0,
          1
         ]
        },
        "yaxis2": {
         "anchor": "x2",
         "domain": [
          0,
          1
         ]
        }
       }
      }
     },
     "metadata": {},
     "output_type": "display_data"
    }
   ],
   "source": [
    "# Создание подграфиков\n",
    "fig = make_subplots(rows=1, cols=2, subplot_titles=(\"Гистограмма \", \"Box Plot\"), column_widths=[0.5, 0.5])\n",
    "\n",
    "# Добавление гистограммы\n",
    "hist_fig = px.histogram(df, x = \"Stability t1/2, h\", color = 'Type',\n",
    "         color_discrete_sequence = colors, \n",
    "         opacity = 0.7)\n",
    "\n",
    "\n",
    "for trace in hist_fig['data']:\n",
    "    fig.add_trace(trace, row=1, col=1)\n",
    "\n",
    "# Добавление box диаграммы\n",
    "box_fig = px.box(df, y=\"Stability t1/2, h\", x=\"Type\", color=\"Type\",\n",
    "        color_discrete_sequence=colors)\n",
    "\n",
    "for trace in box_fig['data']:\n",
    "    fig.add_trace(trace, row=1, col=2)\n",
    "\n",
    "# Настройка макета\n",
    "fig.update_layout(barmode='stack', showlegend=True, title_text=\"Распределение значений периода полураспада среди различных типов последовательностей\", height=600,  width=1200) \n",
    "\n",
    "fig.show()"
   ]
  },
  {
   "cell_type": "code",
   "execution_count": null,
   "metadata": {},
   "outputs": [
    {
     "data": {
      "application/vnd.plotly.v1+json": {
       "config": {
        "plotlyServerURL": "https://plot.ly"
       },
       "data": [
        {
         "alignmentgroup": "True",
         "bingroup": "x",
         "hovertemplate": "Modified=1<br>Stability t1/2, h=%{x}<br>count=%{y}<extra></extra>",
         "legendgroup": "1",
         "marker": {
          "color": "#b5de2b",
          "opacity": 0.7,
          "pattern": {
           "shape": ""
          }
         },
         "name": "1",
         "offsetgroup": "1",
         "orientation": "v",
         "showlegend": true,
         "type": "histogram",
         "x": [
          72,
          72,
          1.89,
          5.09,
          4.23,
          24,
          4.8,
          9.4,
          0.8,
          0.6,
          4,
          5.9,
          2.8,
          2.7,
          5.1,
          3.5,
          3.4,
          2,
          11,
          5.8,
          11.03,
          3.79,
          30,
          110,
          10,
          0.1,
          0.53,
          0.97,
          0.8,
          0.18,
          50,
          5.5,
          77,
          8.5,
          0.74,
          0.08,
          0.08,
          0.08,
          15.73,
          0.042,
          0.67,
          2.8,
          0.002,
          0.002,
          2,
          0.25,
          0.002,
          4.33,
          4.17,
          5.33,
          4.17,
          6.67,
          4.17,
          6.33,
          5,
          5,
          5,
          4.17,
          4.17,
          4.67,
          8.33,
          5.83,
          8.33,
          8.33,
          8.33,
          5,
          8.33,
          5,
          5,
          266.67,
          266.67,
          0.165,
          0.178,
          0.86,
          1.17,
          3.8,
          0.05,
          0.285,
          0.12,
          0.375,
          0.2,
          0.253,
          8.2,
          4.9,
          12,
          10,
          240,
          240,
          240,
          240,
          3.8,
          16,
          6,
          9.9,
          11,
          240,
          240,
          240,
          240,
          8,
          1.8,
          1.6,
          2.5,
          2.2,
          180,
          110,
          230,
          75,
          2.5,
          8,
          0.54,
          15,
          52,
          6,
          100,
          0.12,
          21,
          21,
          30,
          10,
          4,
          5,
          17,
          15,
          15,
          12,
          5.32,
          2.37,
          3.78,
          1.05
         ],
         "xaxis": "x",
         "yaxis": "y"
        },
        {
         "alignmentgroup": "True",
         "bingroup": "x",
         "hovertemplate": "Modified=0<br>Stability t1/2, h=%{x}<br>count=%{y}<extra></extra>",
         "legendgroup": "0",
         "marker": {
          "color": "#6ece58",
          "opacity": 0.7,
          "pattern": {
           "shape": ""
          }
         },
         "name": "0",
         "offsetgroup": "0",
         "orientation": "v",
         "showlegend": true,
         "type": "histogram",
         "x": [
          6,
          0.5,
          0.5,
          0.03,
          5,
          0.08,
          0.08,
          0.016,
          0.08,
          0.002,
          0.6,
          0.08,
          2,
          5,
          0.05,
          0.05,
          75,
          75,
          0.33,
          1.5,
          1.01,
          0.64
         ],
         "xaxis": "x",
         "yaxis": "y"
        },
        {
         "alignmentgroup": "True",
         "hovertemplate": "Modified=%{x}<br>Stability t1/2, h=%{y}<extra></extra>",
         "legendgroup": "1",
         "marker": {
          "color": "#b5de2b"
         },
         "name": "1",
         "notched": false,
         "offsetgroup": "1",
         "orientation": "v",
         "showlegend": true,
         "type": "box",
         "x": [
          1,
          1,
          1,
          1,
          1,
          1,
          1,
          1,
          1,
          1,
          1,
          1,
          1,
          1,
          1,
          1,
          1,
          1,
          1,
          1,
          1,
          1,
          1,
          1,
          1,
          1,
          1,
          1,
          1,
          1,
          1,
          1,
          1,
          1,
          1,
          1,
          1,
          1,
          1,
          1,
          1,
          1,
          1,
          1,
          1,
          1,
          1,
          1,
          1,
          1,
          1,
          1,
          1,
          1,
          1,
          1,
          1,
          1,
          1,
          1,
          1,
          1,
          1,
          1,
          1,
          1,
          1,
          1,
          1,
          1,
          1,
          1,
          1,
          1,
          1,
          1,
          1,
          1,
          1,
          1,
          1,
          1,
          1,
          1,
          1,
          1,
          1,
          1,
          1,
          1,
          1,
          1,
          1,
          1,
          1,
          1,
          1,
          1,
          1,
          1,
          1,
          1,
          1,
          1,
          1,
          1,
          1,
          1,
          1,
          1,
          1,
          1,
          1,
          1,
          1,
          1,
          1,
          1,
          1,
          1,
          1,
          1,
          1,
          1,
          1,
          1,
          1,
          1,
          1,
          1
         ],
         "x0": " ",
         "xaxis": "x2",
         "y": [
          72,
          72,
          1.89,
          5.09,
          4.23,
          24,
          4.8,
          9.4,
          0.8,
          0.6,
          4,
          5.9,
          2.8,
          2.7,
          5.1,
          3.5,
          3.4,
          2,
          11,
          5.8,
          11.03,
          3.79,
          30,
          110,
          10,
          0.1,
          0.53,
          0.97,
          0.8,
          0.18,
          50,
          5.5,
          77,
          8.5,
          0.74,
          0.08,
          0.08,
          0.08,
          15.73,
          0.042,
          0.67,
          2.8,
          0.002,
          0.002,
          2,
          0.25,
          0.002,
          4.33,
          4.17,
          5.33,
          4.17,
          6.67,
          4.17,
          6.33,
          5,
          5,
          5,
          4.17,
          4.17,
          4.67,
          8.33,
          5.83,
          8.33,
          8.33,
          8.33,
          5,
          8.33,
          5,
          5,
          266.67,
          266.67,
          0.165,
          0.178,
          0.86,
          1.17,
          3.8,
          0.05,
          0.285,
          0.12,
          0.375,
          0.2,
          0.253,
          8.2,
          4.9,
          12,
          10,
          240,
          240,
          240,
          240,
          3.8,
          16,
          6,
          9.9,
          11,
          240,
          240,
          240,
          240,
          8,
          1.8,
          1.6,
          2.5,
          2.2,
          180,
          110,
          230,
          75,
          2.5,
          8,
          0.54,
          15,
          52,
          6,
          100,
          0.12,
          21,
          21,
          30,
          10,
          4,
          5,
          17,
          15,
          15,
          12,
          5.32,
          2.37,
          3.78,
          1.05
         ],
         "y0": " ",
         "yaxis": "y2"
        },
        {
         "alignmentgroup": "True",
         "hovertemplate": "Modified=%{x}<br>Stability t1/2, h=%{y}<extra></extra>",
         "legendgroup": "0",
         "marker": {
          "color": "#6ece58"
         },
         "name": "0",
         "notched": false,
         "offsetgroup": "0",
         "orientation": "v",
         "showlegend": true,
         "type": "box",
         "x": [
          0,
          0,
          0,
          0,
          0,
          0,
          0,
          0,
          0,
          0,
          0,
          0,
          0,
          0,
          0,
          0,
          0,
          0,
          0,
          0,
          0,
          0
         ],
         "x0": " ",
         "xaxis": "x2",
         "y": [
          6,
          0.5,
          0.5,
          0.03,
          5,
          0.08,
          0.08,
          0.016,
          0.08,
          0.002,
          0.6,
          0.08,
          2,
          5,
          0.05,
          0.05,
          75,
          75,
          0.33,
          1.5,
          1.01,
          0.64
         ],
         "y0": " ",
         "yaxis": "y2"
        }
       ],
       "layout": {
        "annotations": [
         {
          "font": {
           "size": 16
          },
          "showarrow": false,
          "text": "Гистограмма",
          "x": 0.225,
          "xanchor": "center",
          "xref": "paper",
          "y": 1,
          "yanchor": "bottom",
          "yref": "paper"
         },
         {
          "font": {
           "size": 16
          },
          "showarrow": false,
          "text": "Box Plot",
          "x": 0.775,
          "xanchor": "center",
          "xref": "paper",
          "y": 1,
          "yanchor": "bottom",
          "yref": "paper"
         }
        ],
        "barmode": "stack",
        "height": 600,
        "showlegend": true,
        "template": {
         "data": {
          "bar": [
           {
            "error_x": {
             "color": "#2a3f5f"
            },
            "error_y": {
             "color": "#2a3f5f"
            },
            "marker": {
             "line": {
              "color": "#E5ECF6",
              "width": 0.5
             },
             "pattern": {
              "fillmode": "overlay",
              "size": 10,
              "solidity": 0.2
             }
            },
            "type": "bar"
           }
          ],
          "barpolar": [
           {
            "marker": {
             "line": {
              "color": "#E5ECF6",
              "width": 0.5
             },
             "pattern": {
              "fillmode": "overlay",
              "size": 10,
              "solidity": 0.2
             }
            },
            "type": "barpolar"
           }
          ],
          "carpet": [
           {
            "aaxis": {
             "endlinecolor": "#2a3f5f",
             "gridcolor": "white",
             "linecolor": "white",
             "minorgridcolor": "white",
             "startlinecolor": "#2a3f5f"
            },
            "baxis": {
             "endlinecolor": "#2a3f5f",
             "gridcolor": "white",
             "linecolor": "white",
             "minorgridcolor": "white",
             "startlinecolor": "#2a3f5f"
            },
            "type": "carpet"
           }
          ],
          "choropleth": [
           {
            "colorbar": {
             "outlinewidth": 0,
             "ticks": ""
            },
            "type": "choropleth"
           }
          ],
          "contour": [
           {
            "colorbar": {
             "outlinewidth": 0,
             "ticks": ""
            },
            "colorscale": [
             [
              0,
              "#0d0887"
             ],
             [
              0.1111111111111111,
              "#46039f"
             ],
             [
              0.2222222222222222,
              "#7201a8"
             ],
             [
              0.3333333333333333,
              "#9c179e"
             ],
             [
              0.4444444444444444,
              "#bd3786"
             ],
             [
              0.5555555555555556,
              "#d8576b"
             ],
             [
              0.6666666666666666,
              "#ed7953"
             ],
             [
              0.7777777777777778,
              "#fb9f3a"
             ],
             [
              0.8888888888888888,
              "#fdca26"
             ],
             [
              1,
              "#f0f921"
             ]
            ],
            "type": "contour"
           }
          ],
          "contourcarpet": [
           {
            "colorbar": {
             "outlinewidth": 0,
             "ticks": ""
            },
            "type": "contourcarpet"
           }
          ],
          "heatmap": [
           {
            "colorbar": {
             "outlinewidth": 0,
             "ticks": ""
            },
            "colorscale": [
             [
              0,
              "#0d0887"
             ],
             [
              0.1111111111111111,
              "#46039f"
             ],
             [
              0.2222222222222222,
              "#7201a8"
             ],
             [
              0.3333333333333333,
              "#9c179e"
             ],
             [
              0.4444444444444444,
              "#bd3786"
             ],
             [
              0.5555555555555556,
              "#d8576b"
             ],
             [
              0.6666666666666666,
              "#ed7953"
             ],
             [
              0.7777777777777778,
              "#fb9f3a"
             ],
             [
              0.8888888888888888,
              "#fdca26"
             ],
             [
              1,
              "#f0f921"
             ]
            ],
            "type": "heatmap"
           }
          ],
          "heatmapgl": [
           {
            "colorbar": {
             "outlinewidth": 0,
             "ticks": ""
            },
            "colorscale": [
             [
              0,
              "#0d0887"
             ],
             [
              0.1111111111111111,
              "#46039f"
             ],
             [
              0.2222222222222222,
              "#7201a8"
             ],
             [
              0.3333333333333333,
              "#9c179e"
             ],
             [
              0.4444444444444444,
              "#bd3786"
             ],
             [
              0.5555555555555556,
              "#d8576b"
             ],
             [
              0.6666666666666666,
              "#ed7953"
             ],
             [
              0.7777777777777778,
              "#fb9f3a"
             ],
             [
              0.8888888888888888,
              "#fdca26"
             ],
             [
              1,
              "#f0f921"
             ]
            ],
            "type": "heatmapgl"
           }
          ],
          "histogram": [
           {
            "marker": {
             "pattern": {
              "fillmode": "overlay",
              "size": 10,
              "solidity": 0.2
             }
            },
            "type": "histogram"
           }
          ],
          "histogram2d": [
           {
            "colorbar": {
             "outlinewidth": 0,
             "ticks": ""
            },
            "colorscale": [
             [
              0,
              "#0d0887"
             ],
             [
              0.1111111111111111,
              "#46039f"
             ],
             [
              0.2222222222222222,
              "#7201a8"
             ],
             [
              0.3333333333333333,
              "#9c179e"
             ],
             [
              0.4444444444444444,
              "#bd3786"
             ],
             [
              0.5555555555555556,
              "#d8576b"
             ],
             [
              0.6666666666666666,
              "#ed7953"
             ],
             [
              0.7777777777777778,
              "#fb9f3a"
             ],
             [
              0.8888888888888888,
              "#fdca26"
             ],
             [
              1,
              "#f0f921"
             ]
            ],
            "type": "histogram2d"
           }
          ],
          "histogram2dcontour": [
           {
            "colorbar": {
             "outlinewidth": 0,
             "ticks": ""
            },
            "colorscale": [
             [
              0,
              "#0d0887"
             ],
             [
              0.1111111111111111,
              "#46039f"
             ],
             [
              0.2222222222222222,
              "#7201a8"
             ],
             [
              0.3333333333333333,
              "#9c179e"
             ],
             [
              0.4444444444444444,
              "#bd3786"
             ],
             [
              0.5555555555555556,
              "#d8576b"
             ],
             [
              0.6666666666666666,
              "#ed7953"
             ],
             [
              0.7777777777777778,
              "#fb9f3a"
             ],
             [
              0.8888888888888888,
              "#fdca26"
             ],
             [
              1,
              "#f0f921"
             ]
            ],
            "type": "histogram2dcontour"
           }
          ],
          "mesh3d": [
           {
            "colorbar": {
             "outlinewidth": 0,
             "ticks": ""
            },
            "type": "mesh3d"
           }
          ],
          "parcoords": [
           {
            "line": {
             "colorbar": {
              "outlinewidth": 0,
              "ticks": ""
             }
            },
            "type": "parcoords"
           }
          ],
          "pie": [
           {
            "automargin": true,
            "type": "pie"
           }
          ],
          "scatter": [
           {
            "fillpattern": {
             "fillmode": "overlay",
             "size": 10,
             "solidity": 0.2
            },
            "type": "scatter"
           }
          ],
          "scatter3d": [
           {
            "line": {
             "colorbar": {
              "outlinewidth": 0,
              "ticks": ""
             }
            },
            "marker": {
             "colorbar": {
              "outlinewidth": 0,
              "ticks": ""
             }
            },
            "type": "scatter3d"
           }
          ],
          "scattercarpet": [
           {
            "marker": {
             "colorbar": {
              "outlinewidth": 0,
              "ticks": ""
             }
            },
            "type": "scattercarpet"
           }
          ],
          "scattergeo": [
           {
            "marker": {
             "colorbar": {
              "outlinewidth": 0,
              "ticks": ""
             }
            },
            "type": "scattergeo"
           }
          ],
          "scattergl": [
           {
            "marker": {
             "colorbar": {
              "outlinewidth": 0,
              "ticks": ""
             }
            },
            "type": "scattergl"
           }
          ],
          "scattermapbox": [
           {
            "marker": {
             "colorbar": {
              "outlinewidth": 0,
              "ticks": ""
             }
            },
            "type": "scattermapbox"
           }
          ],
          "scatterpolar": [
           {
            "marker": {
             "colorbar": {
              "outlinewidth": 0,
              "ticks": ""
             }
            },
            "type": "scatterpolar"
           }
          ],
          "scatterpolargl": [
           {
            "marker": {
             "colorbar": {
              "outlinewidth": 0,
              "ticks": ""
             }
            },
            "type": "scatterpolargl"
           }
          ],
          "scatterternary": [
           {
            "marker": {
             "colorbar": {
              "outlinewidth": 0,
              "ticks": ""
             }
            },
            "type": "scatterternary"
           }
          ],
          "surface": [
           {
            "colorbar": {
             "outlinewidth": 0,
             "ticks": ""
            },
            "colorscale": [
             [
              0,
              "#0d0887"
             ],
             [
              0.1111111111111111,
              "#46039f"
             ],
             [
              0.2222222222222222,
              "#7201a8"
             ],
             [
              0.3333333333333333,
              "#9c179e"
             ],
             [
              0.4444444444444444,
              "#bd3786"
             ],
             [
              0.5555555555555556,
              "#d8576b"
             ],
             [
              0.6666666666666666,
              "#ed7953"
             ],
             [
              0.7777777777777778,
              "#fb9f3a"
             ],
             [
              0.8888888888888888,
              "#fdca26"
             ],
             [
              1,
              "#f0f921"
             ]
            ],
            "type": "surface"
           }
          ],
          "table": [
           {
            "cells": {
             "fill": {
              "color": "#EBF0F8"
             },
             "line": {
              "color": "white"
             }
            },
            "header": {
             "fill": {
              "color": "#C8D4E3"
             },
             "line": {
              "color": "white"
             }
            },
            "type": "table"
           }
          ]
         },
         "layout": {
          "annotationdefaults": {
           "arrowcolor": "#2a3f5f",
           "arrowhead": 0,
           "arrowwidth": 1
          },
          "autotypenumbers": "strict",
          "coloraxis": {
           "colorbar": {
            "outlinewidth": 0,
            "ticks": ""
           }
          },
          "colorscale": {
           "diverging": [
            [
             0,
             "#8e0152"
            ],
            [
             0.1,
             "#c51b7d"
            ],
            [
             0.2,
             "#de77ae"
            ],
            [
             0.3,
             "#f1b6da"
            ],
            [
             0.4,
             "#fde0ef"
            ],
            [
             0.5,
             "#f7f7f7"
            ],
            [
             0.6,
             "#e6f5d0"
            ],
            [
             0.7,
             "#b8e186"
            ],
            [
             0.8,
             "#7fbc41"
            ],
            [
             0.9,
             "#4d9221"
            ],
            [
             1,
             "#276419"
            ]
           ],
           "sequential": [
            [
             0,
             "#0d0887"
            ],
            [
             0.1111111111111111,
             "#46039f"
            ],
            [
             0.2222222222222222,
             "#7201a8"
            ],
            [
             0.3333333333333333,
             "#9c179e"
            ],
            [
             0.4444444444444444,
             "#bd3786"
            ],
            [
             0.5555555555555556,
             "#d8576b"
            ],
            [
             0.6666666666666666,
             "#ed7953"
            ],
            [
             0.7777777777777778,
             "#fb9f3a"
            ],
            [
             0.8888888888888888,
             "#fdca26"
            ],
            [
             1,
             "#f0f921"
            ]
           ],
           "sequentialminus": [
            [
             0,
             "#0d0887"
            ],
            [
             0.1111111111111111,
             "#46039f"
            ],
            [
             0.2222222222222222,
             "#7201a8"
            ],
            [
             0.3333333333333333,
             "#9c179e"
            ],
            [
             0.4444444444444444,
             "#bd3786"
            ],
            [
             0.5555555555555556,
             "#d8576b"
            ],
            [
             0.6666666666666666,
             "#ed7953"
            ],
            [
             0.7777777777777778,
             "#fb9f3a"
            ],
            [
             0.8888888888888888,
             "#fdca26"
            ],
            [
             1,
             "#f0f921"
            ]
           ]
          },
          "colorway": [
           "#636efa",
           "#EF553B",
           "#00cc96",
           "#ab63fa",
           "#FFA15A",
           "#19d3f3",
           "#FF6692",
           "#B6E880",
           "#FF97FF",
           "#FECB52"
          ],
          "font": {
           "color": "#2a3f5f"
          },
          "geo": {
           "bgcolor": "white",
           "lakecolor": "white",
           "landcolor": "#E5ECF6",
           "showlakes": true,
           "showland": true,
           "subunitcolor": "white"
          },
          "hoverlabel": {
           "align": "left"
          },
          "hovermode": "closest",
          "mapbox": {
           "style": "light"
          },
          "paper_bgcolor": "white",
          "plot_bgcolor": "#E5ECF6",
          "polar": {
           "angularaxis": {
            "gridcolor": "white",
            "linecolor": "white",
            "ticks": ""
           },
           "bgcolor": "#E5ECF6",
           "radialaxis": {
            "gridcolor": "white",
            "linecolor": "white",
            "ticks": ""
           }
          },
          "scene": {
           "xaxis": {
            "backgroundcolor": "#E5ECF6",
            "gridcolor": "white",
            "gridwidth": 2,
            "linecolor": "white",
            "showbackground": true,
            "ticks": "",
            "zerolinecolor": "white"
           },
           "yaxis": {
            "backgroundcolor": "#E5ECF6",
            "gridcolor": "white",
            "gridwidth": 2,
            "linecolor": "white",
            "showbackground": true,
            "ticks": "",
            "zerolinecolor": "white"
           },
           "zaxis": {
            "backgroundcolor": "#E5ECF6",
            "gridcolor": "white",
            "gridwidth": 2,
            "linecolor": "white",
            "showbackground": true,
            "ticks": "",
            "zerolinecolor": "white"
           }
          },
          "shapedefaults": {
           "line": {
            "color": "#2a3f5f"
           }
          },
          "ternary": {
           "aaxis": {
            "gridcolor": "white",
            "linecolor": "white",
            "ticks": ""
           },
           "baxis": {
            "gridcolor": "white",
            "linecolor": "white",
            "ticks": ""
           },
           "bgcolor": "#E5ECF6",
           "caxis": {
            "gridcolor": "white",
            "linecolor": "white",
            "ticks": ""
           }
          },
          "title": {
           "x": 0.05
          },
          "xaxis": {
           "automargin": true,
           "gridcolor": "white",
           "linecolor": "white",
           "ticks": "",
           "title": {
            "standoff": 15
           },
           "zerolinecolor": "white",
           "zerolinewidth": 2
          },
          "yaxis": {
           "automargin": true,
           "gridcolor": "white",
           "linecolor": "white",
           "ticks": "",
           "title": {
            "standoff": 15
           },
           "zerolinecolor": "white",
           "zerolinewidth": 2
          }
         }
        },
        "title": {
         "text": "Распределение значений периода полураспада среди модифицированных и немодифицированных последовательностей"
        },
        "width": 1200,
        "xaxis": {
         "anchor": "y",
         "domain": [
          0,
          0.45
         ]
        },
        "xaxis2": {
         "anchor": "y2",
         "domain": [
          0.55,
          1
         ]
        },
        "yaxis": {
         "anchor": "x",
         "domain": [
          0,
          1
         ]
        },
        "yaxis2": {
         "anchor": "x2",
         "domain": [
          0,
          1
         ]
        }
       }
      }
     },
     "metadata": {},
     "output_type": "display_data"
    }
   ],
   "source": [
    "# Создание подграфиков\n",
    "fig = make_subplots(rows=1, cols=2, subplot_titles=(\"Гистограмма\", \"Box Plot\"), column_widths=[0.5, 0.5])\n",
    "\n",
    "# Добавление гистограммы\n",
    "hist_fig = px.histogram(df, x = \"Stability t1/2, h\", color = 'Modified',\n",
    "         color_discrete_sequence = colors, \n",
    "         opacity = 0.7)\n",
    "\n",
    "\n",
    "for trace in hist_fig['data']:\n",
    "    fig.add_trace(trace, row=1, col=1)\n",
    "\n",
    "# Добавление box диаграммы\n",
    "box_fig = px.box(df, y=\"Stability t1/2, h\", x=\"Modified\", color=\"Modified\",\n",
    "        color_discrete_sequence=colors)\n",
    "\n",
    "for trace in box_fig['data']:\n",
    "    fig.add_trace(trace, row=1, col=2)\n",
    "\n",
    "# Настройка макета\n",
    "fig.update_layout(barmode='stack', showlegend=True, title_text=\"Распределение значений периода полураспада среди модифицированных и немодифицированных последовательностей\", height=600,  width=1200) \n",
    "\n",
    "fig.show()"
   ]
  },
  {
   "cell_type": "code",
   "execution_count": 37,
   "metadata": {},
   "outputs": [
    {
     "data": {
      "application/vnd.plotly.v1+json": {
       "config": {
        "plotlyServerURL": "https://plot.ly"
       },
       "data": [
        {
         "alignmentgroup": "True",
         "bingroup": "x",
         "hovertemplate": "Environment=bovine serum<br>Stability t1/2, h=%{x}<br>count=%{y}<extra></extra>",
         "legendgroup": "bovine serum",
         "marker": {
          "color": "#b5de2b",
          "opacity": 0.7,
          "pattern": {
           "shape": ""
          }
         },
         "name": "bovine serum",
         "offsetgroup": "bovine serum",
         "orientation": "v",
         "showlegend": true,
         "type": "histogram",
         "x": [
          0.74,
          0.016,
          100,
          5,
          0.12,
          0.05,
          0.05
         ],
         "xaxis": "x",
         "yaxis": "y"
        },
        {
         "alignmentgroup": "True",
         "bingroup": "x",
         "hovertemplate": "Environment=fetal bovine serum<br>Stability t1/2, h=%{x}<br>count=%{y}<extra></extra>",
         "legendgroup": "fetal bovine serum",
         "marker": {
          "color": "#6ece58",
          "opacity": 0.7,
          "pattern": {
           "shape": ""
          }
         },
         "name": "fetal bovine serum",
         "offsetgroup": "fetal bovine serum",
         "orientation": "v",
         "showlegend": true,
         "type": "histogram",
         "x": [
          6,
          0.5,
          24,
          4.8,
          9.4,
          0.8,
          0.6,
          4,
          5.9,
          2.8,
          2.7,
          5.1,
          3.5,
          3.4,
          2,
          0.5,
          30,
          110,
          10,
          5,
          0.08,
          0.08,
          0.08,
          0.08,
          15.73
         ],
         "xaxis": "x",
         "yaxis": "y"
        },
        {
         "alignmentgroup": "True",
         "bingroup": "x",
         "hovertemplate": "Environment=frozen human serum<br>Stability t1/2, h=%{x}<br>count=%{y}<extra></extra>",
         "legendgroup": "frozen human serum",
         "marker": {
          "color": "#35b779",
          "opacity": 0.7,
          "pattern": {
           "shape": ""
          }
         },
         "name": "frozen human serum",
         "offsetgroup": "frozen human serum",
         "orientation": "v",
         "showlegend": true,
         "type": "histogram",
         "x": [
          72,
          72,
          50,
          5.5,
          77,
          8.5,
          0.042,
          0.67,
          2.8,
          16,
          6,
          9.9,
          11,
          240,
          240,
          240,
          240,
          8,
          6,
          2,
          75,
          21,
          1.5,
          10,
          4,
          5,
          17,
          15,
          15,
          12
         ],
         "xaxis": "x",
         "yaxis": "y"
        },
        {
         "alignmentgroup": "True",
         "bingroup": "x",
         "hovertemplate": "Environment=human blood<br>Stability t1/2, h=%{x}<br>count=%{y}<extra></extra>",
         "legendgroup": "human blood",
         "marker": {
          "color": "#1f9e89",
          "opacity": 0.7,
          "pattern": {
           "shape": ""
          }
         },
         "name": "human blood",
         "offsetgroup": "human blood",
         "orientation": "v",
         "showlegend": true,
         "type": "histogram",
         "x": [
          0.18
         ],
         "xaxis": "x",
         "yaxis": "y"
        },
        {
         "alignmentgroup": "True",
         "bingroup": "x",
         "hovertemplate": "Environment=human plasma<br>Stability t1/2, h=%{x}<br>count=%{y}<extra></extra>",
         "legendgroup": "human plasma",
         "marker": {
          "color": "#26828e",
          "opacity": 0.7,
          "pattern": {
           "shape": ""
          }
         },
         "name": "human plasma",
         "offsetgroup": "human plasma",
         "orientation": "v",
         "showlegend": true,
         "type": "histogram",
         "x": [
          75,
          21,
          1.01,
          5.32,
          2.37
         ],
         "xaxis": "x",
         "yaxis": "y"
        },
        {
         "alignmentgroup": "True",
         "bingroup": "x",
         "hovertemplate": "Environment=human serum<br>Stability t1/2, h=%{x}<br>count=%{y}<extra></extra>",
         "legendgroup": "human serum",
         "marker": {
          "color": "#31688e",
          "opacity": 0.7,
          "pattern": {
           "shape": ""
          }
         },
         "name": "human serum",
         "offsetgroup": "human serum",
         "orientation": "v",
         "showlegend": true,
         "type": "histogram",
         "x": [
          0.002,
          0.002,
          0.002,
          2,
          0.25,
          0.002,
          4.33,
          4.17,
          5.33,
          4.17,
          6.67,
          4.17,
          6.33,
          5,
          5,
          5,
          4.17,
          4.17,
          4.67,
          8.33,
          5.83,
          8.33,
          8.33,
          8.33,
          5,
          8.33,
          5,
          5,
          266.67,
          266.67,
          8.2,
          4.9,
          12,
          10,
          240,
          240,
          240,
          240,
          3.8,
          0.33,
          30
         ],
         "xaxis": "x",
         "yaxis": "y"
        },
        {
         "alignmentgroup": "True",
         "bingroup": "x",
         "hovertemplate": "Environment=macaca fascicularis blood<br>Stability t1/2, h=%{x}<br>count=%{y}<extra></extra>",
         "legendgroup": "macaca fascicularis blood",
         "marker": {
          "color": "#3e4989",
          "opacity": 0.7,
          "pattern": {
           "shape": ""
          }
         },
         "name": "macaca fascicularis blood",
         "offsetgroup": "macaca fascicularis blood",
         "orientation": "v",
         "showlegend": true,
         "type": "histogram",
         "x": [
          0.03
         ],
         "xaxis": "x",
         "yaxis": "y"
        },
        {
         "alignmentgroup": "True",
         "bingroup": "x",
         "hovertemplate": "Environment=mouse plasma<br>Stability t1/2, h=%{x}<br>count=%{y}<extra></extra>",
         "legendgroup": "mouse plasma",
         "marker": {
          "color": "#482878",
          "opacity": 0.7,
          "pattern": {
           "shape": ""
          }
         },
         "name": "mouse plasma",
         "offsetgroup": "mouse plasma",
         "orientation": "v",
         "showlegend": true,
         "type": "histogram",
         "x": [
          0.64,
          3.78,
          1.05
         ],
         "xaxis": "x",
         "yaxis": "y"
        },
        {
         "alignmentgroup": "True",
         "bingroup": "x",
         "hovertemplate": "Environment=mouse serum<br>Stability t1/2, h=%{x}<br>count=%{y}<extra></extra>",
         "legendgroup": "mouse serum",
         "marker": {
          "color": "#440154",
          "opacity": 0.7,
          "pattern": {
           "shape": ""
          }
         },
         "name": "mouse serum",
         "offsetgroup": "mouse serum",
         "orientation": "v",
         "showlegend": true,
         "type": "histogram",
         "x": [
          1.8,
          1.6,
          2.5,
          2.2,
          180,
          110,
          230,
          75,
          2.5
         ],
         "xaxis": "x",
         "yaxis": "y"
        },
        {
         "alignmentgroup": "True",
         "bingroup": "x",
         "hovertemplate": "Environment=rat blood<br>Stability t1/2, h=%{x}<br>count=%{y}<extra></extra>",
         "legendgroup": "rat blood",
         "marker": {
          "color": "#253494",
          "opacity": 0.7,
          "pattern": {
           "shape": ""
          }
         },
         "name": "rat blood",
         "offsetgroup": "rat blood",
         "orientation": "v",
         "showlegend": true,
         "type": "histogram",
         "x": [
          1.89,
          5.09,
          4.23,
          11,
          5.8,
          0.08,
          0.1,
          0.53,
          0.97,
          0.165,
          0.178,
          0.86,
          1.17,
          3.8,
          0.05,
          0.285,
          0.12,
          0.375,
          0.2,
          0.253,
          0.54
         ],
         "xaxis": "x",
         "yaxis": "y"
        },
        {
         "alignmentgroup": "True",
         "bingroup": "x",
         "hovertemplate": "Environment=rat liver<br>Stability t1/2, h=%{x}<br>count=%{y}<extra></extra>",
         "legendgroup": "rat liver",
         "marker": {
          "color": "#225ea8",
          "opacity": 0.7,
          "pattern": {
           "shape": ""
          }
         },
         "name": "rat liver",
         "offsetgroup": "rat liver",
         "orientation": "v",
         "showlegend": true,
         "type": "histogram",
         "x": [
          11.03,
          3.79
         ],
         "xaxis": "x",
         "yaxis": "y"
        },
        {
         "alignmentgroup": "True",
         "bingroup": "x",
         "hovertemplate": "Environment=rat serum<br>Stability t1/2, h=%{x}<br>count=%{y}<extra></extra>",
         "legendgroup": "rat serum",
         "marker": {
          "color": "#1d91c0",
          "opacity": 0.7,
          "pattern": {
           "shape": ""
          }
         },
         "name": "rat serum",
         "offsetgroup": "rat serum",
         "orientation": "v",
         "showlegend": true,
         "type": "histogram",
         "x": [
          0.6,
          8,
          0.08,
          15,
          52
         ],
         "xaxis": "x",
         "yaxis": "y"
        },
        {
         "alignmentgroup": "True",
         "bingroup": "x",
         "hovertemplate": "Environment=rhesus monkey blood<br>Stability t1/2, h=%{x}<br>count=%{y}<extra></extra>",
         "legendgroup": "rhesus monkey blood",
         "marker": {
          "color": "#41b6c4",
          "opacity": 0.7,
          "pattern": {
           "shape": ""
          }
         },
         "name": "rhesus monkey blood",
         "offsetgroup": "rhesus monkey blood",
         "orientation": "v",
         "showlegend": true,
         "type": "histogram",
         "x": [
          0.08,
          0.8
         ],
         "xaxis": "x",
         "yaxis": "y"
        },
        {
         "alignmentgroup": "True",
         "hovertemplate": "Environment: %{x}<br>Count: %{hovertext}<extra></extra>",
         "hovertext": [
          "7",
          "7",
          "7",
          "7",
          "7",
          "7",
          "7"
         ],
         "legendgroup": "bovine serum",
         "marker": {
          "color": "#b5de2b"
         },
         "name": "bovine serum",
         "notched": false,
         "offsetgroup": "bovine serum",
         "orientation": "v",
         "showlegend": true,
         "type": "box",
         "x": [
          "bovine serum",
          "bovine serum",
          "bovine serum",
          "bovine serum",
          "bovine serum",
          "bovine serum",
          "bovine serum"
         ],
         "x0": " ",
         "xaxis": "x2",
         "y": [
          0.74,
          0.016,
          100,
          5,
          0.12,
          0.05,
          0.05
         ],
         "y0": " ",
         "yaxis": "y2"
        },
        {
         "alignmentgroup": "True",
         "hovertemplate": "Environment: %{x}<br>Count: %{hovertext}<extra></extra>",
         "hovertext": [
          "25",
          "25",
          "25",
          "25",
          "25",
          "25",
          "25",
          "25",
          "25",
          "25",
          "25",
          "25",
          "25",
          "25",
          "25",
          "25",
          "25",
          "25",
          "25",
          "25",
          "25",
          "25",
          "25",
          "25",
          "25"
         ],
         "legendgroup": "fetal bovine serum",
         "marker": {
          "color": "#6ece58"
         },
         "name": "fetal bovine serum",
         "notched": false,
         "offsetgroup": "fetal bovine serum",
         "orientation": "v",
         "showlegend": true,
         "type": "box",
         "x": [
          "fetal bovine serum",
          "fetal bovine serum",
          "fetal bovine serum",
          "fetal bovine serum",
          "fetal bovine serum",
          "fetal bovine serum",
          "fetal bovine serum",
          "fetal bovine serum",
          "fetal bovine serum",
          "fetal bovine serum",
          "fetal bovine serum",
          "fetal bovine serum",
          "fetal bovine serum",
          "fetal bovine serum",
          "fetal bovine serum",
          "fetal bovine serum",
          "fetal bovine serum",
          "fetal bovine serum",
          "fetal bovine serum",
          "fetal bovine serum",
          "fetal bovine serum",
          "fetal bovine serum",
          "fetal bovine serum",
          "fetal bovine serum",
          "fetal bovine serum"
         ],
         "x0": " ",
         "xaxis": "x2",
         "y": [
          6,
          0.5,
          24,
          4.8,
          9.4,
          0.8,
          0.6,
          4,
          5.9,
          2.8,
          2.7,
          5.1,
          3.5,
          3.4,
          2,
          0.5,
          30,
          110,
          10,
          5,
          0.08,
          0.08,
          0.08,
          0.08,
          15.73
         ],
         "y0": " ",
         "yaxis": "y2"
        },
        {
         "alignmentgroup": "True",
         "hovertemplate": "Environment: %{x}<br>Count: %{hovertext}<extra></extra>",
         "hovertext": [
          "30",
          "30",
          "30",
          "30",
          "30",
          "30",
          "30",
          "30",
          "30",
          "30",
          "30",
          "30",
          "30",
          "30",
          "30",
          "30",
          "30",
          "30",
          "30",
          "30",
          "30",
          "30",
          "30",
          "30",
          "30",
          "30",
          "30",
          "30",
          "30",
          "30"
         ],
         "legendgroup": "frozen human serum",
         "marker": {
          "color": "#35b779"
         },
         "name": "frozen human serum",
         "notched": false,
         "offsetgroup": "frozen human serum",
         "orientation": "v",
         "showlegend": true,
         "type": "box",
         "x": [
          "frozen human serum",
          "frozen human serum",
          "frozen human serum",
          "frozen human serum",
          "frozen human serum",
          "frozen human serum",
          "frozen human serum",
          "frozen human serum",
          "frozen human serum",
          "frozen human serum",
          "frozen human serum",
          "frozen human serum",
          "frozen human serum",
          "frozen human serum",
          "frozen human serum",
          "frozen human serum",
          "frozen human serum",
          "frozen human serum",
          "frozen human serum",
          "frozen human serum",
          "frozen human serum",
          "frozen human serum",
          "frozen human serum",
          "frozen human serum",
          "frozen human serum",
          "frozen human serum",
          "frozen human serum",
          "frozen human serum",
          "frozen human serum",
          "frozen human serum"
         ],
         "x0": " ",
         "xaxis": "x2",
         "y": [
          72,
          72,
          50,
          5.5,
          77,
          8.5,
          0.042,
          0.67,
          2.8,
          16,
          6,
          9.9,
          11,
          240,
          240,
          240,
          240,
          8,
          6,
          2,
          75,
          21,
          1.5,
          10,
          4,
          5,
          17,
          15,
          15,
          12
         ],
         "y0": " ",
         "yaxis": "y2"
        },
        {
         "alignmentgroup": "True",
         "hovertemplate": "Environment: %{x}<br>Count: %{hovertext}<extra></extra>",
         "hovertext": [
          "1"
         ],
         "legendgroup": "human blood",
         "marker": {
          "color": "#1f9e89"
         },
         "name": "human blood",
         "notched": false,
         "offsetgroup": "human blood",
         "orientation": "v",
         "showlegend": true,
         "type": "box",
         "x": [
          "human blood"
         ],
         "x0": " ",
         "xaxis": "x2",
         "y": [
          0.18
         ],
         "y0": " ",
         "yaxis": "y2"
        },
        {
         "alignmentgroup": "True",
         "hovertemplate": "Environment: %{x}<br>Count: %{hovertext}<extra></extra>",
         "hovertext": [
          "5",
          "5",
          "5",
          "5",
          "5"
         ],
         "legendgroup": "human plasma",
         "marker": {
          "color": "#26828e"
         },
         "name": "human plasma",
         "notched": false,
         "offsetgroup": "human plasma",
         "orientation": "v",
         "showlegend": true,
         "type": "box",
         "x": [
          "human plasma",
          "human plasma",
          "human plasma",
          "human plasma",
          "human plasma"
         ],
         "x0": " ",
         "xaxis": "x2",
         "y": [
          75,
          21,
          1.01,
          5.32,
          2.37
         ],
         "y0": " ",
         "yaxis": "y2"
        },
        {
         "alignmentgroup": "True",
         "hovertemplate": "Environment: %{x}<br>Count: %{hovertext}<extra></extra>",
         "hovertext": [
          "41",
          "41",
          "41",
          "41",
          "41",
          "41",
          "41",
          "41",
          "41",
          "41",
          "41",
          "41",
          "41",
          "41",
          "41",
          "41",
          "41",
          "41",
          "41",
          "41",
          "41",
          "41",
          "41",
          "41",
          "41",
          "41",
          "41",
          "41",
          "41",
          "41",
          "41",
          "41",
          "41",
          "41",
          "41",
          "41",
          "41",
          "41",
          "41",
          "41",
          "41"
         ],
         "legendgroup": "human serum",
         "marker": {
          "color": "#31688e"
         },
         "name": "human serum",
         "notched": false,
         "offsetgroup": "human serum",
         "orientation": "v",
         "showlegend": true,
         "type": "box",
         "x": [
          "human serum",
          "human serum",
          "human serum",
          "human serum",
          "human serum",
          "human serum",
          "human serum",
          "human serum",
          "human serum",
          "human serum",
          "human serum",
          "human serum",
          "human serum",
          "human serum",
          "human serum",
          "human serum",
          "human serum",
          "human serum",
          "human serum",
          "human serum",
          "human serum",
          "human serum",
          "human serum",
          "human serum",
          "human serum",
          "human serum",
          "human serum",
          "human serum",
          "human serum",
          "human serum",
          "human serum",
          "human serum",
          "human serum",
          "human serum",
          "human serum",
          "human serum",
          "human serum",
          "human serum",
          "human serum",
          "human serum",
          "human serum"
         ],
         "x0": " ",
         "xaxis": "x2",
         "y": [
          0.002,
          0.002,
          0.002,
          2,
          0.25,
          0.002,
          4.33,
          4.17,
          5.33,
          4.17,
          6.67,
          4.17,
          6.33,
          5,
          5,
          5,
          4.17,
          4.17,
          4.67,
          8.33,
          5.83,
          8.33,
          8.33,
          8.33,
          5,
          8.33,
          5,
          5,
          266.67,
          266.67,
          8.2,
          4.9,
          12,
          10,
          240,
          240,
          240,
          240,
          3.8,
          0.33,
          30
         ],
         "y0": " ",
         "yaxis": "y2"
        },
        {
         "alignmentgroup": "True",
         "hovertemplate": "Environment: %{x}<br>Count: %{hovertext}<extra></extra>",
         "hovertext": [
          "1"
         ],
         "legendgroup": "macaca fascicularis blood",
         "marker": {
          "color": "#3e4989"
         },
         "name": "macaca fascicularis blood",
         "notched": false,
         "offsetgroup": "macaca fascicularis blood",
         "orientation": "v",
         "showlegend": true,
         "type": "box",
         "x": [
          "macaca fascicularis blood"
         ],
         "x0": " ",
         "xaxis": "x2",
         "y": [
          0.03
         ],
         "y0": " ",
         "yaxis": "y2"
        },
        {
         "alignmentgroup": "True",
         "hovertemplate": "Environment: %{x}<br>Count: %{hovertext}<extra></extra>",
         "hovertext": [
          "3",
          "3",
          "3"
         ],
         "legendgroup": "mouse plasma",
         "marker": {
          "color": "#482878"
         },
         "name": "mouse plasma",
         "notched": false,
         "offsetgroup": "mouse plasma",
         "orientation": "v",
         "showlegend": true,
         "type": "box",
         "x": [
          "mouse plasma",
          "mouse plasma",
          "mouse plasma"
         ],
         "x0": " ",
         "xaxis": "x2",
         "y": [
          0.64,
          3.78,
          1.05
         ],
         "y0": " ",
         "yaxis": "y2"
        },
        {
         "alignmentgroup": "True",
         "hovertemplate": "Environment: %{x}<br>Count: %{hovertext}<extra></extra>",
         "hovertext": [
          "9",
          "9",
          "9",
          "9",
          "9",
          "9",
          "9",
          "9",
          "9"
         ],
         "legendgroup": "mouse serum",
         "marker": {
          "color": "#440154"
         },
         "name": "mouse serum",
         "notched": false,
         "offsetgroup": "mouse serum",
         "orientation": "v",
         "showlegend": true,
         "type": "box",
         "x": [
          "mouse serum",
          "mouse serum",
          "mouse serum",
          "mouse serum",
          "mouse serum",
          "mouse serum",
          "mouse serum",
          "mouse serum",
          "mouse serum"
         ],
         "x0": " ",
         "xaxis": "x2",
         "y": [
          1.8,
          1.6,
          2.5,
          2.2,
          180,
          110,
          230,
          75,
          2.5
         ],
         "y0": " ",
         "yaxis": "y2"
        },
        {
         "alignmentgroup": "True",
         "hovertemplate": "Environment: %{x}<br>Count: %{hovertext}<extra></extra>",
         "hovertext": [
          "21",
          "21",
          "21",
          "21",
          "21",
          "21",
          "21",
          "21",
          "21",
          "21",
          "21",
          "21",
          "21",
          "21",
          "21",
          "21",
          "21",
          "21",
          "21",
          "21",
          "21"
         ],
         "legendgroup": "rat blood",
         "marker": {
          "color": "#253494"
         },
         "name": "rat blood",
         "notched": false,
         "offsetgroup": "rat blood",
         "orientation": "v",
         "showlegend": true,
         "type": "box",
         "x": [
          "rat blood",
          "rat blood",
          "rat blood",
          "rat blood",
          "rat blood",
          "rat blood",
          "rat blood",
          "rat blood",
          "rat blood",
          "rat blood",
          "rat blood",
          "rat blood",
          "rat blood",
          "rat blood",
          "rat blood",
          "rat blood",
          "rat blood",
          "rat blood",
          "rat blood",
          "rat blood",
          "rat blood"
         ],
         "x0": " ",
         "xaxis": "x2",
         "y": [
          1.89,
          5.09,
          4.23,
          11,
          5.8,
          0.08,
          0.1,
          0.53,
          0.97,
          0.165,
          0.178,
          0.86,
          1.17,
          3.8,
          0.05,
          0.285,
          0.12,
          0.375,
          0.2,
          0.253,
          0.54
         ],
         "y0": " ",
         "yaxis": "y2"
        },
        {
         "alignmentgroup": "True",
         "hovertemplate": "Environment: %{x}<br>Count: %{hovertext}<extra></extra>",
         "hovertext": [
          "2",
          "2"
         ],
         "legendgroup": "rat liver",
         "marker": {
          "color": "#225ea8"
         },
         "name": "rat liver",
         "notched": false,
         "offsetgroup": "rat liver",
         "orientation": "v",
         "showlegend": true,
         "type": "box",
         "x": [
          "rat liver",
          "rat liver"
         ],
         "x0": " ",
         "xaxis": "x2",
         "y": [
          11.03,
          3.79
         ],
         "y0": " ",
         "yaxis": "y2"
        },
        {
         "alignmentgroup": "True",
         "hovertemplate": "Environment: %{x}<br>Count: %{hovertext}<extra></extra>",
         "hovertext": [
          "5",
          "5",
          "5",
          "5",
          "5"
         ],
         "legendgroup": "rat serum",
         "marker": {
          "color": "#1d91c0"
         },
         "name": "rat serum",
         "notched": false,
         "offsetgroup": "rat serum",
         "orientation": "v",
         "showlegend": true,
         "type": "box",
         "x": [
          "rat serum",
          "rat serum",
          "rat serum",
          "rat serum",
          "rat serum"
         ],
         "x0": " ",
         "xaxis": "x2",
         "y": [
          0.6,
          8,
          0.08,
          15,
          52
         ],
         "y0": " ",
         "yaxis": "y2"
        },
        {
         "alignmentgroup": "True",
         "hovertemplate": "Environment: %{x}<br>Count: %{hovertext}<extra></extra>",
         "hovertext": [
          "2",
          "2"
         ],
         "legendgroup": "rhesus monkey blood",
         "marker": {
          "color": "#41b6c4"
         },
         "name": "rhesus monkey blood",
         "notched": false,
         "offsetgroup": "rhesus monkey blood",
         "orientation": "v",
         "showlegend": true,
         "type": "box",
         "x": [
          "rhesus monkey blood",
          "rhesus monkey blood"
         ],
         "x0": " ",
         "xaxis": "x2",
         "y": [
          0.08,
          0.8
         ],
         "y0": " ",
         "yaxis": "y2"
        }
       ],
       "layout": {
        "annotations": [
         {
          "font": {
           "size": 16
          },
          "showarrow": false,
          "text": "Гистограмма ",
          "x": 0.225,
          "xanchor": "center",
          "xref": "paper",
          "y": 1,
          "yanchor": "bottom",
          "yref": "paper"
         },
         {
          "font": {
           "size": 16
          },
          "showarrow": false,
          "text": "Box Plot",
          "x": 0.775,
          "xanchor": "center",
          "xref": "paper",
          "y": 1,
          "yanchor": "bottom",
          "yref": "paper"
         }
        ],
        "barmode": "stack",
        "height": 600,
        "showlegend": true,
        "template": {
         "data": {
          "bar": [
           {
            "error_x": {
             "color": "#2a3f5f"
            },
            "error_y": {
             "color": "#2a3f5f"
            },
            "marker": {
             "line": {
              "color": "#E5ECF6",
              "width": 0.5
             },
             "pattern": {
              "fillmode": "overlay",
              "size": 10,
              "solidity": 0.2
             }
            },
            "type": "bar"
           }
          ],
          "barpolar": [
           {
            "marker": {
             "line": {
              "color": "#E5ECF6",
              "width": 0.5
             },
             "pattern": {
              "fillmode": "overlay",
              "size": 10,
              "solidity": 0.2
             }
            },
            "type": "barpolar"
           }
          ],
          "carpet": [
           {
            "aaxis": {
             "endlinecolor": "#2a3f5f",
             "gridcolor": "white",
             "linecolor": "white",
             "minorgridcolor": "white",
             "startlinecolor": "#2a3f5f"
            },
            "baxis": {
             "endlinecolor": "#2a3f5f",
             "gridcolor": "white",
             "linecolor": "white",
             "minorgridcolor": "white",
             "startlinecolor": "#2a3f5f"
            },
            "type": "carpet"
           }
          ],
          "choropleth": [
           {
            "colorbar": {
             "outlinewidth": 0,
             "ticks": ""
            },
            "type": "choropleth"
           }
          ],
          "contour": [
           {
            "colorbar": {
             "outlinewidth": 0,
             "ticks": ""
            },
            "colorscale": [
             [
              0,
              "#0d0887"
             ],
             [
              0.1111111111111111,
              "#46039f"
             ],
             [
              0.2222222222222222,
              "#7201a8"
             ],
             [
              0.3333333333333333,
              "#9c179e"
             ],
             [
              0.4444444444444444,
              "#bd3786"
             ],
             [
              0.5555555555555556,
              "#d8576b"
             ],
             [
              0.6666666666666666,
              "#ed7953"
             ],
             [
              0.7777777777777778,
              "#fb9f3a"
             ],
             [
              0.8888888888888888,
              "#fdca26"
             ],
             [
              1,
              "#f0f921"
             ]
            ],
            "type": "contour"
           }
          ],
          "contourcarpet": [
           {
            "colorbar": {
             "outlinewidth": 0,
             "ticks": ""
            },
            "type": "contourcarpet"
           }
          ],
          "heatmap": [
           {
            "colorbar": {
             "outlinewidth": 0,
             "ticks": ""
            },
            "colorscale": [
             [
              0,
              "#0d0887"
             ],
             [
              0.1111111111111111,
              "#46039f"
             ],
             [
              0.2222222222222222,
              "#7201a8"
             ],
             [
              0.3333333333333333,
              "#9c179e"
             ],
             [
              0.4444444444444444,
              "#bd3786"
             ],
             [
              0.5555555555555556,
              "#d8576b"
             ],
             [
              0.6666666666666666,
              "#ed7953"
             ],
             [
              0.7777777777777778,
              "#fb9f3a"
             ],
             [
              0.8888888888888888,
              "#fdca26"
             ],
             [
              1,
              "#f0f921"
             ]
            ],
            "type": "heatmap"
           }
          ],
          "heatmapgl": [
           {
            "colorbar": {
             "outlinewidth": 0,
             "ticks": ""
            },
            "colorscale": [
             [
              0,
              "#0d0887"
             ],
             [
              0.1111111111111111,
              "#46039f"
             ],
             [
              0.2222222222222222,
              "#7201a8"
             ],
             [
              0.3333333333333333,
              "#9c179e"
             ],
             [
              0.4444444444444444,
              "#bd3786"
             ],
             [
              0.5555555555555556,
              "#d8576b"
             ],
             [
              0.6666666666666666,
              "#ed7953"
             ],
             [
              0.7777777777777778,
              "#fb9f3a"
             ],
             [
              0.8888888888888888,
              "#fdca26"
             ],
             [
              1,
              "#f0f921"
             ]
            ],
            "type": "heatmapgl"
           }
          ],
          "histogram": [
           {
            "marker": {
             "pattern": {
              "fillmode": "overlay",
              "size": 10,
              "solidity": 0.2
             }
            },
            "type": "histogram"
           }
          ],
          "histogram2d": [
           {
            "colorbar": {
             "outlinewidth": 0,
             "ticks": ""
            },
            "colorscale": [
             [
              0,
              "#0d0887"
             ],
             [
              0.1111111111111111,
              "#46039f"
             ],
             [
              0.2222222222222222,
              "#7201a8"
             ],
             [
              0.3333333333333333,
              "#9c179e"
             ],
             [
              0.4444444444444444,
              "#bd3786"
             ],
             [
              0.5555555555555556,
              "#d8576b"
             ],
             [
              0.6666666666666666,
              "#ed7953"
             ],
             [
              0.7777777777777778,
              "#fb9f3a"
             ],
             [
              0.8888888888888888,
              "#fdca26"
             ],
             [
              1,
              "#f0f921"
             ]
            ],
            "type": "histogram2d"
           }
          ],
          "histogram2dcontour": [
           {
            "colorbar": {
             "outlinewidth": 0,
             "ticks": ""
            },
            "colorscale": [
             [
              0,
              "#0d0887"
             ],
             [
              0.1111111111111111,
              "#46039f"
             ],
             [
              0.2222222222222222,
              "#7201a8"
             ],
             [
              0.3333333333333333,
              "#9c179e"
             ],
             [
              0.4444444444444444,
              "#bd3786"
             ],
             [
              0.5555555555555556,
              "#d8576b"
             ],
             [
              0.6666666666666666,
              "#ed7953"
             ],
             [
              0.7777777777777778,
              "#fb9f3a"
             ],
             [
              0.8888888888888888,
              "#fdca26"
             ],
             [
              1,
              "#f0f921"
             ]
            ],
            "type": "histogram2dcontour"
           }
          ],
          "mesh3d": [
           {
            "colorbar": {
             "outlinewidth": 0,
             "ticks": ""
            },
            "type": "mesh3d"
           }
          ],
          "parcoords": [
           {
            "line": {
             "colorbar": {
              "outlinewidth": 0,
              "ticks": ""
             }
            },
            "type": "parcoords"
           }
          ],
          "pie": [
           {
            "automargin": true,
            "type": "pie"
           }
          ],
          "scatter": [
           {
            "fillpattern": {
             "fillmode": "overlay",
             "size": 10,
             "solidity": 0.2
            },
            "type": "scatter"
           }
          ],
          "scatter3d": [
           {
            "line": {
             "colorbar": {
              "outlinewidth": 0,
              "ticks": ""
             }
            },
            "marker": {
             "colorbar": {
              "outlinewidth": 0,
              "ticks": ""
             }
            },
            "type": "scatter3d"
           }
          ],
          "scattercarpet": [
           {
            "marker": {
             "colorbar": {
              "outlinewidth": 0,
              "ticks": ""
             }
            },
            "type": "scattercarpet"
           }
          ],
          "scattergeo": [
           {
            "marker": {
             "colorbar": {
              "outlinewidth": 0,
              "ticks": ""
             }
            },
            "type": "scattergeo"
           }
          ],
          "scattergl": [
           {
            "marker": {
             "colorbar": {
              "outlinewidth": 0,
              "ticks": ""
             }
            },
            "type": "scattergl"
           }
          ],
          "scattermapbox": [
           {
            "marker": {
             "colorbar": {
              "outlinewidth": 0,
              "ticks": ""
             }
            },
            "type": "scattermapbox"
           }
          ],
          "scatterpolar": [
           {
            "marker": {
             "colorbar": {
              "outlinewidth": 0,
              "ticks": ""
             }
            },
            "type": "scatterpolar"
           }
          ],
          "scatterpolargl": [
           {
            "marker": {
             "colorbar": {
              "outlinewidth": 0,
              "ticks": ""
             }
            },
            "type": "scatterpolargl"
           }
          ],
          "scatterternary": [
           {
            "marker": {
             "colorbar": {
              "outlinewidth": 0,
              "ticks": ""
             }
            },
            "type": "scatterternary"
           }
          ],
          "surface": [
           {
            "colorbar": {
             "outlinewidth": 0,
             "ticks": ""
            },
            "colorscale": [
             [
              0,
              "#0d0887"
             ],
             [
              0.1111111111111111,
              "#46039f"
             ],
             [
              0.2222222222222222,
              "#7201a8"
             ],
             [
              0.3333333333333333,
              "#9c179e"
             ],
             [
              0.4444444444444444,
              "#bd3786"
             ],
             [
              0.5555555555555556,
              "#d8576b"
             ],
             [
              0.6666666666666666,
              "#ed7953"
             ],
             [
              0.7777777777777778,
              "#fb9f3a"
             ],
             [
              0.8888888888888888,
              "#fdca26"
             ],
             [
              1,
              "#f0f921"
             ]
            ],
            "type": "surface"
           }
          ],
          "table": [
           {
            "cells": {
             "fill": {
              "color": "#EBF0F8"
             },
             "line": {
              "color": "white"
             }
            },
            "header": {
             "fill": {
              "color": "#C8D4E3"
             },
             "line": {
              "color": "white"
             }
            },
            "type": "table"
           }
          ]
         },
         "layout": {
          "annotationdefaults": {
           "arrowcolor": "#2a3f5f",
           "arrowhead": 0,
           "arrowwidth": 1
          },
          "autotypenumbers": "strict",
          "coloraxis": {
           "colorbar": {
            "outlinewidth": 0,
            "ticks": ""
           }
          },
          "colorscale": {
           "diverging": [
            [
             0,
             "#8e0152"
            ],
            [
             0.1,
             "#c51b7d"
            ],
            [
             0.2,
             "#de77ae"
            ],
            [
             0.3,
             "#f1b6da"
            ],
            [
             0.4,
             "#fde0ef"
            ],
            [
             0.5,
             "#f7f7f7"
            ],
            [
             0.6,
             "#e6f5d0"
            ],
            [
             0.7,
             "#b8e186"
            ],
            [
             0.8,
             "#7fbc41"
            ],
            [
             0.9,
             "#4d9221"
            ],
            [
             1,
             "#276419"
            ]
           ],
           "sequential": [
            [
             0,
             "#0d0887"
            ],
            [
             0.1111111111111111,
             "#46039f"
            ],
            [
             0.2222222222222222,
             "#7201a8"
            ],
            [
             0.3333333333333333,
             "#9c179e"
            ],
            [
             0.4444444444444444,
             "#bd3786"
            ],
            [
             0.5555555555555556,
             "#d8576b"
            ],
            [
             0.6666666666666666,
             "#ed7953"
            ],
            [
             0.7777777777777778,
             "#fb9f3a"
            ],
            [
             0.8888888888888888,
             "#fdca26"
            ],
            [
             1,
             "#f0f921"
            ]
           ],
           "sequentialminus": [
            [
             0,
             "#0d0887"
            ],
            [
             0.1111111111111111,
             "#46039f"
            ],
            [
             0.2222222222222222,
             "#7201a8"
            ],
            [
             0.3333333333333333,
             "#9c179e"
            ],
            [
             0.4444444444444444,
             "#bd3786"
            ],
            [
             0.5555555555555556,
             "#d8576b"
            ],
            [
             0.6666666666666666,
             "#ed7953"
            ],
            [
             0.7777777777777778,
             "#fb9f3a"
            ],
            [
             0.8888888888888888,
             "#fdca26"
            ],
            [
             1,
             "#f0f921"
            ]
           ]
          },
          "colorway": [
           "#636efa",
           "#EF553B",
           "#00cc96",
           "#ab63fa",
           "#FFA15A",
           "#19d3f3",
           "#FF6692",
           "#B6E880",
           "#FF97FF",
           "#FECB52"
          ],
          "font": {
           "color": "#2a3f5f"
          },
          "geo": {
           "bgcolor": "white",
           "lakecolor": "white",
           "landcolor": "#E5ECF6",
           "showlakes": true,
           "showland": true,
           "subunitcolor": "white"
          },
          "hoverlabel": {
           "align": "left"
          },
          "hovermode": "closest",
          "mapbox": {
           "style": "light"
          },
          "paper_bgcolor": "white",
          "plot_bgcolor": "#E5ECF6",
          "polar": {
           "angularaxis": {
            "gridcolor": "white",
            "linecolor": "white",
            "ticks": ""
           },
           "bgcolor": "#E5ECF6",
           "radialaxis": {
            "gridcolor": "white",
            "linecolor": "white",
            "ticks": ""
           }
          },
          "scene": {
           "xaxis": {
            "backgroundcolor": "#E5ECF6",
            "gridcolor": "white",
            "gridwidth": 2,
            "linecolor": "white",
            "showbackground": true,
            "ticks": "",
            "zerolinecolor": "white"
           },
           "yaxis": {
            "backgroundcolor": "#E5ECF6",
            "gridcolor": "white",
            "gridwidth": 2,
            "linecolor": "white",
            "showbackground": true,
            "ticks": "",
            "zerolinecolor": "white"
           },
           "zaxis": {
            "backgroundcolor": "#E5ECF6",
            "gridcolor": "white",
            "gridwidth": 2,
            "linecolor": "white",
            "showbackground": true,
            "ticks": "",
            "zerolinecolor": "white"
           }
          },
          "shapedefaults": {
           "line": {
            "color": "#2a3f5f"
           }
          },
          "ternary": {
           "aaxis": {
            "gridcolor": "white",
            "linecolor": "white",
            "ticks": ""
           },
           "baxis": {
            "gridcolor": "white",
            "linecolor": "white",
            "ticks": ""
           },
           "bgcolor": "#E5ECF6",
           "caxis": {
            "gridcolor": "white",
            "linecolor": "white",
            "ticks": ""
           }
          },
          "title": {
           "x": 0.05
          },
          "xaxis": {
           "automargin": true,
           "gridcolor": "white",
           "linecolor": "white",
           "ticks": "",
           "title": {
            "standoff": 15
           },
           "zerolinecolor": "white",
           "zerolinewidth": 2
          },
          "yaxis": {
           "automargin": true,
           "gridcolor": "white",
           "linecolor": "white",
           "ticks": "",
           "title": {
            "standoff": 15
           },
           "zerolinecolor": "white",
           "zerolinewidth": 2
          }
         }
        },
        "title": {
         "text": "Распределение значений периода полураспада среди различных типов последовательностей"
        },
        "width": 1200,
        "xaxis": {
         "anchor": "y",
         "domain": [
          0,
          0.45
         ]
        },
        "xaxis2": {
         "anchor": "y2",
         "domain": [
          0.55,
          1
         ]
        },
        "yaxis": {
         "anchor": "x",
         "domain": [
          0,
          1
         ]
        },
        "yaxis2": {
         "anchor": "x2",
         "domain": [
          0,
          1
         ]
        }
       }
      }
     },
     "metadata": {},
     "output_type": "display_data"
    }
   ],
   "source": [
    "# Создание подграфиков\n",
    "fig = make_subplots(rows=1, cols=2, subplot_titles=(\"Гистограмма \", \"Box Plot\"), column_widths=[0.5, 0.5])\n",
    "\n",
    "# Добавление гистограммы\n",
    "hist_fig = px.histogram(df, x = \"Stability t1/2, h\", color = 'Environment',\n",
    "         color_discrete_sequence = colors, category_orders={\"Environment\": sorted(df['Environment'].unique())},\n",
    "         opacity = 0.7)\n",
    "\n",
    "\n",
    "for trace in hist_fig['data']:\n",
    "    fig.add_trace(trace, row=1, col=1)\n",
    "\n",
    "# Добавление box диаграммы\n",
    "counts_dict = df.groupby('Environment').size().to_dict()  # Получаем количество значений для каждой категории в словарь\n",
    "box_fig = px.box(df, y=\"Stability t1/2, h\", x=\"Environment\", color=\"Environment\",\n",
    "        color_discrete_sequence=colors, category_orders={\"Environment\": sorted(df['Environment'].unique())},\n",
    "        hover_data={'Environment': True})  \n",
    "\n",
    "# Настраиваем hovertemplate для отображения количества значений\n",
    "for trace in box_fig['data']:\n",
    "    trace.hovertemplate = 'Environment: %{x}<br>Count: %{hovertext}<extra></extra>'\n",
    "    trace.hovertext = [counts_dict[cat] for cat in trace.x]  # Назначаем количество значений для каждого следа\n",
    "    fig.add_trace(trace, row=1, col=2)  # Добавляем каждый след на график\n",
    "\n",
    "# Настройка макета\n",
    "fig.update_layout(barmode='stack', showlegend=True, title_text=\"Распределение значений периода полураспада среди различных типов последовательностей\", height=600,  width=1200) \n",
    "\n",
    "fig.show()"
   ]
  },
  {
   "cell_type": "code",
   "execution_count": 27,
   "metadata": {},
   "outputs": [
    {
     "name": "stdout",
     "output_type": "stream",
     "text": [
      "3'-monothio: 5\n",
      "3'-dithio: 5\n",
      "5-[N-(1-naphthylmethyl)carboxamide]-2'-deoxyuridine: 4\n",
      "2'F-ANA: 16\n",
      "cholesterol: 2\n",
      "2'-fluoro: 39\n",
      "inverted 3'-thymine: 38\n",
      "galactose-polyethylene glycol: 1\n",
      "3'-thiophosphoryl: 14\n",
      "methylphosphonate: 1\n",
      "5-(N-benzylcarboxamide)-2'-deoxyuridine: 1\n",
      "2'-allyl: 6\n",
      "chimeric deoxyribonucleotide: 13\n",
      "2'-methoxy group: 42\n",
      "2'-methylene: 3\n",
      "2'-difluoromethylene: 3\n",
      "2'-amino: 10\n",
      "polyamine-polyethylene glycol 20 kDa: 2\n",
      "polyethylene glycol 20 kDa: 2\n",
      "polyamine-polyethylene glycol 40 kDa: 1\n",
      "polyethylene glycol 40 kDa: 3\n",
      "5' thiol: 27\n",
      "chimeric ribonucleotide: 2\n",
      "hexaethylene glycol linker: 2\n",
      "inverted: 3\n",
      "locked nucleic acid: 5\n",
      "hexilamine linker from the picture with polyethylene glycol: 2\n"
     ]
    }
   ],
   "source": [
    "import re\n",
    "from collections import defaultdict\n",
    "from modifications import modifications_dict\n",
    "\n",
    "# Регулярное выражение для поиска модификаций\n",
    "# Мы используем позиционный захват, чтобы найти модификации, которые не являются префиксами других модификаций\n",
    "modification_pattern = re.compile('|'.join(map(re.escape, modifications_dict.keys())))\n",
    "\n",
    "# Словарь для подсчета модификаций\n",
    "modification_count = defaultdict(int)\n",
    "\n",
    "# Проход по каждой строке в датасете\n",
    "for seq in df['Sequence']:\n",
    "    # Нахождение всех модификаций в строке\n",
    "    found_modifications = modification_pattern.findall(seq)\n",
    "    \n",
    "    # Множество для хранения уникальных модификаций в этой строке\n",
    "    unique_modifications = set()\n",
    "    \n",
    "    for mod in found_modifications:\n",
    "        # Проверяем, добавлена ли модификация в множество\n",
    "        if mod not in unique_modifications:\n",
    "            # Если нет, добавляем её и увеличиваем счетчик модификации\n",
    "            unique_modifications.add(mod)\n",
    "            modification_count[mod] += 1\n",
    "\n",
    "# Вывод результатов\n",
    "for mod, count in modification_count.items():\n",
    "    print(f\"{modifications_dict[mod]}: {count}\")"
   ]
  },
  {
   "cell_type": "code",
   "execution_count": 43,
   "metadata": {},
   "outputs": [
    {
     "data": {
      "application/vnd.plotly.v1+json": {
       "config": {
        "plotlyServerURL": "https://plot.ly"
       },
       "data": [
        {
         "alignmentgroup": "True",
         "hovertemplate": "Вид модификации=%{x}<br>Количество вхождений=%{text}<extra></extra>",
         "legendgroup": "3'-monothio",
         "marker": {
          "color": "#b5de2b",
          "pattern": {
           "shape": ""
          }
         },
         "name": "3'-monothio",
         "offsetgroup": "3'-monothio",
         "orientation": "v",
         "showlegend": true,
         "text": [
          5
         ],
         "textposition": "outside",
         "type": "bar",
         "x": [
          "3'-monothio"
         ],
         "xaxis": "x",
         "y": [
          5
         ],
         "yaxis": "y"
        },
        {
         "alignmentgroup": "True",
         "hovertemplate": "Вид модификации=%{x}<br>Количество вхождений=%{text}<extra></extra>",
         "legendgroup": "3'-dithio",
         "marker": {
          "color": "#6ece58",
          "pattern": {
           "shape": ""
          }
         },
         "name": "3'-dithio",
         "offsetgroup": "3'-dithio",
         "orientation": "v",
         "showlegend": true,
         "text": [
          5
         ],
         "textposition": "outside",
         "type": "bar",
         "x": [
          "3'-dithio"
         ],
         "xaxis": "x",
         "y": [
          5
         ],
         "yaxis": "y"
        },
        {
         "alignmentgroup": "True",
         "hovertemplate": "Вид модификации=%{x}<br>Количество вхождений=%{text}<extra></extra>",
         "legendgroup": "5-[N-(1-naphthylmethyl)carboxamide]-2'-deoxyuridine",
         "marker": {
          "color": "#35b779",
          "pattern": {
           "shape": ""
          }
         },
         "name": "5-[N-(1-naphthylmethyl)carboxamide]-2'-deoxyuridine",
         "offsetgroup": "5-[N-(1-naphthylmethyl)carboxamide]-2'-deoxyuridine",
         "orientation": "v",
         "showlegend": true,
         "text": [
          4
         ],
         "textposition": "outside",
         "type": "bar",
         "x": [
          "5-[N-(1-naphthylmethyl)carboxamide]-2'-deoxyuridine"
         ],
         "xaxis": "x",
         "y": [
          4
         ],
         "yaxis": "y"
        },
        {
         "alignmentgroup": "True",
         "hovertemplate": "Вид модификации=%{x}<br>Количество вхождений=%{text}<extra></extra>",
         "legendgroup": "2'F-ANA",
         "marker": {
          "color": "#1f9e89",
          "pattern": {
           "shape": ""
          }
         },
         "name": "2'F-ANA",
         "offsetgroup": "2'F-ANA",
         "orientation": "v",
         "showlegend": true,
         "text": [
          16
         ],
         "textposition": "outside",
         "type": "bar",
         "x": [
          "2'F-ANA"
         ],
         "xaxis": "x",
         "y": [
          16
         ],
         "yaxis": "y"
        },
        {
         "alignmentgroup": "True",
         "hovertemplate": "Вид модификации=%{x}<br>Количество вхождений=%{text}<extra></extra>",
         "legendgroup": "cholesterol",
         "marker": {
          "color": "#26828e",
          "pattern": {
           "shape": ""
          }
         },
         "name": "cholesterol",
         "offsetgroup": "cholesterol",
         "orientation": "v",
         "showlegend": true,
         "text": [
          2
         ],
         "textposition": "outside",
         "type": "bar",
         "x": [
          "cholesterol"
         ],
         "xaxis": "x",
         "y": [
          2
         ],
         "yaxis": "y"
        },
        {
         "alignmentgroup": "True",
         "hovertemplate": "Вид модификации=%{x}<br>Количество вхождений=%{text}<extra></extra>",
         "legendgroup": "2'-fluoro",
         "marker": {
          "color": "#31688e",
          "pattern": {
           "shape": ""
          }
         },
         "name": "2'-fluoro",
         "offsetgroup": "2'-fluoro",
         "orientation": "v",
         "showlegend": true,
         "text": [
          39
         ],
         "textposition": "outside",
         "type": "bar",
         "x": [
          "2'-fluoro"
         ],
         "xaxis": "x",
         "y": [
          39
         ],
         "yaxis": "y"
        },
        {
         "alignmentgroup": "True",
         "hovertemplate": "Вид модификации=%{x}<br>Количество вхождений=%{text}<extra></extra>",
         "legendgroup": "inverted 3'-thymine",
         "marker": {
          "color": "#3e4989",
          "pattern": {
           "shape": ""
          }
         },
         "name": "inverted 3'-thymine",
         "offsetgroup": "inverted 3'-thymine",
         "orientation": "v",
         "showlegend": true,
         "text": [
          38
         ],
         "textposition": "outside",
         "type": "bar",
         "x": [
          "inverted 3'-thymine"
         ],
         "xaxis": "x",
         "y": [
          38
         ],
         "yaxis": "y"
        },
        {
         "alignmentgroup": "True",
         "hovertemplate": "Вид модификации=%{x}<br>Количество вхождений=%{text}<extra></extra>",
         "legendgroup": "galactose-polyethylene glycol",
         "marker": {
          "color": "#482878",
          "pattern": {
           "shape": ""
          }
         },
         "name": "galactose-polyethylene glycol",
         "offsetgroup": "galactose-polyethylene glycol",
         "orientation": "v",
         "showlegend": true,
         "text": [
          1
         ],
         "textposition": "outside",
         "type": "bar",
         "x": [
          "galactose-polyethylene glycol"
         ],
         "xaxis": "x",
         "y": [
          1
         ],
         "yaxis": "y"
        },
        {
         "alignmentgroup": "True",
         "hovertemplate": "Вид модификации=%{x}<br>Количество вхождений=%{text}<extra></extra>",
         "legendgroup": "3'-thiophosphoryl",
         "marker": {
          "color": "#440154",
          "pattern": {
           "shape": ""
          }
         },
         "name": "3'-thiophosphoryl",
         "offsetgroup": "3'-thiophosphoryl",
         "orientation": "v",
         "showlegend": true,
         "text": [
          14
         ],
         "textposition": "outside",
         "type": "bar",
         "x": [
          "3'-thiophosphoryl"
         ],
         "xaxis": "x",
         "y": [
          14
         ],
         "yaxis": "y"
        },
        {
         "alignmentgroup": "True",
         "hovertemplate": "Вид модификации=%{x}<br>Количество вхождений=%{text}<extra></extra>",
         "legendgroup": "methylphosphonate",
         "marker": {
          "color": "#253494",
          "pattern": {
           "shape": ""
          }
         },
         "name": "methylphosphonate",
         "offsetgroup": "methylphosphonate",
         "orientation": "v",
         "showlegend": true,
         "text": [
          1
         ],
         "textposition": "outside",
         "type": "bar",
         "x": [
          "methylphosphonate"
         ],
         "xaxis": "x",
         "y": [
          1
         ],
         "yaxis": "y"
        },
        {
         "alignmentgroup": "True",
         "hovertemplate": "Вид модификации=%{x}<br>Количество вхождений=%{text}<extra></extra>",
         "legendgroup": "5-(N-benzylcarboxamide)-2'-deoxyuridine",
         "marker": {
          "color": "#225ea8",
          "pattern": {
           "shape": ""
          }
         },
         "name": "5-(N-benzylcarboxamide)-2'-deoxyuridine",
         "offsetgroup": "5-(N-benzylcarboxamide)-2'-deoxyuridine",
         "orientation": "v",
         "showlegend": true,
         "text": [
          1
         ],
         "textposition": "outside",
         "type": "bar",
         "x": [
          "5-(N-benzylcarboxamide)-2'-deoxyuridine"
         ],
         "xaxis": "x",
         "y": [
          1
         ],
         "yaxis": "y"
        },
        {
         "alignmentgroup": "True",
         "hovertemplate": "Вид модификации=%{x}<br>Количество вхождений=%{text}<extra></extra>",
         "legendgroup": "2'-allyl",
         "marker": {
          "color": "#1d91c0",
          "pattern": {
           "shape": ""
          }
         },
         "name": "2'-allyl",
         "offsetgroup": "2'-allyl",
         "orientation": "v",
         "showlegend": true,
         "text": [
          6
         ],
         "textposition": "outside",
         "type": "bar",
         "x": [
          "2'-allyl"
         ],
         "xaxis": "x",
         "y": [
          6
         ],
         "yaxis": "y"
        },
        {
         "alignmentgroup": "True",
         "hovertemplate": "Вид модификации=%{x}<br>Количество вхождений=%{text}<extra></extra>",
         "legendgroup": "chimeric deoxyribonucleotide",
         "marker": {
          "color": "#41b6c4",
          "pattern": {
           "shape": ""
          }
         },
         "name": "chimeric deoxyribonucleotide",
         "offsetgroup": "chimeric deoxyribonucleotide",
         "orientation": "v",
         "showlegend": true,
         "text": [
          13
         ],
         "textposition": "outside",
         "type": "bar",
         "x": [
          "chimeric deoxyribonucleotide"
         ],
         "xaxis": "x",
         "y": [
          13
         ],
         "yaxis": "y"
        },
        {
         "alignmentgroup": "True",
         "hovertemplate": "Вид модификации=%{x}<br>Количество вхождений=%{text}<extra></extra>",
         "legendgroup": "2'-methoxy group",
         "marker": {
          "color": "#7fcdbb",
          "pattern": {
           "shape": ""
          }
         },
         "name": "2'-methoxy group",
         "offsetgroup": "2'-methoxy group",
         "orientation": "v",
         "showlegend": true,
         "text": [
          42
         ],
         "textposition": "outside",
         "type": "bar",
         "x": [
          "2'-methoxy group"
         ],
         "xaxis": "x",
         "y": [
          42
         ],
         "yaxis": "y"
        },
        {
         "alignmentgroup": "True",
         "hovertemplate": "Вид модификации=%{x}<br>Количество вхождений=%{text}<extra></extra>",
         "legendgroup": "2'-methylene",
         "marker": {
          "color": "#c7e9b4",
          "pattern": {
           "shape": ""
          }
         },
         "name": "2'-methylene",
         "offsetgroup": "2'-methylene",
         "orientation": "v",
         "showlegend": true,
         "text": [
          3
         ],
         "textposition": "outside",
         "type": "bar",
         "x": [
          "2'-methylene"
         ],
         "xaxis": "x",
         "y": [
          3
         ],
         "yaxis": "y"
        },
        {
         "alignmentgroup": "True",
         "hovertemplate": "Вид модификации=%{x}<br>Количество вхождений=%{text}<extra></extra>",
         "legendgroup": "2'-difluoromethylene",
         "marker": {
          "color": "#edf8b1",
          "pattern": {
           "shape": ""
          }
         },
         "name": "2'-difluoromethylene",
         "offsetgroup": "2'-difluoromethylene",
         "orientation": "v",
         "showlegend": true,
         "text": [
          3
         ],
         "textposition": "outside",
         "type": "bar",
         "x": [
          "2'-difluoromethylene"
         ],
         "xaxis": "x",
         "y": [
          3
         ],
         "yaxis": "y"
        },
        {
         "alignmentgroup": "True",
         "hovertemplate": "Вид модификации=%{x}<br>Количество вхождений=%{text}<extra></extra>",
         "legendgroup": "2'-amino",
         "marker": {
          "color": "#ffffd9",
          "pattern": {
           "shape": ""
          }
         },
         "name": "2'-amino",
         "offsetgroup": "2'-amino",
         "orientation": "v",
         "showlegend": true,
         "text": [
          10
         ],
         "textposition": "outside",
         "type": "bar",
         "x": [
          "2'-amino"
         ],
         "xaxis": "x",
         "y": [
          10
         ],
         "yaxis": "y"
        },
        {
         "alignmentgroup": "True",
         "hovertemplate": "Вид модификации=%{x}<br>Количество вхождений=%{text}<extra></extra>",
         "legendgroup": "polyamine-polyethylene glycol 20 kDa",
         "marker": {
          "color": "#b5de2b",
          "pattern": {
           "shape": ""
          }
         },
         "name": "polyamine-polyethylene glycol 20 kDa",
         "offsetgroup": "polyamine-polyethylene glycol 20 kDa",
         "orientation": "v",
         "showlegend": true,
         "text": [
          2
         ],
         "textposition": "outside",
         "type": "bar",
         "x": [
          "polyamine-polyethylene glycol 20 kDa"
         ],
         "xaxis": "x",
         "y": [
          2
         ],
         "yaxis": "y"
        },
        {
         "alignmentgroup": "True",
         "hovertemplate": "Вид модификации=%{x}<br>Количество вхождений=%{text}<extra></extra>",
         "legendgroup": "polyethylene glycol 20 kDa",
         "marker": {
          "color": "#6ece58",
          "pattern": {
           "shape": ""
          }
         },
         "name": "polyethylene glycol 20 kDa",
         "offsetgroup": "polyethylene glycol 20 kDa",
         "orientation": "v",
         "showlegend": true,
         "text": [
          2
         ],
         "textposition": "outside",
         "type": "bar",
         "x": [
          "polyethylene glycol 20 kDa"
         ],
         "xaxis": "x",
         "y": [
          2
         ],
         "yaxis": "y"
        },
        {
         "alignmentgroup": "True",
         "hovertemplate": "Вид модификации=%{x}<br>Количество вхождений=%{text}<extra></extra>",
         "legendgroup": "polyamine-polyethylene glycol 40 kDa",
         "marker": {
          "color": "#35b779",
          "pattern": {
           "shape": ""
          }
         },
         "name": "polyamine-polyethylene glycol 40 kDa",
         "offsetgroup": "polyamine-polyethylene glycol 40 kDa",
         "orientation": "v",
         "showlegend": true,
         "text": [
          1
         ],
         "textposition": "outside",
         "type": "bar",
         "x": [
          "polyamine-polyethylene glycol 40 kDa"
         ],
         "xaxis": "x",
         "y": [
          1
         ],
         "yaxis": "y"
        },
        {
         "alignmentgroup": "True",
         "hovertemplate": "Вид модификации=%{x}<br>Количество вхождений=%{text}<extra></extra>",
         "legendgroup": "polyethylene glycol 40 kDa",
         "marker": {
          "color": "#1f9e89",
          "pattern": {
           "shape": ""
          }
         },
         "name": "polyethylene glycol 40 kDa",
         "offsetgroup": "polyethylene glycol 40 kDa",
         "orientation": "v",
         "showlegend": true,
         "text": [
          3
         ],
         "textposition": "outside",
         "type": "bar",
         "x": [
          "polyethylene glycol 40 kDa"
         ],
         "xaxis": "x",
         "y": [
          3
         ],
         "yaxis": "y"
        },
        {
         "alignmentgroup": "True",
         "hovertemplate": "Вид модификации=%{x}<br>Количество вхождений=%{text}<extra></extra>",
         "legendgroup": "5' thiol",
         "marker": {
          "color": "#26828e",
          "pattern": {
           "shape": ""
          }
         },
         "name": "5' thiol",
         "offsetgroup": "5' thiol",
         "orientation": "v",
         "showlegend": true,
         "text": [
          27
         ],
         "textposition": "outside",
         "type": "bar",
         "x": [
          "5' thiol"
         ],
         "xaxis": "x",
         "y": [
          27
         ],
         "yaxis": "y"
        },
        {
         "alignmentgroup": "True",
         "hovertemplate": "Вид модификации=%{x}<br>Количество вхождений=%{text}<extra></extra>",
         "legendgroup": "chimeric ribonucleotide",
         "marker": {
          "color": "#31688e",
          "pattern": {
           "shape": ""
          }
         },
         "name": "chimeric ribonucleotide",
         "offsetgroup": "chimeric ribonucleotide",
         "orientation": "v",
         "showlegend": true,
         "text": [
          2
         ],
         "textposition": "outside",
         "type": "bar",
         "x": [
          "chimeric ribonucleotide"
         ],
         "xaxis": "x",
         "y": [
          2
         ],
         "yaxis": "y"
        },
        {
         "alignmentgroup": "True",
         "hovertemplate": "Вид модификации=%{x}<br>Количество вхождений=%{text}<extra></extra>",
         "legendgroup": "hexaethylene glycol linker",
         "marker": {
          "color": "#3e4989",
          "pattern": {
           "shape": ""
          }
         },
         "name": "hexaethylene glycol linker",
         "offsetgroup": "hexaethylene glycol linker",
         "orientation": "v",
         "showlegend": true,
         "text": [
          2
         ],
         "textposition": "outside",
         "type": "bar",
         "x": [
          "hexaethylene glycol linker"
         ],
         "xaxis": "x",
         "y": [
          2
         ],
         "yaxis": "y"
        },
        {
         "alignmentgroup": "True",
         "hovertemplate": "Вид модификации=%{x}<br>Количество вхождений=%{text}<extra></extra>",
         "legendgroup": "inverted",
         "marker": {
          "color": "#482878",
          "pattern": {
           "shape": ""
          }
         },
         "name": "inverted",
         "offsetgroup": "inverted",
         "orientation": "v",
         "showlegend": true,
         "text": [
          3
         ],
         "textposition": "outside",
         "type": "bar",
         "x": [
          "inverted"
         ],
         "xaxis": "x",
         "y": [
          3
         ],
         "yaxis": "y"
        },
        {
         "alignmentgroup": "True",
         "hovertemplate": "Вид модификации=%{x}<br>Количество вхождений=%{text}<extra></extra>",
         "legendgroup": "locked nucleic acid",
         "marker": {
          "color": "#440154",
          "pattern": {
           "shape": ""
          }
         },
         "name": "locked nucleic acid",
         "offsetgroup": "locked nucleic acid",
         "orientation": "v",
         "showlegend": true,
         "text": [
          5
         ],
         "textposition": "outside",
         "type": "bar",
         "x": [
          "locked nucleic acid"
         ],
         "xaxis": "x",
         "y": [
          5
         ],
         "yaxis": "y"
        },
        {
         "alignmentgroup": "True",
         "hovertemplate": "Вид модификации=%{x}<br>Количество вхождений=%{text}<extra></extra>",
         "legendgroup": "hexilamine linker from the picture with polyethylene glycol",
         "marker": {
          "color": "#253494",
          "pattern": {
           "shape": ""
          }
         },
         "name": "hexilamine linker from the picture with polyethylene glycol",
         "offsetgroup": "hexilamine linker from the picture with polyethylene glycol",
         "orientation": "v",
         "showlegend": true,
         "text": [
          2
         ],
         "textposition": "outside",
         "type": "bar",
         "x": [
          "hexilamine linker from the picture with polyethylene glycol"
         ],
         "xaxis": "x",
         "y": [
          2
         ],
         "yaxis": "y"
        }
       ],
       "layout": {
        "barmode": "relative",
        "height": 600,
        "legend": {
         "title": {
          "text": "Вид модификации"
         },
         "tracegroupgap": 0
        },
        "showlegend": false,
        "template": {
         "data": {
          "bar": [
           {
            "error_x": {
             "color": "#2a3f5f"
            },
            "error_y": {
             "color": "#2a3f5f"
            },
            "marker": {
             "line": {
              "color": "#E5ECF6",
              "width": 0.5
             },
             "pattern": {
              "fillmode": "overlay",
              "size": 10,
              "solidity": 0.2
             }
            },
            "type": "bar"
           }
          ],
          "barpolar": [
           {
            "marker": {
             "line": {
              "color": "#E5ECF6",
              "width": 0.5
             },
             "pattern": {
              "fillmode": "overlay",
              "size": 10,
              "solidity": 0.2
             }
            },
            "type": "barpolar"
           }
          ],
          "carpet": [
           {
            "aaxis": {
             "endlinecolor": "#2a3f5f",
             "gridcolor": "white",
             "linecolor": "white",
             "minorgridcolor": "white",
             "startlinecolor": "#2a3f5f"
            },
            "baxis": {
             "endlinecolor": "#2a3f5f",
             "gridcolor": "white",
             "linecolor": "white",
             "minorgridcolor": "white",
             "startlinecolor": "#2a3f5f"
            },
            "type": "carpet"
           }
          ],
          "choropleth": [
           {
            "colorbar": {
             "outlinewidth": 0,
             "ticks": ""
            },
            "type": "choropleth"
           }
          ],
          "contour": [
           {
            "colorbar": {
             "outlinewidth": 0,
             "ticks": ""
            },
            "colorscale": [
             [
              0,
              "#0d0887"
             ],
             [
              0.1111111111111111,
              "#46039f"
             ],
             [
              0.2222222222222222,
              "#7201a8"
             ],
             [
              0.3333333333333333,
              "#9c179e"
             ],
             [
              0.4444444444444444,
              "#bd3786"
             ],
             [
              0.5555555555555556,
              "#d8576b"
             ],
             [
              0.6666666666666666,
              "#ed7953"
             ],
             [
              0.7777777777777778,
              "#fb9f3a"
             ],
             [
              0.8888888888888888,
              "#fdca26"
             ],
             [
              1,
              "#f0f921"
             ]
            ],
            "type": "contour"
           }
          ],
          "contourcarpet": [
           {
            "colorbar": {
             "outlinewidth": 0,
             "ticks": ""
            },
            "type": "contourcarpet"
           }
          ],
          "heatmap": [
           {
            "colorbar": {
             "outlinewidth": 0,
             "ticks": ""
            },
            "colorscale": [
             [
              0,
              "#0d0887"
             ],
             [
              0.1111111111111111,
              "#46039f"
             ],
             [
              0.2222222222222222,
              "#7201a8"
             ],
             [
              0.3333333333333333,
              "#9c179e"
             ],
             [
              0.4444444444444444,
              "#bd3786"
             ],
             [
              0.5555555555555556,
              "#d8576b"
             ],
             [
              0.6666666666666666,
              "#ed7953"
             ],
             [
              0.7777777777777778,
              "#fb9f3a"
             ],
             [
              0.8888888888888888,
              "#fdca26"
             ],
             [
              1,
              "#f0f921"
             ]
            ],
            "type": "heatmap"
           }
          ],
          "heatmapgl": [
           {
            "colorbar": {
             "outlinewidth": 0,
             "ticks": ""
            },
            "colorscale": [
             [
              0,
              "#0d0887"
             ],
             [
              0.1111111111111111,
              "#46039f"
             ],
             [
              0.2222222222222222,
              "#7201a8"
             ],
             [
              0.3333333333333333,
              "#9c179e"
             ],
             [
              0.4444444444444444,
              "#bd3786"
             ],
             [
              0.5555555555555556,
              "#d8576b"
             ],
             [
              0.6666666666666666,
              "#ed7953"
             ],
             [
              0.7777777777777778,
              "#fb9f3a"
             ],
             [
              0.8888888888888888,
              "#fdca26"
             ],
             [
              1,
              "#f0f921"
             ]
            ],
            "type": "heatmapgl"
           }
          ],
          "histogram": [
           {
            "marker": {
             "pattern": {
              "fillmode": "overlay",
              "size": 10,
              "solidity": 0.2
             }
            },
            "type": "histogram"
           }
          ],
          "histogram2d": [
           {
            "colorbar": {
             "outlinewidth": 0,
             "ticks": ""
            },
            "colorscale": [
             [
              0,
              "#0d0887"
             ],
             [
              0.1111111111111111,
              "#46039f"
             ],
             [
              0.2222222222222222,
              "#7201a8"
             ],
             [
              0.3333333333333333,
              "#9c179e"
             ],
             [
              0.4444444444444444,
              "#bd3786"
             ],
             [
              0.5555555555555556,
              "#d8576b"
             ],
             [
              0.6666666666666666,
              "#ed7953"
             ],
             [
              0.7777777777777778,
              "#fb9f3a"
             ],
             [
              0.8888888888888888,
              "#fdca26"
             ],
             [
              1,
              "#f0f921"
             ]
            ],
            "type": "histogram2d"
           }
          ],
          "histogram2dcontour": [
           {
            "colorbar": {
             "outlinewidth": 0,
             "ticks": ""
            },
            "colorscale": [
             [
              0,
              "#0d0887"
             ],
             [
              0.1111111111111111,
              "#46039f"
             ],
             [
              0.2222222222222222,
              "#7201a8"
             ],
             [
              0.3333333333333333,
              "#9c179e"
             ],
             [
              0.4444444444444444,
              "#bd3786"
             ],
             [
              0.5555555555555556,
              "#d8576b"
             ],
             [
              0.6666666666666666,
              "#ed7953"
             ],
             [
              0.7777777777777778,
              "#fb9f3a"
             ],
             [
              0.8888888888888888,
              "#fdca26"
             ],
             [
              1,
              "#f0f921"
             ]
            ],
            "type": "histogram2dcontour"
           }
          ],
          "mesh3d": [
           {
            "colorbar": {
             "outlinewidth": 0,
             "ticks": ""
            },
            "type": "mesh3d"
           }
          ],
          "parcoords": [
           {
            "line": {
             "colorbar": {
              "outlinewidth": 0,
              "ticks": ""
             }
            },
            "type": "parcoords"
           }
          ],
          "pie": [
           {
            "automargin": true,
            "type": "pie"
           }
          ],
          "scatter": [
           {
            "fillpattern": {
             "fillmode": "overlay",
             "size": 10,
             "solidity": 0.2
            },
            "type": "scatter"
           }
          ],
          "scatter3d": [
           {
            "line": {
             "colorbar": {
              "outlinewidth": 0,
              "ticks": ""
             }
            },
            "marker": {
             "colorbar": {
              "outlinewidth": 0,
              "ticks": ""
             }
            },
            "type": "scatter3d"
           }
          ],
          "scattercarpet": [
           {
            "marker": {
             "colorbar": {
              "outlinewidth": 0,
              "ticks": ""
             }
            },
            "type": "scattercarpet"
           }
          ],
          "scattergeo": [
           {
            "marker": {
             "colorbar": {
              "outlinewidth": 0,
              "ticks": ""
             }
            },
            "type": "scattergeo"
           }
          ],
          "scattergl": [
           {
            "marker": {
             "colorbar": {
              "outlinewidth": 0,
              "ticks": ""
             }
            },
            "type": "scattergl"
           }
          ],
          "scattermapbox": [
           {
            "marker": {
             "colorbar": {
              "outlinewidth": 0,
              "ticks": ""
             }
            },
            "type": "scattermapbox"
           }
          ],
          "scatterpolar": [
           {
            "marker": {
             "colorbar": {
              "outlinewidth": 0,
              "ticks": ""
             }
            },
            "type": "scatterpolar"
           }
          ],
          "scatterpolargl": [
           {
            "marker": {
             "colorbar": {
              "outlinewidth": 0,
              "ticks": ""
             }
            },
            "type": "scatterpolargl"
           }
          ],
          "scatterternary": [
           {
            "marker": {
             "colorbar": {
              "outlinewidth": 0,
              "ticks": ""
             }
            },
            "type": "scatterternary"
           }
          ],
          "surface": [
           {
            "colorbar": {
             "outlinewidth": 0,
             "ticks": ""
            },
            "colorscale": [
             [
              0,
              "#0d0887"
             ],
             [
              0.1111111111111111,
              "#46039f"
             ],
             [
              0.2222222222222222,
              "#7201a8"
             ],
             [
              0.3333333333333333,
              "#9c179e"
             ],
             [
              0.4444444444444444,
              "#bd3786"
             ],
             [
              0.5555555555555556,
              "#d8576b"
             ],
             [
              0.6666666666666666,
              "#ed7953"
             ],
             [
              0.7777777777777778,
              "#fb9f3a"
             ],
             [
              0.8888888888888888,
              "#fdca26"
             ],
             [
              1,
              "#f0f921"
             ]
            ],
            "type": "surface"
           }
          ],
          "table": [
           {
            "cells": {
             "fill": {
              "color": "#EBF0F8"
             },
             "line": {
              "color": "white"
             }
            },
            "header": {
             "fill": {
              "color": "#C8D4E3"
             },
             "line": {
              "color": "white"
             }
            },
            "type": "table"
           }
          ]
         },
         "layout": {
          "annotationdefaults": {
           "arrowcolor": "#2a3f5f",
           "arrowhead": 0,
           "arrowwidth": 1
          },
          "autotypenumbers": "strict",
          "coloraxis": {
           "colorbar": {
            "outlinewidth": 0,
            "ticks": ""
           }
          },
          "colorscale": {
           "diverging": [
            [
             0,
             "#8e0152"
            ],
            [
             0.1,
             "#c51b7d"
            ],
            [
             0.2,
             "#de77ae"
            ],
            [
             0.3,
             "#f1b6da"
            ],
            [
             0.4,
             "#fde0ef"
            ],
            [
             0.5,
             "#f7f7f7"
            ],
            [
             0.6,
             "#e6f5d0"
            ],
            [
             0.7,
             "#b8e186"
            ],
            [
             0.8,
             "#7fbc41"
            ],
            [
             0.9,
             "#4d9221"
            ],
            [
             1,
             "#276419"
            ]
           ],
           "sequential": [
            [
             0,
             "#0d0887"
            ],
            [
             0.1111111111111111,
             "#46039f"
            ],
            [
             0.2222222222222222,
             "#7201a8"
            ],
            [
             0.3333333333333333,
             "#9c179e"
            ],
            [
             0.4444444444444444,
             "#bd3786"
            ],
            [
             0.5555555555555556,
             "#d8576b"
            ],
            [
             0.6666666666666666,
             "#ed7953"
            ],
            [
             0.7777777777777778,
             "#fb9f3a"
            ],
            [
             0.8888888888888888,
             "#fdca26"
            ],
            [
             1,
             "#f0f921"
            ]
           ],
           "sequentialminus": [
            [
             0,
             "#0d0887"
            ],
            [
             0.1111111111111111,
             "#46039f"
            ],
            [
             0.2222222222222222,
             "#7201a8"
            ],
            [
             0.3333333333333333,
             "#9c179e"
            ],
            [
             0.4444444444444444,
             "#bd3786"
            ],
            [
             0.5555555555555556,
             "#d8576b"
            ],
            [
             0.6666666666666666,
             "#ed7953"
            ],
            [
             0.7777777777777778,
             "#fb9f3a"
            ],
            [
             0.8888888888888888,
             "#fdca26"
            ],
            [
             1,
             "#f0f921"
            ]
           ]
          },
          "colorway": [
           "#636efa",
           "#EF553B",
           "#00cc96",
           "#ab63fa",
           "#FFA15A",
           "#19d3f3",
           "#FF6692",
           "#B6E880",
           "#FF97FF",
           "#FECB52"
          ],
          "font": {
           "color": "#2a3f5f"
          },
          "geo": {
           "bgcolor": "white",
           "lakecolor": "white",
           "landcolor": "#E5ECF6",
           "showlakes": true,
           "showland": true,
           "subunitcolor": "white"
          },
          "hoverlabel": {
           "align": "left"
          },
          "hovermode": "closest",
          "mapbox": {
           "style": "light"
          },
          "paper_bgcolor": "white",
          "plot_bgcolor": "#E5ECF6",
          "polar": {
           "angularaxis": {
            "gridcolor": "white",
            "linecolor": "white",
            "ticks": ""
           },
           "bgcolor": "#E5ECF6",
           "radialaxis": {
            "gridcolor": "white",
            "linecolor": "white",
            "ticks": ""
           }
          },
          "scene": {
           "xaxis": {
            "backgroundcolor": "#E5ECF6",
            "gridcolor": "white",
            "gridwidth": 2,
            "linecolor": "white",
            "showbackground": true,
            "ticks": "",
            "zerolinecolor": "white"
           },
           "yaxis": {
            "backgroundcolor": "#E5ECF6",
            "gridcolor": "white",
            "gridwidth": 2,
            "linecolor": "white",
            "showbackground": true,
            "ticks": "",
            "zerolinecolor": "white"
           },
           "zaxis": {
            "backgroundcolor": "#E5ECF6",
            "gridcolor": "white",
            "gridwidth": 2,
            "linecolor": "white",
            "showbackground": true,
            "ticks": "",
            "zerolinecolor": "white"
           }
          },
          "shapedefaults": {
           "line": {
            "color": "#2a3f5f"
           }
          },
          "ternary": {
           "aaxis": {
            "gridcolor": "white",
            "linecolor": "white",
            "ticks": ""
           },
           "baxis": {
            "gridcolor": "white",
            "linecolor": "white",
            "ticks": ""
           },
           "bgcolor": "#E5ECF6",
           "caxis": {
            "gridcolor": "white",
            "linecolor": "white",
            "ticks": ""
           }
          },
          "title": {
           "x": 0.05
          },
          "xaxis": {
           "automargin": true,
           "gridcolor": "white",
           "linecolor": "white",
           "ticks": "",
           "title": {
            "standoff": 15
           },
           "zerolinecolor": "white",
           "zerolinewidth": 2
          },
          "yaxis": {
           "automargin": true,
           "gridcolor": "white",
           "linecolor": "white",
           "ticks": "",
           "title": {
            "standoff": 15
           },
           "zerolinecolor": "white",
           "zerolinewidth": 2
          }
         }
        },
        "title": {
         "text": "Количество модификаций каждого вида"
        },
        "width": 1200,
        "xaxis": {
         "anchor": "y",
         "categoryarray": [
          "3'-monothio",
          "3'-dithio",
          "5-[N-(1-naphthylmethyl)carboxamide]-2'-deoxyuridine",
          "2'F-ANA",
          "cholesterol",
          "2'-fluoro",
          "inverted 3'-thymine",
          "galactose-polyethylene glycol",
          "3'-thiophosphoryl",
          "methylphosphonate",
          "5-(N-benzylcarboxamide)-2'-deoxyuridine",
          "2'-allyl",
          "chimeric deoxyribonucleotide",
          "2'-methoxy group",
          "2'-methylene",
          "2'-difluoromethylene",
          "2'-amino",
          "polyamine-polyethylene glycol 20 kDa",
          "polyethylene glycol 20 kDa",
          "polyamine-polyethylene glycol 40 kDa",
          "polyethylene glycol 40 kDa",
          "5' thiol",
          "chimeric ribonucleotide",
          "hexaethylene glycol linker",
          "inverted",
          "locked nucleic acid",
          "hexilamine linker from the picture with polyethylene glycol"
         ],
         "categoryorder": "array",
         "domain": [
          0,
          1
         ],
         "title": {
          "text": "Вид модификации"
         }
        },
        "yaxis": {
         "anchor": "x",
         "domain": [
          0,
          1
         ],
         "title": {
          "text": "Количество вхождений"
         }
        }
       }
      }
     },
     "metadata": {},
     "output_type": "display_data"
    }
   ],
   "source": [
    "modification_df = pd.DataFrame.from_dict(modification_count, orient='index', columns=['Count'])\n",
    "modification_df = modification_df.reset_index()\n",
    "modification_df['Modification'] = modification_df['index'].map(modifications_dict)\n",
    "\n",
    "# Создание столбчатой диаграммы\n",
    "fig = px.bar(\n",
    "    modification_df, \n",
    "    x='Modification', \n",
    "    y='Count', \n",
    "    color='Modification', \n",
    "    color_discrete_sequence=colors, \n",
    "    title='Количество модификаций каждого вида',\n",
    "    labels={'Modification': 'Вид модификации', 'Count': 'Количество вхождений'},\n",
    "    text='Count'  # Добавляем значения на столбцы\n",
    ")\n",
    "\n",
    "fig.update_layout(\n",
    "    showlegend=False,    \n",
    "    height=600,  width=1200\n",
    ")\n",
    "\n",
    "fig.update_traces(textposition='outside')\n",
    "\n",
    "# Отображение графика\n",
    "fig.show()"
   ]
  }
 ],
 "metadata": {
  "kernelspec": {
   "display_name": "my_env",
   "language": "python",
   "name": "python3"
  },
  "language_info": {
   "codemirror_mode": {
    "name": "ipython",
    "version": 3
   },
   "file_extension": ".py",
   "mimetype": "text/x-python",
   "name": "python",
   "nbconvert_exporter": "python",
   "pygments_lexer": "ipython3",
   "version": "3.12.5"
  }
 },
 "nbformat": 4,
 "nbformat_minor": 2
}
